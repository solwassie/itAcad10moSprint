{
 "cells": [
  {
   "cell_type": "markdown",
   "metadata": {},
   "source": [
    "# Colesterol y Presión Arterial en Pacientes con Enfermedades Cardiovasculares a Partir de los 50 Años: Un Análisis Diferenciado por Sexo"
   ]
  },
  {
   "cell_type": "markdown",
   "metadata": {},
   "source": [
    "Manu Siddhartha. (2020). Heart Disease Dataset (Comprehensive). IEEE Dataport. https://dx.doi.org/10.21227/dz4t-cm36\n",
    "\n",
    "Este dataset combina 5 popular datasets populares, donde contiene over 11 columnas con datos sobre enfermedad cardiovascular, permitiendo así su uso para una gran cantidad de estudios de análisis de datos y Machine Learning. Se usan datasets de las siguientes regiones en esta combinación:\n",
    "\n",
    "Cleveland,\n",
    "Hungarian,\n",
    "Switzerland,\n",
    "Long Beach VA,\n",
    "Statlog (Heart) Data Set."
   ]
  },
  {
   "cell_type": "code",
   "execution_count": null,
   "metadata": {},
   "outputs": [
    {
     "data": {
      "text/html": [
       "<div>\n",
       "<style scoped>\n",
       "    .dataframe tbody tr th:only-of-type {\n",
       "        vertical-align: middle;\n",
       "    }\n",
       "\n",
       "    .dataframe tbody tr th {\n",
       "        vertical-align: top;\n",
       "    }\n",
       "\n",
       "    .dataframe thead th {\n",
       "        text-align: right;\n",
       "    }\n",
       "</style>\n",
       "<table border=\"1\" class=\"dataframe\">\n",
       "  <thead>\n",
       "    <tr style=\"text-align: right;\">\n",
       "      <th></th>\n",
       "      <th>age</th>\n",
       "      <th>sex</th>\n",
       "      <th>chest pain type</th>\n",
       "      <th>resting bp s</th>\n",
       "      <th>cholesterol</th>\n",
       "      <th>fasting blood sugar</th>\n",
       "      <th>resting ecg</th>\n",
       "      <th>max heart rate</th>\n",
       "      <th>exercise angina</th>\n",
       "      <th>oldpeak</th>\n",
       "      <th>ST slope</th>\n",
       "      <th>target</th>\n",
       "    </tr>\n",
       "  </thead>\n",
       "  <tbody>\n",
       "    <tr>\n",
       "      <th>0</th>\n",
       "      <td>40</td>\n",
       "      <td>1</td>\n",
       "      <td>2</td>\n",
       "      <td>140</td>\n",
       "      <td>289</td>\n",
       "      <td>0</td>\n",
       "      <td>0</td>\n",
       "      <td>172</td>\n",
       "      <td>0</td>\n",
       "      <td>0.0</td>\n",
       "      <td>1</td>\n",
       "      <td>0</td>\n",
       "    </tr>\n",
       "    <tr>\n",
       "      <th>1</th>\n",
       "      <td>49</td>\n",
       "      <td>0</td>\n",
       "      <td>3</td>\n",
       "      <td>160</td>\n",
       "      <td>180</td>\n",
       "      <td>0</td>\n",
       "      <td>0</td>\n",
       "      <td>156</td>\n",
       "      <td>0</td>\n",
       "      <td>1.0</td>\n",
       "      <td>2</td>\n",
       "      <td>1</td>\n",
       "    </tr>\n",
       "    <tr>\n",
       "      <th>2</th>\n",
       "      <td>37</td>\n",
       "      <td>1</td>\n",
       "      <td>2</td>\n",
       "      <td>130</td>\n",
       "      <td>283</td>\n",
       "      <td>0</td>\n",
       "      <td>1</td>\n",
       "      <td>98</td>\n",
       "      <td>0</td>\n",
       "      <td>0.0</td>\n",
       "      <td>1</td>\n",
       "      <td>0</td>\n",
       "    </tr>\n",
       "    <tr>\n",
       "      <th>3</th>\n",
       "      <td>48</td>\n",
       "      <td>0</td>\n",
       "      <td>4</td>\n",
       "      <td>138</td>\n",
       "      <td>214</td>\n",
       "      <td>0</td>\n",
       "      <td>0</td>\n",
       "      <td>108</td>\n",
       "      <td>1</td>\n",
       "      <td>1.5</td>\n",
       "      <td>2</td>\n",
       "      <td>1</td>\n",
       "    </tr>\n",
       "    <tr>\n",
       "      <th>4</th>\n",
       "      <td>54</td>\n",
       "      <td>1</td>\n",
       "      <td>3</td>\n",
       "      <td>150</td>\n",
       "      <td>195</td>\n",
       "      <td>0</td>\n",
       "      <td>0</td>\n",
       "      <td>122</td>\n",
       "      <td>0</td>\n",
       "      <td>0.0</td>\n",
       "      <td>1</td>\n",
       "      <td>0</td>\n",
       "    </tr>\n",
       "  </tbody>\n",
       "</table>\n",
       "</div>"
      ],
      "text/plain": [
       "   age  sex  chest pain type  resting bp s  cholesterol  fasting blood sugar  \\\n",
       "0   40    1                2           140          289                    0   \n",
       "1   49    0                3           160          180                    0   \n",
       "2   37    1                2           130          283                    0   \n",
       "3   48    0                4           138          214                    0   \n",
       "4   54    1                3           150          195                    0   \n",
       "\n",
       "   resting ecg  max heart rate  exercise angina  oldpeak  ST slope  target  \n",
       "0            0             172                0      0.0         1       0  \n",
       "1            0             156                0      1.0         2       1  \n",
       "2            1              98                0      0.0         1       0  \n",
       "3            0             108                1      1.5         2       1  \n",
       "4            0             122                0      0.0         1       0  "
      ]
     },
     "execution_count": 1,
     "metadata": {},
     "output_type": "execute_result"
    }
   ],
   "source": [
    "import pandas as pd\n",
    "import numpy as np\n",
    "import matplotlib.pyplot as plt\n",
    "import seaborn as sns\n",
    "from scipy.stats import shapiro\n",
    "\n",
    "heartdisease = pd.read_csv(r\"C:\\Users\\X\\Desktop\\Sprint 10 Proyecto\\heart_statlog_cleveland_hungary_final.csv\")\n",
    "heartdisease.head()"
   ]
  },
  {
   "cell_type": "code",
   "execution_count": 2,
   "metadata": {},
   "outputs": [
    {
     "name": "stdout",
     "output_type": "stream",
     "text": [
      "<class 'pandas.core.frame.DataFrame'>\n",
      "RangeIndex: 1190 entries, 0 to 1189\n",
      "Data columns (total 12 columns):\n",
      " #   Column               Non-Null Count  Dtype  \n",
      "---  ------               --------------  -----  \n",
      " 0   age                  1190 non-null   int64  \n",
      " 1   sex                  1190 non-null   int64  \n",
      " 2   chest pain type      1190 non-null   int64  \n",
      " 3   resting bp s         1190 non-null   int64  \n",
      " 4   cholesterol          1190 non-null   int64  \n",
      " 5   fasting blood sugar  1190 non-null   int64  \n",
      " 6   resting ecg          1190 non-null   int64  \n",
      " 7   max heart rate       1190 non-null   int64  \n",
      " 8   exercise angina      1190 non-null   int64  \n",
      " 9   oldpeak              1190 non-null   float64\n",
      " 10  ST slope             1190 non-null   int64  \n",
      " 11  target               1190 non-null   int64  \n",
      "dtypes: float64(1), int64(11)\n",
      "memory usage: 111.7 KB\n"
     ]
    }
   ],
   "source": [
    "heartdisease.info()"
   ]
  },
  {
   "cell_type": "markdown",
   "metadata": {},
   "source": [
    "Empiezo a realizar cambios de acuerdo a la documentación elaborada por los investigadores que crearon el dataset, adjunta en este mismo repositorio.\n",
    "Ya que los datos categóricos se encuentran representados con números, prefiero hacer estos cambios para que no exista confusión"
   ]
  },
  {
   "cell_type": "markdown",
   "metadata": {},
   "source": [
    "Cambio el formato de la variable categórica \"sex\" de numérico a string 1 = masculino, 0= femenino;"
   ]
  },
  {
   "cell_type": "code",
   "execution_count": 3,
   "metadata": {},
   "outputs": [
    {
     "data": {
      "text/html": [
       "<div>\n",
       "<style scoped>\n",
       "    .dataframe tbody tr th:only-of-type {\n",
       "        vertical-align: middle;\n",
       "    }\n",
       "\n",
       "    .dataframe tbody tr th {\n",
       "        vertical-align: top;\n",
       "    }\n",
       "\n",
       "    .dataframe thead th {\n",
       "        text-align: right;\n",
       "    }\n",
       "</style>\n",
       "<table border=\"1\" class=\"dataframe\">\n",
       "  <thead>\n",
       "    <tr style=\"text-align: right;\">\n",
       "      <th></th>\n",
       "      <th>age</th>\n",
       "      <th>sex</th>\n",
       "      <th>chest pain type</th>\n",
       "      <th>resting bp s</th>\n",
       "      <th>cholesterol</th>\n",
       "      <th>fasting blood sugar</th>\n",
       "      <th>resting ecg</th>\n",
       "      <th>max heart rate</th>\n",
       "      <th>exercise angina</th>\n",
       "      <th>oldpeak</th>\n",
       "      <th>ST slope</th>\n",
       "      <th>target</th>\n",
       "    </tr>\n",
       "  </thead>\n",
       "  <tbody>\n",
       "    <tr>\n",
       "      <th>0</th>\n",
       "      <td>40</td>\n",
       "      <td>masculino</td>\n",
       "      <td>2</td>\n",
       "      <td>140</td>\n",
       "      <td>289</td>\n",
       "      <td>0</td>\n",
       "      <td>0</td>\n",
       "      <td>172</td>\n",
       "      <td>0</td>\n",
       "      <td>0.0</td>\n",
       "      <td>1</td>\n",
       "      <td>0</td>\n",
       "    </tr>\n",
       "    <tr>\n",
       "      <th>1</th>\n",
       "      <td>49</td>\n",
       "      <td>femenino</td>\n",
       "      <td>3</td>\n",
       "      <td>160</td>\n",
       "      <td>180</td>\n",
       "      <td>0</td>\n",
       "      <td>0</td>\n",
       "      <td>156</td>\n",
       "      <td>0</td>\n",
       "      <td>1.0</td>\n",
       "      <td>2</td>\n",
       "      <td>1</td>\n",
       "    </tr>\n",
       "    <tr>\n",
       "      <th>2</th>\n",
       "      <td>37</td>\n",
       "      <td>masculino</td>\n",
       "      <td>2</td>\n",
       "      <td>130</td>\n",
       "      <td>283</td>\n",
       "      <td>0</td>\n",
       "      <td>1</td>\n",
       "      <td>98</td>\n",
       "      <td>0</td>\n",
       "      <td>0.0</td>\n",
       "      <td>1</td>\n",
       "      <td>0</td>\n",
       "    </tr>\n",
       "    <tr>\n",
       "      <th>3</th>\n",
       "      <td>48</td>\n",
       "      <td>femenino</td>\n",
       "      <td>4</td>\n",
       "      <td>138</td>\n",
       "      <td>214</td>\n",
       "      <td>0</td>\n",
       "      <td>0</td>\n",
       "      <td>108</td>\n",
       "      <td>1</td>\n",
       "      <td>1.5</td>\n",
       "      <td>2</td>\n",
       "      <td>1</td>\n",
       "    </tr>\n",
       "    <tr>\n",
       "      <th>4</th>\n",
       "      <td>54</td>\n",
       "      <td>masculino</td>\n",
       "      <td>3</td>\n",
       "      <td>150</td>\n",
       "      <td>195</td>\n",
       "      <td>0</td>\n",
       "      <td>0</td>\n",
       "      <td>122</td>\n",
       "      <td>0</td>\n",
       "      <td>0.0</td>\n",
       "      <td>1</td>\n",
       "      <td>0</td>\n",
       "    </tr>\n",
       "  </tbody>\n",
       "</table>\n",
       "</div>"
      ],
      "text/plain": [
       "   age        sex  chest pain type  resting bp s  cholesterol  \\\n",
       "0   40  masculino                2           140          289   \n",
       "1   49   femenino                3           160          180   \n",
       "2   37  masculino                2           130          283   \n",
       "3   48   femenino                4           138          214   \n",
       "4   54  masculino                3           150          195   \n",
       "\n",
       "   fasting blood sugar  resting ecg  max heart rate  exercise angina  oldpeak  \\\n",
       "0                    0            0             172                0      0.0   \n",
       "1                    0            0             156                0      1.0   \n",
       "2                    0            1              98                0      0.0   \n",
       "3                    0            0             108                1      1.5   \n",
       "4                    0            0             122                0      0.0   \n",
       "\n",
       "   ST slope  target  \n",
       "0         1       0  \n",
       "1         2       1  \n",
       "2         1       0  \n",
       "3         2       1  \n",
       "4         1       0  "
      ]
     },
     "execution_count": 3,
     "metadata": {},
     "output_type": "execute_result"
    }
   ],
   "source": [
    "heartdisease['sex'] = heartdisease['sex'].astype(str)\n",
    "heartdisease['sex'] = heartdisease['sex'].str.replace('0', 'femenino')\n",
    "heartdisease['sex'] = heartdisease['sex'].str.replace('1', 'masculino')\n",
    "heartdisease.head()"
   ]
  },
  {
   "cell_type": "markdown",
   "metadata": {},
   "source": [
    "Cambio también la variable categórica de tipo de dolor de pecho\n",
    "-- Valor 1: angina típica\n",
    "-- Valor 2: angina atípica \n",
    "-- Valor 3: dolor no anginoso\n",
    "-- Valor 4: asintomático"
   ]
  },
  {
   "cell_type": "code",
   "execution_count": 4,
   "metadata": {},
   "outputs": [
    {
     "data": {
      "text/html": [
       "<div>\n",
       "<style scoped>\n",
       "    .dataframe tbody tr th:only-of-type {\n",
       "        vertical-align: middle;\n",
       "    }\n",
       "\n",
       "    .dataframe tbody tr th {\n",
       "        vertical-align: top;\n",
       "    }\n",
       "\n",
       "    .dataframe thead th {\n",
       "        text-align: right;\n",
       "    }\n",
       "</style>\n",
       "<table border=\"1\" class=\"dataframe\">\n",
       "  <thead>\n",
       "    <tr style=\"text-align: right;\">\n",
       "      <th></th>\n",
       "      <th>age</th>\n",
       "      <th>sex</th>\n",
       "      <th>chest pain type</th>\n",
       "      <th>resting bp s</th>\n",
       "      <th>cholesterol</th>\n",
       "      <th>fasting blood sugar</th>\n",
       "      <th>resting ecg</th>\n",
       "      <th>max heart rate</th>\n",
       "      <th>exercise angina</th>\n",
       "      <th>oldpeak</th>\n",
       "      <th>ST slope</th>\n",
       "      <th>target</th>\n",
       "    </tr>\n",
       "  </thead>\n",
       "  <tbody>\n",
       "    <tr>\n",
       "      <th>0</th>\n",
       "      <td>40</td>\n",
       "      <td>masculino</td>\n",
       "      <td>angina atípica</td>\n",
       "      <td>140</td>\n",
       "      <td>289</td>\n",
       "      <td>0</td>\n",
       "      <td>0</td>\n",
       "      <td>172</td>\n",
       "      <td>0</td>\n",
       "      <td>0.0</td>\n",
       "      <td>1</td>\n",
       "      <td>0</td>\n",
       "    </tr>\n",
       "    <tr>\n",
       "      <th>1</th>\n",
       "      <td>49</td>\n",
       "      <td>femenino</td>\n",
       "      <td>dolor no anginoso</td>\n",
       "      <td>160</td>\n",
       "      <td>180</td>\n",
       "      <td>0</td>\n",
       "      <td>0</td>\n",
       "      <td>156</td>\n",
       "      <td>0</td>\n",
       "      <td>1.0</td>\n",
       "      <td>2</td>\n",
       "      <td>1</td>\n",
       "    </tr>\n",
       "    <tr>\n",
       "      <th>2</th>\n",
       "      <td>37</td>\n",
       "      <td>masculino</td>\n",
       "      <td>angina atípica</td>\n",
       "      <td>130</td>\n",
       "      <td>283</td>\n",
       "      <td>0</td>\n",
       "      <td>1</td>\n",
       "      <td>98</td>\n",
       "      <td>0</td>\n",
       "      <td>0.0</td>\n",
       "      <td>1</td>\n",
       "      <td>0</td>\n",
       "    </tr>\n",
       "    <tr>\n",
       "      <th>3</th>\n",
       "      <td>48</td>\n",
       "      <td>femenino</td>\n",
       "      <td>asintomático</td>\n",
       "      <td>138</td>\n",
       "      <td>214</td>\n",
       "      <td>0</td>\n",
       "      <td>0</td>\n",
       "      <td>108</td>\n",
       "      <td>1</td>\n",
       "      <td>1.5</td>\n",
       "      <td>2</td>\n",
       "      <td>1</td>\n",
       "    </tr>\n",
       "    <tr>\n",
       "      <th>4</th>\n",
       "      <td>54</td>\n",
       "      <td>masculino</td>\n",
       "      <td>dolor no anginoso</td>\n",
       "      <td>150</td>\n",
       "      <td>195</td>\n",
       "      <td>0</td>\n",
       "      <td>0</td>\n",
       "      <td>122</td>\n",
       "      <td>0</td>\n",
       "      <td>0.0</td>\n",
       "      <td>1</td>\n",
       "      <td>0</td>\n",
       "    </tr>\n",
       "  </tbody>\n",
       "</table>\n",
       "</div>"
      ],
      "text/plain": [
       "   age        sex    chest pain type  resting bp s  cholesterol  \\\n",
       "0   40  masculino     angina atípica           140          289   \n",
       "1   49   femenino  dolor no anginoso           160          180   \n",
       "2   37  masculino     angina atípica           130          283   \n",
       "3   48   femenino       asintomático           138          214   \n",
       "4   54  masculino  dolor no anginoso           150          195   \n",
       "\n",
       "   fasting blood sugar  resting ecg  max heart rate  exercise angina  oldpeak  \\\n",
       "0                    0            0             172                0      0.0   \n",
       "1                    0            0             156                0      1.0   \n",
       "2                    0            1              98                0      0.0   \n",
       "3                    0            0             108                1      1.5   \n",
       "4                    0            0             122                0      0.0   \n",
       "\n",
       "   ST slope  target  \n",
       "0         1       0  \n",
       "1         2       1  \n",
       "2         1       0  \n",
       "3         2       1  \n",
       "4         1       0  "
      ]
     },
     "execution_count": 4,
     "metadata": {},
     "output_type": "execute_result"
    }
   ],
   "source": [
    "heartdisease['chest pain type'] = heartdisease['chest pain type'].astype(str)\n",
    "heartdisease['chest pain type'] = heartdisease['chest pain type'].str.replace('1', 'angina típica')\n",
    "heartdisease['chest pain type'] = heartdisease['chest pain type'].str.replace('2', 'angina atípica')\n",
    "heartdisease['chest pain type'] = heartdisease['chest pain type'].str.replace('3', 'dolor no anginoso')\n",
    "heartdisease['chest pain type'] = heartdisease['chest pain type'].str.replace('4', 'asintomático')\n",
    "heartdisease.head()"
   ]
  },
  {
   "cell_type": "markdown",
   "metadata": {},
   "source": [
    "Cambio la variable categórica de fasting blood sugar, donde se indica si el sujeto de estudio tiene niveles glicémicos que superan los 120 mg/dl en ayuno a Glicemia_Basal_Mayor_120 (1 = verdadero; 0 = falso)\n",
    "\n",
    "Un nivel de glicemia en ayunas superior a 100 mg/dl puede indicar que existe un riesgo de desarrollar Diabetes tipo 2, lo que puede influir en la salud cardiovascular\n",
    "https://medlineplus.gov/spanish/ency/article/003482.htm"
   ]
  },
  {
   "cell_type": "code",
   "execution_count": 5,
   "metadata": {},
   "outputs": [],
   "source": [
    "heartdisease = heartdisease.rename(columns={'fasting blood sugar':'Glicemia_Basal_Mayor_120'})"
   ]
  },
  {
   "cell_type": "code",
   "execution_count": 6,
   "metadata": {},
   "outputs": [
    {
     "data": {
      "text/html": [
       "<div>\n",
       "<style scoped>\n",
       "    .dataframe tbody tr th:only-of-type {\n",
       "        vertical-align: middle;\n",
       "    }\n",
       "\n",
       "    .dataframe tbody tr th {\n",
       "        vertical-align: top;\n",
       "    }\n",
       "\n",
       "    .dataframe thead th {\n",
       "        text-align: right;\n",
       "    }\n",
       "</style>\n",
       "<table border=\"1\" class=\"dataframe\">\n",
       "  <thead>\n",
       "    <tr style=\"text-align: right;\">\n",
       "      <th></th>\n",
       "      <th>age</th>\n",
       "      <th>sex</th>\n",
       "      <th>chest pain type</th>\n",
       "      <th>resting bp s</th>\n",
       "      <th>cholesterol</th>\n",
       "      <th>Glicemia_Basal_Mayor_120</th>\n",
       "      <th>resting ecg</th>\n",
       "      <th>max heart rate</th>\n",
       "      <th>exercise angina</th>\n",
       "      <th>oldpeak</th>\n",
       "      <th>ST slope</th>\n",
       "      <th>target</th>\n",
       "    </tr>\n",
       "  </thead>\n",
       "  <tbody>\n",
       "    <tr>\n",
       "      <th>0</th>\n",
       "      <td>40</td>\n",
       "      <td>masculino</td>\n",
       "      <td>angina atípica</td>\n",
       "      <td>140</td>\n",
       "      <td>289</td>\n",
       "      <td>falso</td>\n",
       "      <td>0</td>\n",
       "      <td>172</td>\n",
       "      <td>0</td>\n",
       "      <td>0.0</td>\n",
       "      <td>1</td>\n",
       "      <td>0</td>\n",
       "    </tr>\n",
       "    <tr>\n",
       "      <th>1</th>\n",
       "      <td>49</td>\n",
       "      <td>femenino</td>\n",
       "      <td>dolor no anginoso</td>\n",
       "      <td>160</td>\n",
       "      <td>180</td>\n",
       "      <td>falso</td>\n",
       "      <td>0</td>\n",
       "      <td>156</td>\n",
       "      <td>0</td>\n",
       "      <td>1.0</td>\n",
       "      <td>2</td>\n",
       "      <td>1</td>\n",
       "    </tr>\n",
       "    <tr>\n",
       "      <th>2</th>\n",
       "      <td>37</td>\n",
       "      <td>masculino</td>\n",
       "      <td>angina atípica</td>\n",
       "      <td>130</td>\n",
       "      <td>283</td>\n",
       "      <td>falso</td>\n",
       "      <td>1</td>\n",
       "      <td>98</td>\n",
       "      <td>0</td>\n",
       "      <td>0.0</td>\n",
       "      <td>1</td>\n",
       "      <td>0</td>\n",
       "    </tr>\n",
       "    <tr>\n",
       "      <th>3</th>\n",
       "      <td>48</td>\n",
       "      <td>femenino</td>\n",
       "      <td>asintomático</td>\n",
       "      <td>138</td>\n",
       "      <td>214</td>\n",
       "      <td>falso</td>\n",
       "      <td>0</td>\n",
       "      <td>108</td>\n",
       "      <td>1</td>\n",
       "      <td>1.5</td>\n",
       "      <td>2</td>\n",
       "      <td>1</td>\n",
       "    </tr>\n",
       "    <tr>\n",
       "      <th>4</th>\n",
       "      <td>54</td>\n",
       "      <td>masculino</td>\n",
       "      <td>dolor no anginoso</td>\n",
       "      <td>150</td>\n",
       "      <td>195</td>\n",
       "      <td>falso</td>\n",
       "      <td>0</td>\n",
       "      <td>122</td>\n",
       "      <td>0</td>\n",
       "      <td>0.0</td>\n",
       "      <td>1</td>\n",
       "      <td>0</td>\n",
       "    </tr>\n",
       "  </tbody>\n",
       "</table>\n",
       "</div>"
      ],
      "text/plain": [
       "   age        sex    chest pain type  resting bp s  cholesterol  \\\n",
       "0   40  masculino     angina atípica           140          289   \n",
       "1   49   femenino  dolor no anginoso           160          180   \n",
       "2   37  masculino     angina atípica           130          283   \n",
       "3   48   femenino       asintomático           138          214   \n",
       "4   54  masculino  dolor no anginoso           150          195   \n",
       "\n",
       "  Glicemia_Basal_Mayor_120  resting ecg  max heart rate  exercise angina  \\\n",
       "0                    falso            0             172                0   \n",
       "1                    falso            0             156                0   \n",
       "2                    falso            1              98                0   \n",
       "3                    falso            0             108                1   \n",
       "4                    falso            0             122                0   \n",
       "\n",
       "   oldpeak  ST slope  target  \n",
       "0      0.0         1       0  \n",
       "1      1.0         2       1  \n",
       "2      0.0         1       0  \n",
       "3      1.5         2       1  \n",
       "4      0.0         1       0  "
      ]
     },
     "execution_count": 6,
     "metadata": {},
     "output_type": "execute_result"
    }
   ],
   "source": [
    "heartdisease['Glicemia_Basal_Mayor_120'] = heartdisease['Glicemia_Basal_Mayor_120'].astype(str)\n",
    "heartdisease['Glicemia_Basal_Mayor_120'] = heartdisease['Glicemia_Basal_Mayor_120'].str.replace('0', 'falso')\n",
    "heartdisease['Glicemia_Basal_Mayor_120'] = heartdisease['Glicemia_Basal_Mayor_120'].str.replace('1', 'verdadero')\n",
    "heartdisease.head()"
   ]
  },
  {
   "cell_type": "markdown",
   "metadata": {},
   "source": [
    "Resultados de Electrocardiograma en reposo\n",
    "--  0: normal\n",
    "--  1: anormalidad de la onda ST-T(en el electrocardiograma)\n",
    "--  2: hipertrofia del ventriculo izq probable o definitiva según los Criterios de Romhilt-Estes \n"
   ]
  },
  {
   "cell_type": "code",
   "execution_count": 7,
   "metadata": {},
   "outputs": [
    {
     "data": {
      "text/html": [
       "<div>\n",
       "<style scoped>\n",
       "    .dataframe tbody tr th:only-of-type {\n",
       "        vertical-align: middle;\n",
       "    }\n",
       "\n",
       "    .dataframe tbody tr th {\n",
       "        vertical-align: top;\n",
       "    }\n",
       "\n",
       "    .dataframe thead th {\n",
       "        text-align: right;\n",
       "    }\n",
       "</style>\n",
       "<table border=\"1\" class=\"dataframe\">\n",
       "  <thead>\n",
       "    <tr style=\"text-align: right;\">\n",
       "      <th></th>\n",
       "      <th>age</th>\n",
       "      <th>sex</th>\n",
       "      <th>chest pain type</th>\n",
       "      <th>resting bp s</th>\n",
       "      <th>cholesterol</th>\n",
       "      <th>Glicemia_Basal_Mayor_120</th>\n",
       "      <th>resting ecg</th>\n",
       "      <th>max heart rate</th>\n",
       "      <th>exercise angina</th>\n",
       "      <th>oldpeak</th>\n",
       "      <th>ST slope</th>\n",
       "      <th>target</th>\n",
       "    </tr>\n",
       "  </thead>\n",
       "  <tbody>\n",
       "    <tr>\n",
       "      <th>0</th>\n",
       "      <td>40</td>\n",
       "      <td>masculino</td>\n",
       "      <td>angina atípica</td>\n",
       "      <td>140</td>\n",
       "      <td>289</td>\n",
       "      <td>falso</td>\n",
       "      <td>normal</td>\n",
       "      <td>172</td>\n",
       "      <td>0</td>\n",
       "      <td>0.0</td>\n",
       "      <td>1</td>\n",
       "      <td>0</td>\n",
       "    </tr>\n",
       "    <tr>\n",
       "      <th>1</th>\n",
       "      <td>49</td>\n",
       "      <td>femenino</td>\n",
       "      <td>dolor no anginoso</td>\n",
       "      <td>160</td>\n",
       "      <td>180</td>\n",
       "      <td>falso</td>\n",
       "      <td>normal</td>\n",
       "      <td>156</td>\n",
       "      <td>0</td>\n",
       "      <td>1.0</td>\n",
       "      <td>2</td>\n",
       "      <td>1</td>\n",
       "    </tr>\n",
       "    <tr>\n",
       "      <th>2</th>\n",
       "      <td>37</td>\n",
       "      <td>masculino</td>\n",
       "      <td>angina atípica</td>\n",
       "      <td>130</td>\n",
       "      <td>283</td>\n",
       "      <td>falso</td>\n",
       "      <td>anormalidad de la onda ST-T</td>\n",
       "      <td>98</td>\n",
       "      <td>0</td>\n",
       "      <td>0.0</td>\n",
       "      <td>1</td>\n",
       "      <td>0</td>\n",
       "    </tr>\n",
       "    <tr>\n",
       "      <th>3</th>\n",
       "      <td>48</td>\n",
       "      <td>femenino</td>\n",
       "      <td>asintomático</td>\n",
       "      <td>138</td>\n",
       "      <td>214</td>\n",
       "      <td>falso</td>\n",
       "      <td>normal</td>\n",
       "      <td>108</td>\n",
       "      <td>1</td>\n",
       "      <td>1.5</td>\n",
       "      <td>2</td>\n",
       "      <td>1</td>\n",
       "    </tr>\n",
       "    <tr>\n",
       "      <th>4</th>\n",
       "      <td>54</td>\n",
       "      <td>masculino</td>\n",
       "      <td>dolor no anginoso</td>\n",
       "      <td>150</td>\n",
       "      <td>195</td>\n",
       "      <td>falso</td>\n",
       "      <td>normal</td>\n",
       "      <td>122</td>\n",
       "      <td>0</td>\n",
       "      <td>0.0</td>\n",
       "      <td>1</td>\n",
       "      <td>0</td>\n",
       "    </tr>\n",
       "  </tbody>\n",
       "</table>\n",
       "</div>"
      ],
      "text/plain": [
       "   age        sex    chest pain type  resting bp s  cholesterol  \\\n",
       "0   40  masculino     angina atípica           140          289   \n",
       "1   49   femenino  dolor no anginoso           160          180   \n",
       "2   37  masculino     angina atípica           130          283   \n",
       "3   48   femenino       asintomático           138          214   \n",
       "4   54  masculino  dolor no anginoso           150          195   \n",
       "\n",
       "  Glicemia_Basal_Mayor_120                  resting ecg  max heart rate  \\\n",
       "0                    falso                       normal             172   \n",
       "1                    falso                       normal             156   \n",
       "2                    falso  anormalidad de la onda ST-T              98   \n",
       "3                    falso                       normal             108   \n",
       "4                    falso                       normal             122   \n",
       "\n",
       "   exercise angina  oldpeak  ST slope  target  \n",
       "0                0      0.0         1       0  \n",
       "1                0      1.0         2       1  \n",
       "2                0      0.0         1       0  \n",
       "3                1      1.5         2       1  \n",
       "4                0      0.0         1       0  "
      ]
     },
     "execution_count": 7,
     "metadata": {},
     "output_type": "execute_result"
    }
   ],
   "source": [
    "heartdisease['resting ecg'] = heartdisease['resting ecg'].astype(str)\n",
    "heartdisease['resting ecg'] = heartdisease['resting ecg'].str.replace('0', 'normal')\n",
    "heartdisease['resting ecg'] = heartdisease['resting ecg'].str.replace('1', 'anormalidad de la onda ST-T')\n",
    "heartdisease['resting ecg'] = heartdisease['resting ecg'].str.replace('2', 'hipertrofia del ventriculo izq')\n",
    "heartdisease.head()"
   ]
  },
  {
   "cell_type": "markdown",
   "metadata": {},
   "source": [
    "Angina inducida por el ejercicio 1 = si; 0 = no"
   ]
  },
  {
   "cell_type": "code",
   "execution_count": 8,
   "metadata": {},
   "outputs": [
    {
     "data": {
      "text/html": [
       "<div>\n",
       "<style scoped>\n",
       "    .dataframe tbody tr th:only-of-type {\n",
       "        vertical-align: middle;\n",
       "    }\n",
       "\n",
       "    .dataframe tbody tr th {\n",
       "        vertical-align: top;\n",
       "    }\n",
       "\n",
       "    .dataframe thead th {\n",
       "        text-align: right;\n",
       "    }\n",
       "</style>\n",
       "<table border=\"1\" class=\"dataframe\">\n",
       "  <thead>\n",
       "    <tr style=\"text-align: right;\">\n",
       "      <th></th>\n",
       "      <th>age</th>\n",
       "      <th>sex</th>\n",
       "      <th>chest pain type</th>\n",
       "      <th>resting bp s</th>\n",
       "      <th>cholesterol</th>\n",
       "      <th>Glicemia_Basal_Mayor_120</th>\n",
       "      <th>resting ecg</th>\n",
       "      <th>max heart rate</th>\n",
       "      <th>exercise angina</th>\n",
       "      <th>oldpeak</th>\n",
       "      <th>ST slope</th>\n",
       "      <th>target</th>\n",
       "    </tr>\n",
       "  </thead>\n",
       "  <tbody>\n",
       "    <tr>\n",
       "      <th>0</th>\n",
       "      <td>40</td>\n",
       "      <td>masculino</td>\n",
       "      <td>angina atípica</td>\n",
       "      <td>140</td>\n",
       "      <td>289</td>\n",
       "      <td>falso</td>\n",
       "      <td>normal</td>\n",
       "      <td>172</td>\n",
       "      <td>no</td>\n",
       "      <td>0.0</td>\n",
       "      <td>1</td>\n",
       "      <td>0</td>\n",
       "    </tr>\n",
       "    <tr>\n",
       "      <th>1</th>\n",
       "      <td>49</td>\n",
       "      <td>femenino</td>\n",
       "      <td>dolor no anginoso</td>\n",
       "      <td>160</td>\n",
       "      <td>180</td>\n",
       "      <td>falso</td>\n",
       "      <td>normal</td>\n",
       "      <td>156</td>\n",
       "      <td>no</td>\n",
       "      <td>1.0</td>\n",
       "      <td>2</td>\n",
       "      <td>1</td>\n",
       "    </tr>\n",
       "    <tr>\n",
       "      <th>2</th>\n",
       "      <td>37</td>\n",
       "      <td>masculino</td>\n",
       "      <td>angina atípica</td>\n",
       "      <td>130</td>\n",
       "      <td>283</td>\n",
       "      <td>falso</td>\n",
       "      <td>anormalidad de la onda ST-T</td>\n",
       "      <td>98</td>\n",
       "      <td>no</td>\n",
       "      <td>0.0</td>\n",
       "      <td>1</td>\n",
       "      <td>0</td>\n",
       "    </tr>\n",
       "    <tr>\n",
       "      <th>3</th>\n",
       "      <td>48</td>\n",
       "      <td>femenino</td>\n",
       "      <td>asintomático</td>\n",
       "      <td>138</td>\n",
       "      <td>214</td>\n",
       "      <td>falso</td>\n",
       "      <td>normal</td>\n",
       "      <td>108</td>\n",
       "      <td>si</td>\n",
       "      <td>1.5</td>\n",
       "      <td>2</td>\n",
       "      <td>1</td>\n",
       "    </tr>\n",
       "    <tr>\n",
       "      <th>4</th>\n",
       "      <td>54</td>\n",
       "      <td>masculino</td>\n",
       "      <td>dolor no anginoso</td>\n",
       "      <td>150</td>\n",
       "      <td>195</td>\n",
       "      <td>falso</td>\n",
       "      <td>normal</td>\n",
       "      <td>122</td>\n",
       "      <td>no</td>\n",
       "      <td>0.0</td>\n",
       "      <td>1</td>\n",
       "      <td>0</td>\n",
       "    </tr>\n",
       "  </tbody>\n",
       "</table>\n",
       "</div>"
      ],
      "text/plain": [
       "   age        sex    chest pain type  resting bp s  cholesterol  \\\n",
       "0   40  masculino     angina atípica           140          289   \n",
       "1   49   femenino  dolor no anginoso           160          180   \n",
       "2   37  masculino     angina atípica           130          283   \n",
       "3   48   femenino       asintomático           138          214   \n",
       "4   54  masculino  dolor no anginoso           150          195   \n",
       "\n",
       "  Glicemia_Basal_Mayor_120                  resting ecg  max heart rate  \\\n",
       "0                    falso                       normal             172   \n",
       "1                    falso                       normal             156   \n",
       "2                    falso  anormalidad de la onda ST-T              98   \n",
       "3                    falso                       normal             108   \n",
       "4                    falso                       normal             122   \n",
       "\n",
       "  exercise angina  oldpeak  ST slope  target  \n",
       "0              no      0.0         1       0  \n",
       "1              no      1.0         2       1  \n",
       "2              no      0.0         1       0  \n",
       "3              si      1.5         2       1  \n",
       "4              no      0.0         1       0  "
      ]
     },
     "execution_count": 8,
     "metadata": {},
     "output_type": "execute_result"
    }
   ],
   "source": [
    "heartdisease['exercise angina'] = heartdisease['exercise angina'].astype(str)\n",
    "heartdisease['exercise angina'] = heartdisease['exercise angina'].str.replace('0', 'no')\n",
    "heartdisease['exercise angina'] = heartdisease['exercise angina'].str.replace('1', 'si')\n",
    "heartdisease.head()"
   ]
  },
  {
   "cell_type": "markdown",
   "metadata": {},
   "source": [
    "Pendiente del segmento ST (visualizado en electrocardiograma) en el pico del ejercicio\n",
    "-- Value 1: subida\n",
    "-- Value 2: plano\n",
    "-- Value 3: bajada"
   ]
  },
  {
   "cell_type": "code",
   "execution_count": 9,
   "metadata": {},
   "outputs": [
    {
     "data": {
      "text/html": [
       "<div>\n",
       "<style scoped>\n",
       "    .dataframe tbody tr th:only-of-type {\n",
       "        vertical-align: middle;\n",
       "    }\n",
       "\n",
       "    .dataframe tbody tr th {\n",
       "        vertical-align: top;\n",
       "    }\n",
       "\n",
       "    .dataframe thead th {\n",
       "        text-align: right;\n",
       "    }\n",
       "</style>\n",
       "<table border=\"1\" class=\"dataframe\">\n",
       "  <thead>\n",
       "    <tr style=\"text-align: right;\">\n",
       "      <th></th>\n",
       "      <th>age</th>\n",
       "      <th>sex</th>\n",
       "      <th>chest pain type</th>\n",
       "      <th>resting bp s</th>\n",
       "      <th>cholesterol</th>\n",
       "      <th>Glicemia_Basal_Mayor_120</th>\n",
       "      <th>resting ecg</th>\n",
       "      <th>max heart rate</th>\n",
       "      <th>exercise angina</th>\n",
       "      <th>oldpeak</th>\n",
       "      <th>ST slope</th>\n",
       "      <th>target</th>\n",
       "    </tr>\n",
       "  </thead>\n",
       "  <tbody>\n",
       "    <tr>\n",
       "      <th>0</th>\n",
       "      <td>40</td>\n",
       "      <td>masculino</td>\n",
       "      <td>angina atípica</td>\n",
       "      <td>140</td>\n",
       "      <td>289</td>\n",
       "      <td>falso</td>\n",
       "      <td>normal</td>\n",
       "      <td>172</td>\n",
       "      <td>no</td>\n",
       "      <td>0.0</td>\n",
       "      <td>subida</td>\n",
       "      <td>0</td>\n",
       "    </tr>\n",
       "    <tr>\n",
       "      <th>1</th>\n",
       "      <td>49</td>\n",
       "      <td>femenino</td>\n",
       "      <td>dolor no anginoso</td>\n",
       "      <td>160</td>\n",
       "      <td>180</td>\n",
       "      <td>falso</td>\n",
       "      <td>normal</td>\n",
       "      <td>156</td>\n",
       "      <td>no</td>\n",
       "      <td>1.0</td>\n",
       "      <td>plano</td>\n",
       "      <td>1</td>\n",
       "    </tr>\n",
       "    <tr>\n",
       "      <th>2</th>\n",
       "      <td>37</td>\n",
       "      <td>masculino</td>\n",
       "      <td>angina atípica</td>\n",
       "      <td>130</td>\n",
       "      <td>283</td>\n",
       "      <td>falso</td>\n",
       "      <td>anormalidad de la onda ST-T</td>\n",
       "      <td>98</td>\n",
       "      <td>no</td>\n",
       "      <td>0.0</td>\n",
       "      <td>subida</td>\n",
       "      <td>0</td>\n",
       "    </tr>\n",
       "    <tr>\n",
       "      <th>3</th>\n",
       "      <td>48</td>\n",
       "      <td>femenino</td>\n",
       "      <td>asintomático</td>\n",
       "      <td>138</td>\n",
       "      <td>214</td>\n",
       "      <td>falso</td>\n",
       "      <td>normal</td>\n",
       "      <td>108</td>\n",
       "      <td>si</td>\n",
       "      <td>1.5</td>\n",
       "      <td>plano</td>\n",
       "      <td>1</td>\n",
       "    </tr>\n",
       "    <tr>\n",
       "      <th>4</th>\n",
       "      <td>54</td>\n",
       "      <td>masculino</td>\n",
       "      <td>dolor no anginoso</td>\n",
       "      <td>150</td>\n",
       "      <td>195</td>\n",
       "      <td>falso</td>\n",
       "      <td>normal</td>\n",
       "      <td>122</td>\n",
       "      <td>no</td>\n",
       "      <td>0.0</td>\n",
       "      <td>subida</td>\n",
       "      <td>0</td>\n",
       "    </tr>\n",
       "  </tbody>\n",
       "</table>\n",
       "</div>"
      ],
      "text/plain": [
       "   age        sex    chest pain type  resting bp s  cholesterol  \\\n",
       "0   40  masculino     angina atípica           140          289   \n",
       "1   49   femenino  dolor no anginoso           160          180   \n",
       "2   37  masculino     angina atípica           130          283   \n",
       "3   48   femenino       asintomático           138          214   \n",
       "4   54  masculino  dolor no anginoso           150          195   \n",
       "\n",
       "  Glicemia_Basal_Mayor_120                  resting ecg  max heart rate  \\\n",
       "0                    falso                       normal             172   \n",
       "1                    falso                       normal             156   \n",
       "2                    falso  anormalidad de la onda ST-T              98   \n",
       "3                    falso                       normal             108   \n",
       "4                    falso                       normal             122   \n",
       "\n",
       "  exercise angina  oldpeak ST slope  target  \n",
       "0              no      0.0   subida       0  \n",
       "1              no      1.0    plano       1  \n",
       "2              no      0.0   subida       0  \n",
       "3              si      1.5    plano       1  \n",
       "4              no      0.0   subida       0  "
      ]
     },
     "execution_count": 9,
     "metadata": {},
     "output_type": "execute_result"
    }
   ],
   "source": [
    "heartdisease['ST slope'] = heartdisease['ST slope'].astype(str)\n",
    "heartdisease['ST slope'] = heartdisease['ST slope'].str.replace('1', 'subida')\n",
    "heartdisease['ST slope'] = heartdisease['ST slope'].str.replace('2', 'plano')\n",
    "heartdisease['ST slope'] = heartdisease['ST slope'].str.replace('3', 'bajada')\n",
    "heartdisease.head()"
   ]
  },
  {
   "cell_type": "markdown",
   "metadata": {},
   "source": [
    "target (clasificación de acuerdo a si hay o no diagnóstico de enfermedades cardiovasculares) 1 = enfermedad cardiovascular, 0 = Normal"
   ]
  },
  {
   "cell_type": "code",
   "execution_count": 10,
   "metadata": {},
   "outputs": [
    {
     "data": {
      "text/html": [
       "<div>\n",
       "<style scoped>\n",
       "    .dataframe tbody tr th:only-of-type {\n",
       "        vertical-align: middle;\n",
       "    }\n",
       "\n",
       "    .dataframe tbody tr th {\n",
       "        vertical-align: top;\n",
       "    }\n",
       "\n",
       "    .dataframe thead th {\n",
       "        text-align: right;\n",
       "    }\n",
       "</style>\n",
       "<table border=\"1\" class=\"dataframe\">\n",
       "  <thead>\n",
       "    <tr style=\"text-align: right;\">\n",
       "      <th></th>\n",
       "      <th>age</th>\n",
       "      <th>sex</th>\n",
       "      <th>chest pain type</th>\n",
       "      <th>resting bp s</th>\n",
       "      <th>cholesterol</th>\n",
       "      <th>Glicemia_Basal_Mayor_120</th>\n",
       "      <th>resting ecg</th>\n",
       "      <th>max heart rate</th>\n",
       "      <th>exercise angina</th>\n",
       "      <th>oldpeak</th>\n",
       "      <th>ST slope</th>\n",
       "      <th>target</th>\n",
       "    </tr>\n",
       "  </thead>\n",
       "  <tbody>\n",
       "    <tr>\n",
       "      <th>0</th>\n",
       "      <td>40</td>\n",
       "      <td>masculino</td>\n",
       "      <td>angina atípica</td>\n",
       "      <td>140</td>\n",
       "      <td>289</td>\n",
       "      <td>falso</td>\n",
       "      <td>normal</td>\n",
       "      <td>172</td>\n",
       "      <td>no</td>\n",
       "      <td>0.0</td>\n",
       "      <td>subida</td>\n",
       "      <td>normal</td>\n",
       "    </tr>\n",
       "    <tr>\n",
       "      <th>1</th>\n",
       "      <td>49</td>\n",
       "      <td>femenino</td>\n",
       "      <td>dolor no anginoso</td>\n",
       "      <td>160</td>\n",
       "      <td>180</td>\n",
       "      <td>falso</td>\n",
       "      <td>normal</td>\n",
       "      <td>156</td>\n",
       "      <td>no</td>\n",
       "      <td>1.0</td>\n",
       "      <td>plano</td>\n",
       "      <td>enfermedad cardiovascular</td>\n",
       "    </tr>\n",
       "    <tr>\n",
       "      <th>2</th>\n",
       "      <td>37</td>\n",
       "      <td>masculino</td>\n",
       "      <td>angina atípica</td>\n",
       "      <td>130</td>\n",
       "      <td>283</td>\n",
       "      <td>falso</td>\n",
       "      <td>anormalidad de la onda ST-T</td>\n",
       "      <td>98</td>\n",
       "      <td>no</td>\n",
       "      <td>0.0</td>\n",
       "      <td>subida</td>\n",
       "      <td>normal</td>\n",
       "    </tr>\n",
       "    <tr>\n",
       "      <th>3</th>\n",
       "      <td>48</td>\n",
       "      <td>femenino</td>\n",
       "      <td>asintomático</td>\n",
       "      <td>138</td>\n",
       "      <td>214</td>\n",
       "      <td>falso</td>\n",
       "      <td>normal</td>\n",
       "      <td>108</td>\n",
       "      <td>si</td>\n",
       "      <td>1.5</td>\n",
       "      <td>plano</td>\n",
       "      <td>enfermedad cardiovascular</td>\n",
       "    </tr>\n",
       "    <tr>\n",
       "      <th>4</th>\n",
       "      <td>54</td>\n",
       "      <td>masculino</td>\n",
       "      <td>dolor no anginoso</td>\n",
       "      <td>150</td>\n",
       "      <td>195</td>\n",
       "      <td>falso</td>\n",
       "      <td>normal</td>\n",
       "      <td>122</td>\n",
       "      <td>no</td>\n",
       "      <td>0.0</td>\n",
       "      <td>subida</td>\n",
       "      <td>normal</td>\n",
       "    </tr>\n",
       "  </tbody>\n",
       "</table>\n",
       "</div>"
      ],
      "text/plain": [
       "   age        sex    chest pain type  resting bp s  cholesterol  \\\n",
       "0   40  masculino     angina atípica           140          289   \n",
       "1   49   femenino  dolor no anginoso           160          180   \n",
       "2   37  masculino     angina atípica           130          283   \n",
       "3   48   femenino       asintomático           138          214   \n",
       "4   54  masculino  dolor no anginoso           150          195   \n",
       "\n",
       "  Glicemia_Basal_Mayor_120                  resting ecg  max heart rate  \\\n",
       "0                    falso                       normal             172   \n",
       "1                    falso                       normal             156   \n",
       "2                    falso  anormalidad de la onda ST-T              98   \n",
       "3                    falso                       normal             108   \n",
       "4                    falso                       normal             122   \n",
       "\n",
       "  exercise angina  oldpeak ST slope                     target  \n",
       "0              no      0.0   subida                     normal  \n",
       "1              no      1.0    plano  enfermedad cardiovascular  \n",
       "2              no      0.0   subida                     normal  \n",
       "3              si      1.5    plano  enfermedad cardiovascular  \n",
       "4              no      0.0   subida                     normal  "
      ]
     },
     "execution_count": 10,
     "metadata": {},
     "output_type": "execute_result"
    }
   ],
   "source": [
    "heartdisease['target'] = heartdisease['target'].astype(str)\n",
    "heartdisease['target'] = heartdisease['target'].str.replace('0', 'normal')\n",
    "heartdisease['target'] = heartdisease['target'].str.replace('1', 'enfermedad cardiovascular')\n",
    "heartdisease.head()"
   ]
  },
  {
   "cell_type": "code",
   "execution_count": 11,
   "metadata": {},
   "outputs": [
    {
     "name": "stdout",
     "output_type": "stream",
     "text": [
      "<class 'pandas.core.frame.DataFrame'>\n",
      "RangeIndex: 1190 entries, 0 to 1189\n",
      "Data columns (total 12 columns):\n",
      " #   Column                    Non-Null Count  Dtype  \n",
      "---  ------                    --------------  -----  \n",
      " 0   age                       1190 non-null   int64  \n",
      " 1   sex                       1190 non-null   object \n",
      " 2   chest pain type           1190 non-null   object \n",
      " 3   resting bp s              1190 non-null   int64  \n",
      " 4   cholesterol               1190 non-null   int64  \n",
      " 5   Glicemia_Basal_Mayor_120  1190 non-null   object \n",
      " 6   resting ecg               1190 non-null   object \n",
      " 7   max heart rate            1190 non-null   int64  \n",
      " 8   exercise angina           1190 non-null   object \n",
      " 9   oldpeak                   1190 non-null   float64\n",
      " 10  ST slope                  1190 non-null   object \n",
      " 11  target                    1190 non-null   object \n",
      "dtypes: float64(1), int64(4), object(7)\n",
      "memory usage: 111.7+ KB\n"
     ]
    }
   ],
   "source": [
    "heartdisease.info()"
   ]
  },
  {
   "cell_type": "markdown",
   "metadata": {},
   "source": [
    "Ya que los datos se encuentran en el formato correcto. procedo a renombrar las columnas a su versión en castellano y a cambiar Sexo por Género"
   ]
  },
  {
   "cell_type": "code",
   "execution_count": 12,
   "metadata": {},
   "outputs": [
    {
     "data": {
      "text/html": [
       "<div>\n",
       "<style scoped>\n",
       "    .dataframe tbody tr th:only-of-type {\n",
       "        vertical-align: middle;\n",
       "    }\n",
       "\n",
       "    .dataframe tbody tr th {\n",
       "        vertical-align: top;\n",
       "    }\n",
       "\n",
       "    .dataframe thead th {\n",
       "        text-align: right;\n",
       "    }\n",
       "</style>\n",
       "<table border=\"1\" class=\"dataframe\">\n",
       "  <thead>\n",
       "    <tr style=\"text-align: right;\">\n",
       "      <th></th>\n",
       "      <th>Edad</th>\n",
       "      <th>Sexo</th>\n",
       "      <th>Tipo_Dolor_Pecho</th>\n",
       "      <th>Presion_Arterial_Reposo</th>\n",
       "      <th>Colesterol</th>\n",
       "      <th>Glicemia_Basal_Mayor_120</th>\n",
       "      <th>ECG_Reposo</th>\n",
       "      <th>Frecuencia_Cardiaca_Max</th>\n",
       "      <th>Angina_Ejercicio</th>\n",
       "      <th>Depresion_ST</th>\n",
       "      <th>Pendiente_ST</th>\n",
       "      <th>Estado</th>\n",
       "    </tr>\n",
       "  </thead>\n",
       "  <tbody>\n",
       "    <tr>\n",
       "      <th>0</th>\n",
       "      <td>40</td>\n",
       "      <td>masculino</td>\n",
       "      <td>angina atípica</td>\n",
       "      <td>140</td>\n",
       "      <td>289</td>\n",
       "      <td>falso</td>\n",
       "      <td>normal</td>\n",
       "      <td>172</td>\n",
       "      <td>no</td>\n",
       "      <td>0.0</td>\n",
       "      <td>subida</td>\n",
       "      <td>normal</td>\n",
       "    </tr>\n",
       "    <tr>\n",
       "      <th>1</th>\n",
       "      <td>49</td>\n",
       "      <td>femenino</td>\n",
       "      <td>dolor no anginoso</td>\n",
       "      <td>160</td>\n",
       "      <td>180</td>\n",
       "      <td>falso</td>\n",
       "      <td>normal</td>\n",
       "      <td>156</td>\n",
       "      <td>no</td>\n",
       "      <td>1.0</td>\n",
       "      <td>plano</td>\n",
       "      <td>enfermedad cardiovascular</td>\n",
       "    </tr>\n",
       "    <tr>\n",
       "      <th>2</th>\n",
       "      <td>37</td>\n",
       "      <td>masculino</td>\n",
       "      <td>angina atípica</td>\n",
       "      <td>130</td>\n",
       "      <td>283</td>\n",
       "      <td>falso</td>\n",
       "      <td>anormalidad de la onda ST-T</td>\n",
       "      <td>98</td>\n",
       "      <td>no</td>\n",
       "      <td>0.0</td>\n",
       "      <td>subida</td>\n",
       "      <td>normal</td>\n",
       "    </tr>\n",
       "    <tr>\n",
       "      <th>3</th>\n",
       "      <td>48</td>\n",
       "      <td>femenino</td>\n",
       "      <td>asintomático</td>\n",
       "      <td>138</td>\n",
       "      <td>214</td>\n",
       "      <td>falso</td>\n",
       "      <td>normal</td>\n",
       "      <td>108</td>\n",
       "      <td>si</td>\n",
       "      <td>1.5</td>\n",
       "      <td>plano</td>\n",
       "      <td>enfermedad cardiovascular</td>\n",
       "    </tr>\n",
       "    <tr>\n",
       "      <th>4</th>\n",
       "      <td>54</td>\n",
       "      <td>masculino</td>\n",
       "      <td>dolor no anginoso</td>\n",
       "      <td>150</td>\n",
       "      <td>195</td>\n",
       "      <td>falso</td>\n",
       "      <td>normal</td>\n",
       "      <td>122</td>\n",
       "      <td>no</td>\n",
       "      <td>0.0</td>\n",
       "      <td>subida</td>\n",
       "      <td>normal</td>\n",
       "    </tr>\n",
       "  </tbody>\n",
       "</table>\n",
       "</div>"
      ],
      "text/plain": [
       "   Edad       Sexo   Tipo_Dolor_Pecho  Presion_Arterial_Reposo  Colesterol  \\\n",
       "0    40  masculino     angina atípica                      140         289   \n",
       "1    49   femenino  dolor no anginoso                      160         180   \n",
       "2    37  masculino     angina atípica                      130         283   \n",
       "3    48   femenino       asintomático                      138         214   \n",
       "4    54  masculino  dolor no anginoso                      150         195   \n",
       "\n",
       "  Glicemia_Basal_Mayor_120                   ECG_Reposo  \\\n",
       "0                    falso                       normal   \n",
       "1                    falso                       normal   \n",
       "2                    falso  anormalidad de la onda ST-T   \n",
       "3                    falso                       normal   \n",
       "4                    falso                       normal   \n",
       "\n",
       "   Frecuencia_Cardiaca_Max Angina_Ejercicio  Depresion_ST Pendiente_ST  \\\n",
       "0                      172               no           0.0       subida   \n",
       "1                      156               no           1.0        plano   \n",
       "2                       98               no           0.0       subida   \n",
       "3                      108               si           1.5        plano   \n",
       "4                      122               no           0.0       subida   \n",
       "\n",
       "                      Estado  \n",
       "0                     normal  \n",
       "1  enfermedad cardiovascular  \n",
       "2                     normal  \n",
       "3  enfermedad cardiovascular  \n",
       "4                     normal  "
      ]
     },
     "execution_count": 12,
     "metadata": {},
     "output_type": "execute_result"
    }
   ],
   "source": [
    "heartdisease.rename(columns={\n",
    "    'age': 'Edad',\n",
    "    'sex': 'Sexo',\n",
    "    'chest pain type': 'Tipo_Dolor_Pecho',\n",
    "    'resting bp s': 'Presion_Arterial_Reposo',\n",
    "    'cholesterol': 'Colesterol',\n",
    "    'resting ecg': 'ECG_Reposo',\n",
    "    'max heart rate': 'Frecuencia_Cardiaca_Max',\n",
    "    'exercise angina': 'Angina_Ejercicio',\n",
    "    'oldpeak': 'Depresion_ST',\n",
    "    'ST slope': 'Pendiente_ST',\n",
    "    'target': 'Estado'\n",
    "}, inplace=True)\n",
    "\n",
    "heartdisease.head()"
   ]
  },
  {
   "cell_type": "markdown",
   "metadata": {},
   "source": [
    "Elimino los duplicados en caso de que existan"
   ]
  },
  {
   "cell_type": "code",
   "execution_count": 13,
   "metadata": {},
   "outputs": [
    {
     "data": {
      "text/plain": [
       "(918, 12)"
      ]
     },
     "execution_count": 13,
     "metadata": {},
     "output_type": "execute_result"
    }
   ],
   "source": [
    "heartdisease.drop_duplicates(inplace=True)\n",
    "heartdisease.shape"
   ]
  },
  {
   "cell_type": "code",
   "execution_count": 14,
   "metadata": {},
   "outputs": [
    {
     "name": "stdout",
     "output_type": "stream",
     "text": [
      "<class 'pandas.core.frame.DataFrame'>\n",
      "Index: 918 entries, 0 to 1189\n",
      "Data columns (total 12 columns):\n",
      " #   Column                    Non-Null Count  Dtype  \n",
      "---  ------                    --------------  -----  \n",
      " 0   Edad                      918 non-null    int64  \n",
      " 1   Sexo                      918 non-null    object \n",
      " 2   Tipo_Dolor_Pecho          918 non-null    object \n",
      " 3   Presion_Arterial_Reposo   918 non-null    int64  \n",
      " 4   Colesterol                918 non-null    int64  \n",
      " 5   Glicemia_Basal_Mayor_120  918 non-null    object \n",
      " 6   ECG_Reposo                918 non-null    object \n",
      " 7   Frecuencia_Cardiaca_Max   918 non-null    int64  \n",
      " 8   Angina_Ejercicio          918 non-null    object \n",
      " 9   Depresion_ST              918 non-null    float64\n",
      " 10  Pendiente_ST              918 non-null    object \n",
      " 11  Estado                    918 non-null    object \n",
      "dtypes: float64(1), int64(4), object(7)\n",
      "memory usage: 93.2+ KB\n"
     ]
    }
   ],
   "source": [
    "heartdisease.info()"
   ]
  },
  {
   "cell_type": "markdown",
   "metadata": {},
   "source": [
    "Se observa que de 1.190 registros, quedan 918"
   ]
  },
  {
   "cell_type": "markdown",
   "metadata": {},
   "source": [
    "Se toma como población de estudio a pacientes que tienen 50 años en adelante, ya que los cambios hormonales en ambos sexos contribuyen a la aparición o aumento de ciertos indicadores de enfermedad cardíaca.\n",
    "https://www.aarp.org/espanol/salud/vida-saludable/info-2019/enfermedades-del-corazon-despues-de-los-50.html\n",
    "https://enfermeriaencardiologia.com/salud-cardiovascular/prevencion/factores-de-riesgo"
   ]
  },
  {
   "cell_type": "code",
   "execution_count": 15,
   "metadata": {},
   "outputs": [
    {
     "data": {
      "text/html": [
       "<div>\n",
       "<style scoped>\n",
       "    .dataframe tbody tr th:only-of-type {\n",
       "        vertical-align: middle;\n",
       "    }\n",
       "\n",
       "    .dataframe tbody tr th {\n",
       "        vertical-align: top;\n",
       "    }\n",
       "\n",
       "    .dataframe thead th {\n",
       "        text-align: right;\n",
       "    }\n",
       "</style>\n",
       "<table border=\"1\" class=\"dataframe\">\n",
       "  <thead>\n",
       "    <tr style=\"text-align: right;\">\n",
       "      <th></th>\n",
       "      <th>Edad</th>\n",
       "      <th>Sexo</th>\n",
       "      <th>Tipo_Dolor_Pecho</th>\n",
       "      <th>Presion_Arterial_Reposo</th>\n",
       "      <th>Colesterol</th>\n",
       "      <th>Glicemia_Basal_Mayor_120</th>\n",
       "      <th>ECG_Reposo</th>\n",
       "      <th>Frecuencia_Cardiaca_Max</th>\n",
       "      <th>Angina_Ejercicio</th>\n",
       "      <th>Depresion_ST</th>\n",
       "      <th>Pendiente_ST</th>\n",
       "      <th>Estado</th>\n",
       "    </tr>\n",
       "  </thead>\n",
       "  <tbody>\n",
       "    <tr>\n",
       "      <th>4</th>\n",
       "      <td>54</td>\n",
       "      <td>masculino</td>\n",
       "      <td>dolor no anginoso</td>\n",
       "      <td>150</td>\n",
       "      <td>195</td>\n",
       "      <td>falso</td>\n",
       "      <td>normal</td>\n",
       "      <td>122</td>\n",
       "      <td>no</td>\n",
       "      <td>0.0</td>\n",
       "      <td>subida</td>\n",
       "      <td>normal</td>\n",
       "    </tr>\n",
       "    <tr>\n",
       "      <th>7</th>\n",
       "      <td>54</td>\n",
       "      <td>masculino</td>\n",
       "      <td>angina atípica</td>\n",
       "      <td>110</td>\n",
       "      <td>208</td>\n",
       "      <td>falso</td>\n",
       "      <td>normal</td>\n",
       "      <td>142</td>\n",
       "      <td>no</td>\n",
       "      <td>0.0</td>\n",
       "      <td>subida</td>\n",
       "      <td>normal</td>\n",
       "    </tr>\n",
       "    <tr>\n",
       "      <th>11</th>\n",
       "      <td>58</td>\n",
       "      <td>masculino</td>\n",
       "      <td>angina atípica</td>\n",
       "      <td>136</td>\n",
       "      <td>164</td>\n",
       "      <td>falso</td>\n",
       "      <td>anormalidad de la onda ST-T</td>\n",
       "      <td>99</td>\n",
       "      <td>si</td>\n",
       "      <td>2.0</td>\n",
       "      <td>plano</td>\n",
       "      <td>enfermedad cardiovascular</td>\n",
       "    </tr>\n",
       "    <tr>\n",
       "      <th>15</th>\n",
       "      <td>54</td>\n",
       "      <td>femenino</td>\n",
       "      <td>angina atípica</td>\n",
       "      <td>120</td>\n",
       "      <td>273</td>\n",
       "      <td>falso</td>\n",
       "      <td>normal</td>\n",
       "      <td>150</td>\n",
       "      <td>no</td>\n",
       "      <td>1.5</td>\n",
       "      <td>plano</td>\n",
       "      <td>normal</td>\n",
       "    </tr>\n",
       "    <tr>\n",
       "      <th>18</th>\n",
       "      <td>60</td>\n",
       "      <td>masculino</td>\n",
       "      <td>asintomático</td>\n",
       "      <td>100</td>\n",
       "      <td>248</td>\n",
       "      <td>falso</td>\n",
       "      <td>normal</td>\n",
       "      <td>125</td>\n",
       "      <td>no</td>\n",
       "      <td>1.0</td>\n",
       "      <td>plano</td>\n",
       "      <td>enfermedad cardiovascular</td>\n",
       "    </tr>\n",
       "  </tbody>\n",
       "</table>\n",
       "</div>"
      ],
      "text/plain": [
       "    Edad       Sexo   Tipo_Dolor_Pecho  Presion_Arterial_Reposo  Colesterol  \\\n",
       "4     54  masculino  dolor no anginoso                      150         195   \n",
       "7     54  masculino     angina atípica                      110         208   \n",
       "11    58  masculino     angina atípica                      136         164   \n",
       "15    54   femenino     angina atípica                      120         273   \n",
       "18    60  masculino       asintomático                      100         248   \n",
       "\n",
       "   Glicemia_Basal_Mayor_120                   ECG_Reposo  \\\n",
       "4                     falso                       normal   \n",
       "7                     falso                       normal   \n",
       "11                    falso  anormalidad de la onda ST-T   \n",
       "15                    falso                       normal   \n",
       "18                    falso                       normal   \n",
       "\n",
       "    Frecuencia_Cardiaca_Max Angina_Ejercicio  Depresion_ST Pendiente_ST  \\\n",
       "4                       122               no           0.0       subida   \n",
       "7                       142               no           0.0       subida   \n",
       "11                       99               si           2.0        plano   \n",
       "15                      150               no           1.5        plano   \n",
       "18                      125               no           1.0        plano   \n",
       "\n",
       "                       Estado  \n",
       "4                      normal  \n",
       "7                      normal  \n",
       "11  enfermedad cardiovascular  \n",
       "15                     normal  \n",
       "18  enfermedad cardiovascular  "
      ]
     },
     "execution_count": 15,
     "metadata": {},
     "output_type": "execute_result"
    }
   ],
   "source": [
    "grupo_de_riesgo_df = heartdisease[((heartdisease['Sexo'] == 'femenino') & (heartdisease['Edad'] >= 50)) | \n",
    "                                  ((heartdisease['Sexo'] == 'masculino') & (heartdisease['Edad'] >= 50))]\n",
    "\n",
    "grupo_de_riesgo_df.head()"
   ]
  },
  {
   "cell_type": "markdown",
   "metadata": {},
   "source": [
    "Realizo un describe para conocer las estadísticas de los datos numéricos"
   ]
  },
  {
   "cell_type": "code",
   "execution_count": 16,
   "metadata": {},
   "outputs": [
    {
     "data": {
      "text/html": [
       "<div>\n",
       "<style scoped>\n",
       "    .dataframe tbody tr th:only-of-type {\n",
       "        vertical-align: middle;\n",
       "    }\n",
       "\n",
       "    .dataframe tbody tr th {\n",
       "        vertical-align: top;\n",
       "    }\n",
       "\n",
       "    .dataframe thead th {\n",
       "        text-align: right;\n",
       "    }\n",
       "</style>\n",
       "<table border=\"1\" class=\"dataframe\">\n",
       "  <thead>\n",
       "    <tr style=\"text-align: right;\">\n",
       "      <th></th>\n",
       "      <th>Edad</th>\n",
       "      <th>Presion_Arterial_Reposo</th>\n",
       "      <th>Colesterol</th>\n",
       "      <th>Frecuencia_Cardiaca_Max</th>\n",
       "      <th>Depresion_ST</th>\n",
       "    </tr>\n",
       "  </thead>\n",
       "  <tbody>\n",
       "    <tr>\n",
       "      <th>count</th>\n",
       "      <td>627.000000</td>\n",
       "      <td>627.000000</td>\n",
       "      <td>627.000000</td>\n",
       "      <td>627.000000</td>\n",
       "      <td>627.000000</td>\n",
       "    </tr>\n",
       "    <tr>\n",
       "      <th>mean</th>\n",
       "      <td>58.690590</td>\n",
       "      <td>135.178628</td>\n",
       "      <td>191.470494</td>\n",
       "      <td>131.199362</td>\n",
       "      <td>1.048485</td>\n",
       "    </tr>\n",
       "    <tr>\n",
       "      <th>std</th>\n",
       "      <td>5.873531</td>\n",
       "      <td>18.915821</td>\n",
       "      <td>116.667849</td>\n",
       "      <td>24.090885</td>\n",
       "      <td>1.096353</td>\n",
       "    </tr>\n",
       "    <tr>\n",
       "      <th>min</th>\n",
       "      <td>50.000000</td>\n",
       "      <td>0.000000</td>\n",
       "      <td>0.000000</td>\n",
       "      <td>60.000000</td>\n",
       "      <td>-2.000000</td>\n",
       "    </tr>\n",
       "    <tr>\n",
       "      <th>25%</th>\n",
       "      <td>54.000000</td>\n",
       "      <td>122.000000</td>\n",
       "      <td>156.500000</td>\n",
       "      <td>115.000000</td>\n",
       "      <td>0.000000</td>\n",
       "    </tr>\n",
       "    <tr>\n",
       "      <th>50%</th>\n",
       "      <td>58.000000</td>\n",
       "      <td>134.000000</td>\n",
       "      <td>221.000000</td>\n",
       "      <td>130.000000</td>\n",
       "      <td>1.000000</td>\n",
       "    </tr>\n",
       "    <tr>\n",
       "      <th>75%</th>\n",
       "      <td>62.000000</td>\n",
       "      <td>145.000000</td>\n",
       "      <td>267.500000</td>\n",
       "      <td>150.000000</td>\n",
       "      <td>1.800000</td>\n",
       "    </tr>\n",
       "    <tr>\n",
       "      <th>max</th>\n",
       "      <td>77.000000</td>\n",
       "      <td>200.000000</td>\n",
       "      <td>603.000000</td>\n",
       "      <td>195.000000</td>\n",
       "      <td>6.200000</td>\n",
       "    </tr>\n",
       "  </tbody>\n",
       "</table>\n",
       "</div>"
      ],
      "text/plain": [
       "             Edad  Presion_Arterial_Reposo  Colesterol  \\\n",
       "count  627.000000               627.000000  627.000000   \n",
       "mean    58.690590               135.178628  191.470494   \n",
       "std      5.873531                18.915821  116.667849   \n",
       "min     50.000000                 0.000000    0.000000   \n",
       "25%     54.000000               122.000000  156.500000   \n",
       "50%     58.000000               134.000000  221.000000   \n",
       "75%     62.000000               145.000000  267.500000   \n",
       "max     77.000000               200.000000  603.000000   \n",
       "\n",
       "       Frecuencia_Cardiaca_Max  Depresion_ST  \n",
       "count               627.000000    627.000000  \n",
       "mean                131.199362      1.048485  \n",
       "std                  24.090885      1.096353  \n",
       "min                  60.000000     -2.000000  \n",
       "25%                 115.000000      0.000000  \n",
       "50%                 130.000000      1.000000  \n",
       "75%                 150.000000      1.800000  \n",
       "max                 195.000000      6.200000  "
      ]
     },
     "execution_count": 16,
     "metadata": {},
     "output_type": "execute_result"
    }
   ],
   "source": [
    "grupo_de_riesgo_df.describe()\n"
   ]
  },
  {
   "cell_type": "markdown",
   "metadata": {},
   "source": [
    "### Análisis de la variable \"Colesterol\""
   ]
  },
  {
   "cell_type": "markdown",
   "metadata": {},
   "source": [
    "Primero realizo un plotting de cajas y bigotes para conocer mejor la distribución de registros y saber si existen outliers"
   ]
  },
  {
   "cell_type": "code",
   "execution_count": 17,
   "metadata": {},
   "outputs": [
    {
     "data": {
      "image/png": "[encoded data removed]",
      "text/plain": [
       "<Figure size 1200x600 with 1 Axes>"
      ]
     },
     "metadata": {},
     "output_type": "display_data"
    }
   ],
   "source": [
    "sns.set_style(style=\"whitegrid\")\n",
    "\n",
    "plt.figure(figsize=(12, 6))\n",
    "\n",
    "sns.boxplot(data=grupo_de_riesgo_df, x='Colesterol', hue=\"Sexo\", palette=\"flare\")\n",
    "plt.title('Niveles de colesterol en Grupo de Riesgo por Sexo')\n",
    "plt.xlabel('Colesterol (mg/dL)')\n",
    "\n",
    "plt.show()"
   ]
  },
  {
   "cell_type": "markdown",
   "metadata": {},
   "source": [
    "Reviso los datos del campo correspondiente a niveles de colesterol mediante un describe"
   ]
  },
  {
   "cell_type": "code",
   "execution_count": 18,
   "metadata": {},
   "outputs": [
    {
     "data": {
      "text/plain": [
       "count    627.000000\n",
       "mean     191.470494\n",
       "std      116.667849\n",
       "min        0.000000\n",
       "25%      156.500000\n",
       "50%      221.000000\n",
       "75%      267.500000\n",
       "max      603.000000\n",
       "Name: Colesterol, dtype: float64"
      ]
     },
     "execution_count": 18,
     "metadata": {},
     "output_type": "execute_result"
    }
   ],
   "source": [
    "grupo_de_riesgo_df[\"Colesterol\"].describe()"
   ]
  },
  {
   "cell_type": "markdown",
   "metadata": {},
   "source": [
    "Elimino mediante un filtro los valores inferiores a 120 ya que un ser humano de este rango de edad posee niveles de colesterol total superiores a 120 mg/dl, https://www.medicalnewstoday.com/articles/es/niveles-de-colesterol-por-edad"
   ]
  },
  {
   "cell_type": "code",
   "execution_count": 19,
   "metadata": {},
   "outputs": [
    {
     "data": {
      "text/html": [
       "<div>\n",
       "<style scoped>\n",
       "    .dataframe tbody tr th:only-of-type {\n",
       "        vertical-align: middle;\n",
       "    }\n",
       "\n",
       "    .dataframe tbody tr th {\n",
       "        vertical-align: top;\n",
       "    }\n",
       "\n",
       "    .dataframe thead th {\n",
       "        text-align: right;\n",
       "    }\n",
       "</style>\n",
       "<table border=\"1\" class=\"dataframe\">\n",
       "  <thead>\n",
       "    <tr style=\"text-align: right;\">\n",
       "      <th></th>\n",
       "      <th>Edad</th>\n",
       "      <th>Presion_Arterial_Reposo</th>\n",
       "      <th>Colesterol</th>\n",
       "      <th>Frecuencia_Cardiaca_Max</th>\n",
       "      <th>Depresion_ST</th>\n",
       "    </tr>\n",
       "  </thead>\n",
       "  <tbody>\n",
       "    <tr>\n",
       "      <th>count</th>\n",
       "      <td>480.000000</td>\n",
       "      <td>480.000000</td>\n",
       "      <td>480.000000</td>\n",
       "      <td>480.000000</td>\n",
       "      <td>480.000000</td>\n",
       "    </tr>\n",
       "    <tr>\n",
       "      <th>mean</th>\n",
       "      <td>58.479167</td>\n",
       "      <td>136.179167</td>\n",
       "      <td>249.050000</td>\n",
       "      <td>134.825000</td>\n",
       "      <td>1.093542</td>\n",
       "    </tr>\n",
       "    <tr>\n",
       "      <th>std</th>\n",
       "      <td>5.885439</td>\n",
       "      <td>17.375900</td>\n",
       "      <td>59.268625</td>\n",
       "      <td>23.018523</td>\n",
       "      <td>1.116782</td>\n",
       "    </tr>\n",
       "    <tr>\n",
       "      <th>min</th>\n",
       "      <td>50.000000</td>\n",
       "      <td>94.000000</td>\n",
       "      <td>123.000000</td>\n",
       "      <td>69.000000</td>\n",
       "      <td>0.000000</td>\n",
       "    </tr>\n",
       "    <tr>\n",
       "      <th>25%</th>\n",
       "      <td>54.000000</td>\n",
       "      <td>125.000000</td>\n",
       "      <td>211.000000</td>\n",
       "      <td>118.000000</td>\n",
       "      <td>0.000000</td>\n",
       "    </tr>\n",
       "    <tr>\n",
       "      <th>50%</th>\n",
       "      <td>58.000000</td>\n",
       "      <td>135.000000</td>\n",
       "      <td>240.000000</td>\n",
       "      <td>136.000000</td>\n",
       "      <td>1.000000</td>\n",
       "    </tr>\n",
       "    <tr>\n",
       "      <th>75%</th>\n",
       "      <td>62.000000</td>\n",
       "      <td>145.000000</td>\n",
       "      <td>282.000000</td>\n",
       "      <td>152.000000</td>\n",
       "      <td>1.800000</td>\n",
       "    </tr>\n",
       "    <tr>\n",
       "      <th>max</th>\n",
       "      <td>77.000000</td>\n",
       "      <td>200.000000</td>\n",
       "      <td>603.000000</td>\n",
       "      <td>195.000000</td>\n",
       "      <td>6.200000</td>\n",
       "    </tr>\n",
       "  </tbody>\n",
       "</table>\n",
       "</div>"
      ],
      "text/plain": [
       "             Edad  Presion_Arterial_Reposo  Colesterol  \\\n",
       "count  480.000000               480.000000  480.000000   \n",
       "mean    58.479167               136.179167  249.050000   \n",
       "std      5.885439                17.375900   59.268625   \n",
       "min     50.000000                94.000000  123.000000   \n",
       "25%     54.000000               125.000000  211.000000   \n",
       "50%     58.000000               135.000000  240.000000   \n",
       "75%     62.000000               145.000000  282.000000   \n",
       "max     77.000000               200.000000  603.000000   \n",
       "\n",
       "       Frecuencia_Cardiaca_Max  Depresion_ST  \n",
       "count               480.000000    480.000000  \n",
       "mean                134.825000      1.093542  \n",
       "std                  23.018523      1.116782  \n",
       "min                  69.000000      0.000000  \n",
       "25%                 118.000000      0.000000  \n",
       "50%                 136.000000      1.000000  \n",
       "75%                 152.000000      1.800000  \n",
       "max                 195.000000      6.200000  "
      ]
     },
     "execution_count": 19,
     "metadata": {},
     "output_type": "execute_result"
    }
   ],
   "source": [
    "grupo_de_riesgo_df = grupo_de_riesgo_df[grupo_de_riesgo_df['Colesterol'] > 120]\n",
    "grupo_de_riesgo_df.describe()"
   ]
  },
  {
   "cell_type": "code",
   "execution_count": 20,
   "metadata": {},
   "outputs": [
    {
     "data": {
      "image/png": "[encoded data removed]",
      "text/plain": [
       "<Figure size 1200x600 with 1 Axes>"
      ]
     },
     "metadata": {},
     "output_type": "display_data"
    }
   ],
   "source": [
    "plt.figure(figsize=(12, 6))\n",
    "\n",
    "sns.boxplot(data=grupo_de_riesgo_df, x='Colesterol', hue=\"Sexo\", palette=\"flare\")\n",
    "plt.title('Niveles de colesterol en Grupo de Riesgo por Sexo')\n",
    "plt.xlabel('Colesterol (mg/dL)')\n",
    "\n",
    "plt.show()\n"
   ]
  },
  {
   "cell_type": "markdown",
   "metadata": {},
   "source": [
    "Tras revisar los datos, se observa que los niveles de colesterol son muy altos en la población de estudio, cosa que se debe a que la población de estudio tiene ya diagnosticada o cumple con algunos criterios para el diagnóstico de enfermedades cardiovasculares, por lo cual existe un sesgo que se manejará como tal a lo largo de esta investigación"
   ]
  },
  {
   "cell_type": "markdown",
   "metadata": {},
   "source": [
    "# Reconocimiento del tipo de distribución de la población de estudio según la variable Colesterol"
   ]
  },
  {
   "cell_type": "code",
   "execution_count": 21,
   "metadata": {},
   "outputs": [
    {
     "data": {
      "image/png": "[encoded data removed]",
      "text/plain": [
       "<Figure size 1000x500 with 1 Axes>"
      ]
     },
     "metadata": {},
     "output_type": "display_data"
    }
   ],
   "source": [
    "plt.figure(figsize=(10, 5))\n",
    "sns.histplot(grupo_de_riesgo_df['Colesterol'], bins=15, kde=True)\n",
    "plt.title('Histograma de Niveles de Colesterol')\n",
    "plt.xlabel('Colesterol (mg/dL)')\n",
    "plt.ylabel('Frecuencia')\n",
    "plt.axvline(x=200, color='r', linestyle='--', label='Límite Alto: 200 mg/dL')\n",
    "plt.legend()\n",
    "plt.show()"
   ]
  },
  {
   "cell_type": "markdown",
   "metadata": {},
   "source": [
    "Con este gráfico se observa que no existe una distribución normal en el dataset, por lo que con pandas se calcula la asimetría "
   ]
  },
  {
   "cell_type": "code",
   "execution_count": 22,
   "metadata": {},
   "outputs": [
    {
     "name": "stdout",
     "output_type": "stream",
     "text": [
      "Asimetría: 1.392750523951329\n"
     ]
    }
   ],
   "source": [
    "asimetria = grupo_de_riesgo_df['Colesterol']\n",
    "\n",
    "# Calcular asimetría con pandas\n",
    "skewness_pd = asimetria.skew()\n",
    "print(\"Asimetría:\", skewness_pd)\n"
   ]
  },
  {
   "cell_type": "markdown",
   "metadata": {},
   "source": [
    "Ya que es mayor que 1, se considera fuertemente sesgada:\n",
    "Un valor positivo indica sesgo a la derecha (colas largas en el extremo superior), tal y como se observa en el histograma."
   ]
  },
  {
   "cell_type": "code",
   "execution_count": 23,
   "metadata": {},
   "outputs": [
    {
     "name": "stdout",
     "output_type": "stream",
     "text": [
      "Shapiro-Wilk Test:\n",
      "Statistic: 0.9250930953630504 P-value: 9.728515075658714e-15\n"
     ]
    }
   ],
   "source": [
    "# Prueba de Shapiro-Wilk\n",
    "stat, p_value = shapiro(asimetria)\n",
    "print(\"Shapiro-Wilk Test:\")\n",
    "print(\"Statistic:\", stat, \"P-value:\", p_value)"
   ]
  },
  {
   "cell_type": "markdown",
   "metadata": {},
   "source": [
    "El resultado es mucho menor que el nivel de significancia común de 0.05. Esto significa que es muy poco probable que estos datos sigan una distribución normal."
   ]
  },
  {
   "cell_type": "markdown",
   "metadata": {},
   "source": [
    "# Identificación de outliers de una distribución altamente sesgada"
   ]
  },
  {
   "cell_type": "markdown",
   "metadata": {},
   "source": [
    "Ajusté el IQR a 1.0 en lugar de 1.5 porque trabajo con datos altamente variables y porque en este dataset tengo una valores extremos que no debo eliminar del estudio ya que siguen teniendo sentido e importancia. Este ajuste permite filtrar datos más específicos y reducir el número de outliers considerados, que podría ser apropiado para conjuntos de datos no normalmente distribuidos o con distribuciones altamente sesgadas, como es el caso. \n",
    "https://fastercapital.com/es/contenido/Asimetria-de-datos--asimetria-de-datos-y-IQR--una-historia-de-asimetria.html"
   ]
  },
  {
   "cell_type": "code",
   "execution_count": 24,
   "metadata": {},
   "outputs": [],
   "source": [
    "Q1 = grupo_de_riesgo_df['Colesterol'].quantile(0.25)\n",
    "Q3 = grupo_de_riesgo_df['Colesterol'].quantile(0.75)\n",
    "IQR = Q3 - Q1\n",
    "limite_inferior = Q1 - 1.0 * IQR\n",
    "limite_superior = Q3 + 1.0 * IQR"
   ]
  },
  {
   "cell_type": "code",
   "execution_count": 25,
   "metadata": {},
   "outputs": [
    {
     "data": {
      "text/plain": [
       "count    454.000000\n",
       "mean     243.605727\n",
       "std       44.804270\n",
       "min      149.000000\n",
       "25%      211.000000\n",
       "50%      238.500000\n",
       "75%      274.750000\n",
       "max      353.000000\n",
       "Name: Colesterol, dtype: float64"
      ]
     },
     "execution_count": 25,
     "metadata": {},
     "output_type": "execute_result"
    }
   ],
   "source": [
    "grupo_sin_outliers = grupo_de_riesgo_df[(grupo_de_riesgo_df['Colesterol'] >= limite_inferior) & \n",
    "                                         (grupo_de_riesgo_df['Colesterol'] <= limite_superior)]\n",
    "grupo_sin_outliers['Colesterol'].describe()"
   ]
  },
  {
   "cell_type": "markdown",
   "metadata": {},
   "source": [
    "- El valor medio del colesterol en la población en conjunto es de 243.6 mg/dL\n",
    "- La desviación estándar es de 44.8 mg/dL, lo que indica que existe una variabilidad considerable en los niveles de colesterol, con algunos individuos teniendo valores mucho más altos o más bajos que la media.\n",
    "- El valor mínimo de colesterol observado es de 149 mg/dL.\n",
    "- El primer cuartil (Q1) es 211 mg/dL, el 25% de los individuos tienen un nivel de colesterol igual o inferior a 211 mg/dL.\n",
    "- La mediana (Q2) es 238.5 mg/dL, la mitad de los individuos tienen un nivel de colesterol igual o inferior a este valor.\n",
    "- El tercer cuartil (Q3) es 274.75 mg/dL. El 75% de los individuos tienen un nivel de colesterol igual o inferior a este valor.\n",
    "- El valor máximo de colesterol observado es de 353 mg/dL."
   ]
  },
  {
   "cell_type": "code",
   "execution_count": 26,
   "metadata": {},
   "outputs": [
    {
     "data": {
      "image/png": "[encoded data removed]",
      "text/plain": [
       "<Figure size 1200x600 with 1 Axes>"
      ]
     },
     "metadata": {},
     "output_type": "display_data"
    }
   ],
   "source": [
    "plt.figure(figsize=(12, 6))\n",
    "\n",
    "sns.boxplot(data=grupo_sin_outliers, x='Colesterol', hue=\"Sexo\", palette=\"flare\")\n",
    "plt.title('Niveles de colesterol en Grupo de \"Menor Riesgo\"')\n",
    "plt.xlabel('Colesterol (mg/dL)')\n",
    "\n",
    "plt.show()"
   ]
  },
  {
   "cell_type": "markdown",
   "metadata": {},
   "source": [
    "Hago un describe para poder discriminar de acuerdo al sexo y poder analizar este gráfico con mayor facilidad"
   ]
  },
  {
   "cell_type": "code",
   "execution_count": 27,
   "metadata": {},
   "outputs": [
    {
     "data": {
      "text/html": [
       "<div>\n",
       "<style scoped>\n",
       "    .dataframe tbody tr th:only-of-type {\n",
       "        vertical-align: middle;\n",
       "    }\n",
       "\n",
       "    .dataframe tbody tr th {\n",
       "        vertical-align: top;\n",
       "    }\n",
       "\n",
       "    .dataframe thead th {\n",
       "        text-align: right;\n",
       "    }\n",
       "</style>\n",
       "<table border=\"1\" class=\"dataframe\">\n",
       "  <thead>\n",
       "    <tr style=\"text-align: right;\">\n",
       "      <th></th>\n",
       "      <th>count</th>\n",
       "      <th>mean</th>\n",
       "      <th>std</th>\n",
       "      <th>min</th>\n",
       "      <th>25%</th>\n",
       "      <th>50%</th>\n",
       "      <th>75%</th>\n",
       "      <th>max</th>\n",
       "    </tr>\n",
       "    <tr>\n",
       "      <th>Sexo</th>\n",
       "      <th></th>\n",
       "      <th></th>\n",
       "      <th></th>\n",
       "      <th></th>\n",
       "      <th></th>\n",
       "      <th></th>\n",
       "      <th></th>\n",
       "      <th></th>\n",
       "    </tr>\n",
       "  </thead>\n",
       "  <tbody>\n",
       "    <tr>\n",
       "      <th>femenino</th>\n",
       "      <td>103.0</td>\n",
       "      <td>259.174757</td>\n",
       "      <td>47.289975</td>\n",
       "      <td>149.0</td>\n",
       "      <td>220.5</td>\n",
       "      <td>263.0</td>\n",
       "      <td>300.0</td>\n",
       "      <td>347.0</td>\n",
       "    </tr>\n",
       "    <tr>\n",
       "      <th>masculino</th>\n",
       "      <td>351.0</td>\n",
       "      <td>239.037037</td>\n",
       "      <td>43.060174</td>\n",
       "      <td>152.0</td>\n",
       "      <td>208.5</td>\n",
       "      <td>233.0</td>\n",
       "      <td>269.5</td>\n",
       "      <td>353.0</td>\n",
       "    </tr>\n",
       "  </tbody>\n",
       "</table>\n",
       "</div>"
      ],
      "text/plain": [
       "           count        mean        std    min    25%    50%    75%    max\n",
       "Sexo                                                                      \n",
       "femenino   103.0  259.174757  47.289975  149.0  220.5  263.0  300.0  347.0\n",
       "masculino  351.0  239.037037  43.060174  152.0  208.5  233.0  269.5  353.0"
      ]
     },
     "execution_count": 27,
     "metadata": {},
     "output_type": "execute_result"
    }
   ],
   "source": [
    "descriptive_stats_by_sexo = grupo_sin_outliers.groupby('Sexo')['Colesterol'].describe()\n",
    "descriptive_stats_by_sexo"
   ]
  },
  {
   "cell_type": "markdown",
   "metadata": {},
   "source": [
    "Comparando ambos sexos:\n",
    "\n",
    "- La media de colesterol en las mujeres (259.17 mg/dL) es ligeramente superior a la de los hombres (239.04 mg/dL).\n",
    "- La desviación estándar es similar en ambos grupos, aunque un poco mayor en las mujeres (47.29 vs. 43.06). Esto indica una variabilidad ligeramente mayor en los niveles de colesterol en las mujeres.\n",
    "- El rango de valores de colesterol es más amplio en los hombres (152 a 353 mg/dL) que en las mujeres (149 a 347 mg/dL).\n",
    "\n",
    "Hay una diferencia notable en el número de individuos en cada grupo: 103 mujeres frente a 351 hombres. Esto puede influir en la representatividad de las estadísticas.\n",
    "\n",
    "Observando los percentiles, se puede ver que la distribución del colesterol en las mujeres está ligeramente desplazada hacia valores más altos en comparación con los hombres."
   ]
  },
  {
   "cell_type": "markdown",
   "metadata": {},
   "source": [
    "# Análisis de la variable \"Presión Arterial Sistólica\""
   ]
  },
  {
   "cell_type": "markdown",
   "metadata": {},
   "source": [
    "En el dataset solo se encuentra la presión arterial sistólica ya que esta es una medición importante entre los factores de riesgo a evaluar para realizar el diagnóstico de enfermedades cardiovasculares en individuos con edad mayor a 50 años\n",
    "https://www.heart.org/en/health-topics/high-blood-pressure/understanding-blood-pressure-readings"
   ]
  },
  {
   "cell_type": "code",
   "execution_count": 28,
   "metadata": {},
   "outputs": [
    {
     "data": {
      "image/png": "[encoded data removed]",
      "text/plain": [
       "<Figure size 1200x600 with 1 Axes>"
      ]
     },
     "metadata": {},
     "output_type": "display_data"
    }
   ],
   "source": [
    "plt.figure(figsize=(12, 6))\n",
    "\n",
    "sns.boxplot(data=grupo_sin_outliers, x='Presion_Arterial_Reposo', hue=\"Sexo\", palette=\"flare\")\n",
    "plt.title('Distribución de Presión Arterial Sistólica en mayores de 50 años')\n",
    "plt.xlabel('Presión Arterial Sistólica (mmHg)')\n",
    "\n",
    "plt.show()"
   ]
  },
  {
   "cell_type": "code",
   "execution_count": 29,
   "metadata": {},
   "outputs": [
    {
     "data": {
      "text/plain": [
       "count    480.000000\n",
       "mean     136.179167\n",
       "std       17.375900\n",
       "min       94.000000\n",
       "25%      125.000000\n",
       "50%      135.000000\n",
       "75%      145.000000\n",
       "max      200.000000\n",
       "Name: Presion_Arterial_Reposo, dtype: float64"
      ]
     },
     "execution_count": 29,
     "metadata": {},
     "output_type": "execute_result"
    }
   ],
   "source": [
    "grupo_de_riesgo_df[\"Presion_Arterial_Reposo\"].describe()"
   ]
  },
  {
   "cell_type": "code",
   "execution_count": 30,
   "metadata": {},
   "outputs": [
    {
     "data": {
      "image/png": "[encoded data removed]",
      "text/plain": [
       "<Figure size 1000x500 with 1 Axes>"
      ]
     },
     "metadata": {},
     "output_type": "display_data"
    }
   ],
   "source": [
    "plt.figure(figsize=(10, 5))\n",
    "sns.histplot(grupo_sin_outliers[\"Presion_Arterial_Reposo\"], bins=15, kde=True)\n",
    "plt.title('Histograma de Presión Arterial Sistólica en Repoco')\n",
    "plt.xlabel('Presión arterial Sistólica')\n",
    "plt.ylabel('Frecuencia')\n",
    "plt.axvline(x=135, color='r', linestyle='--', label='Límite Alto: 135 mmHG')\n",
    "plt.legend()\n",
    "plt.show()"
   ]
  },
  {
   "cell_type": "code",
   "execution_count": 31,
   "metadata": {},
   "outputs": [
    {
     "name": "stdout",
     "output_type": "stream",
     "text": [
      "Asimetría: 0.5965969557724164\n"
     ]
    }
   ],
   "source": [
    "# análisis de asimetría de Presión Arterial Sistólica en Reposo\n",
    "data = grupo_sin_outliers[\"Presion_Arterial_Reposo\"]\n",
    "\n",
    "skewness_pd = data.skew()\n",
    "print(\"Asimetría:\", skewness_pd)\n"
   ]
  },
  {
   "cell_type": "markdown",
   "metadata": {},
   "source": [
    "Asimetría positiva moderada: Aunque la distribución se inclina hacia valores más altos, la asimetría no es extremadamente pronunciada"
   ]
  },
  {
   "cell_type": "code",
   "execution_count": 32,
   "metadata": {},
   "outputs": [
    {
     "data": {
      "text/plain": [
       "count    463.000000\n",
       "mean     134.825054\n",
       "std       15.142100\n",
       "min      100.000000\n",
       "25%      124.000000\n",
       "50%      135.000000\n",
       "75%      143.000000\n",
       "max      172.000000\n",
       "Name: Presion_Arterial_Reposo, dtype: float64"
      ]
     },
     "execution_count": 32,
     "metadata": {},
     "output_type": "execute_result"
    }
   ],
   "source": [
    "Q1 = grupo_de_riesgo_df['Presion_Arterial_Reposo'].quantile(0.25)\n",
    "Q3 = grupo_de_riesgo_df['Presion_Arterial_Reposo'].quantile(0.75)\n",
    "IQR = Q3 - Q1\n",
    "limite_inferior = Q1 - 1.4 * IQR\n",
    "limite_superior = Q3 + 1.4 * IQR\n",
    "\n",
    "grupo_sin_outliers = grupo_de_riesgo_df[(grupo_de_riesgo_df['Presion_Arterial_Reposo'] >= limite_inferior) & \n",
    "                                         (grupo_de_riesgo_df['Presion_Arterial_Reposo'] <= limite_superior)]\n",
    "grupo_sin_outliers['Presion_Arterial_Reposo'].describe()\n"
   ]
  },
  {
   "cell_type": "code",
   "execution_count": 33,
   "metadata": {},
   "outputs": [
    {
     "data": {
      "image/png": "[encoded data removed]",
      "text/plain": [
       "<Figure size 1200x600 with 1 Axes>"
      ]
     },
     "metadata": {},
     "output_type": "display_data"
    }
   ],
   "source": [
    "plt.figure(figsize=(12, 6))\n",
    "\n",
    "sns.boxplot(data=grupo_sin_outliers, x='Presion_Arterial_Reposo', hue=\"Sexo\", palette=\"flare\")\n",
    "plt.title('Distribución de Presión Arterial Sistólica en mayores de 50 años')\n",
    "plt.xlabel('Presión Arterial Sistólica (mmHg)')\n",
    "\n",
    "plt.show()"
   ]
  },
  {
   "cell_type": "markdown",
   "metadata": {},
   "source": [
    "- La mediana de la presión arterial sistólica es más alta en hombres que en mujeres.\n",
    "- La dispersión de los datos (representada por la longitud de las cajas) parece ser similar en ambos sexos.\n",
    "- El rango de valores de presión arterial sistólica parece ser más amplio en hombres."
   ]
  },
  {
   "cell_type": "code",
   "execution_count": 34,
   "metadata": {},
   "outputs": [
    {
     "data": {
      "text/html": [
       "<div>\n",
       "<style scoped>\n",
       "    .dataframe tbody tr th:only-of-type {\n",
       "        vertical-align: middle;\n",
       "    }\n",
       "\n",
       "    .dataframe tbody tr th {\n",
       "        vertical-align: top;\n",
       "    }\n",
       "\n",
       "    .dataframe thead th {\n",
       "        text-align: right;\n",
       "    }\n",
       "</style>\n",
       "<table border=\"1\" class=\"dataframe\">\n",
       "  <thead>\n",
       "    <tr style=\"text-align: right;\">\n",
       "      <th></th>\n",
       "      <th>count</th>\n",
       "      <th>mean</th>\n",
       "      <th>std</th>\n",
       "      <th>min</th>\n",
       "      <th>25%</th>\n",
       "      <th>50%</th>\n",
       "      <th>75%</th>\n",
       "      <th>max</th>\n",
       "    </tr>\n",
       "    <tr>\n",
       "      <th>Sexo</th>\n",
       "      <th></th>\n",
       "      <th></th>\n",
       "      <th></th>\n",
       "      <th></th>\n",
       "      <th></th>\n",
       "      <th></th>\n",
       "      <th></th>\n",
       "      <th></th>\n",
       "    </tr>\n",
       "  </thead>\n",
       "  <tbody>\n",
       "    <tr>\n",
       "      <th>femenino</th>\n",
       "      <td>106.0</td>\n",
       "      <td>132.745283</td>\n",
       "      <td>15.239711</td>\n",
       "      <td>100.0</td>\n",
       "      <td>120.0</td>\n",
       "      <td>130.0</td>\n",
       "      <td>140.0</td>\n",
       "      <td>170.0</td>\n",
       "    </tr>\n",
       "    <tr>\n",
       "      <th>masculino</th>\n",
       "      <td>357.0</td>\n",
       "      <td>135.442577</td>\n",
       "      <td>15.079198</td>\n",
       "      <td>100.0</td>\n",
       "      <td>125.0</td>\n",
       "      <td>136.0</td>\n",
       "      <td>144.0</td>\n",
       "      <td>172.0</td>\n",
       "    </tr>\n",
       "  </tbody>\n",
       "</table>\n",
       "</div>"
      ],
      "text/plain": [
       "           count        mean        std    min    25%    50%    75%    max\n",
       "Sexo                                                                      \n",
       "femenino   106.0  132.745283  15.239711  100.0  120.0  130.0  140.0  170.0\n",
       "masculino  357.0  135.442577  15.079198  100.0  125.0  136.0  144.0  172.0"
      ]
     },
     "execution_count": 34,
     "metadata": {},
     "output_type": "execute_result"
    }
   ],
   "source": [
    "descriptive_stats_PAS_sexo = grupo_sin_outliers.groupby('Sexo')['Presion_Arterial_Reposo'].describe()\n",
    "descriptive_stats_PAS_sexo "
   ]
  },
  {
   "cell_type": "markdown",
   "metadata": {},
   "source": [
    "- La media de la presión arterial sistólica es ligeramente mayor en hombres (135.44 mmHg) que en mujeres (132.75 mmHg).\n",
    "- La desviación estándar es muy similar en ambos grupos (alrededor de 15), lo que indica una variabilidad similar en los niveles de presión arterial sistólica.\n",
    "- El rango de valores es ligeramente más amplio en hombres (100 a 172 mmHg) que en mujeres (100 a 170 mmHg).\n",
    "- Observando los percentiles, se puede confirmar que la distribución de la presión arterial sistólica en hombres está ligeramente desplazada hacia valores más altos en comparación con las mujeres."
   ]
  },
  {
   "cell_type": "code",
   "execution_count": 35,
   "metadata": {},
   "outputs": [],
   "source": [
    "# Ahora que tenemos el fichero limpio, crearemos un fichero CSV que será el que usemos para cargar en Power BI.\n",
    "\n",
    "grupo_sin_outliers.to_csv(r\"C:\\Users\\X\\Desktop\\Sprint 10 Proyecto\\enfermedadcard.csv\",sep=\",\", index=False)"
   ]
  },
  {
   "cell_type": "code",
   "execution_count": 37,
   "metadata": {},
   "outputs": [
    {
     "name": "stdout",
     "output_type": "stream",
     "text": [
      "Correlación entre Presión Arterial y Colesterol: 0.00543622898735004\n"
     ]
    }
   ],
   "source": [
    "# Calcular la correlación entre presión arterial y colesterol\n",
    "correlation = grupo_sin_outliers['Presion_Arterial_Reposo'].corr(grupo_sin_outliers['Colesterol'])\n",
    "print(\"Correlación entre Presión Arterial y Colesterol:\", correlation)"
   ]
  },
  {
   "cell_type": "code",
   "execution_count": 43,
   "metadata": {},
   "outputs": [
    {
     "data": {
      "image/png": "[encoded data removed]",
      "text/plain": [
       "<Figure size 800x600 with 2 Axes>"
      ]
     },
     "metadata": {},
     "output_type": "display_data"
    }
   ],
   "source": [
    "# Calcular la matriz de correlación\n",
    "correlacion = grupo_sin_outliers[['Colesterol', 'Presion_Arterial_Reposo']].corr()\n",
    "\n",
    "# Visualizar la matriz de correlación\n",
    "plt.figure(figsize=(8, 6))\n",
    "sns.heatmap(correlacion, annot=True, cmap='coolwarm', fmt='.2f')\n",
    "plt.title('Matriz de Correlación')\n",
    "plt.show()\n",
    "\n"
   ]
  }
 ],
 "metadata": {
  "kernelspec": {
   "display_name": "Python 3",
   "language": "python",
   "name": "python3"
  },
  "language_info": {
   "codemirror_mode": {
    "name": "ipython",
    "version": 3
   },
   "file_extension": ".py",
   "mimetype": "text/x-python",
   "name": "python",
   "nbconvert_exporter": "python",
   "pygments_lexer": "ipython3",
   "version": "3.12.4"
  }
 },
 "nbformat": 4,
 "nbformat_minor": 2
}
