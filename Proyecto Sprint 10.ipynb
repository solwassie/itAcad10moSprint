{
 "cells": [
  {
   "cell_type": "markdown",
   "metadata": {},
   "source": [
    "# Estudio de Correlación de Edad, Colesterol y Presión Arterial en Mujeres mayores de 50 años: Un Enfoque en Salud Cardiovascular"
   ]
  },
  {
   "cell_type": "markdown",
   "metadata": {},
   "source": [
    "Manu Siddhartha. (2020). Heart Disease Dataset (Comprehensive). IEEE Dataport. https://dx.doi.org/10.21227/dz4t-cm36\n",
    "\n",
    "Este dataset combina 5 popular datasets populares, donde contiene over 11 columnas con datos sobre enfermedad cardiovascular, permitiendo así su uso para una gran cantidad de estudios de análisis de datos y Machine Learning. Se usan datasets de las siguientes regiones en esta combinación:\n",
    "\n",
    "Cleveland,\n",
    "Hungarian,\n",
    "Switzerland,\n",
    "Long Beach VA,\n",
    "Statlog (Heart) Data Set."
   ]
  },
  {
   "cell_type": "code",
   "execution_count": 1,
   "metadata": {},
   "outputs": [
    {
     "data": {
      "text/html": [
       "<div>\n",
       "<style scoped>\n",
       "    .dataframe tbody tr th:only-of-type {\n",
       "        vertical-align: middle;\n",
       "    }\n",
       "\n",
       "    .dataframe tbody tr th {\n",
       "        vertical-align: top;\n",
       "    }\n",
       "\n",
       "    .dataframe thead th {\n",
       "        text-align: right;\n",
       "    }\n",
       "</style>\n",
       "<table border=\"1\" class=\"dataframe\">\n",
       "  <thead>\n",
       "    <tr style=\"text-align: right;\">\n",
       "      <th></th>\n",
       "      <th>age</th>\n",
       "      <th>sex</th>\n",
       "      <th>chest pain type</th>\n",
       "      <th>resting bp s</th>\n",
       "      <th>cholesterol</th>\n",
       "      <th>fasting blood sugar</th>\n",
       "      <th>resting ecg</th>\n",
       "      <th>max heart rate</th>\n",
       "      <th>exercise angina</th>\n",
       "      <th>oldpeak</th>\n",
       "      <th>ST slope</th>\n",
       "      <th>target</th>\n",
       "    </tr>\n",
       "  </thead>\n",
       "  <tbody>\n",
       "    <tr>\n",
       "      <th>0</th>\n",
       "      <td>40</td>\n",
       "      <td>1</td>\n",
       "      <td>2</td>\n",
       "      <td>140</td>\n",
       "      <td>289</td>\n",
       "      <td>0</td>\n",
       "      <td>0</td>\n",
       "      <td>172</td>\n",
       "      <td>0</td>\n",
       "      <td>0.0</td>\n",
       "      <td>1</td>\n",
       "      <td>0</td>\n",
       "    </tr>\n",
       "    <tr>\n",
       "      <th>1</th>\n",
       "      <td>49</td>\n",
       "      <td>0</td>\n",
       "      <td>3</td>\n",
       "      <td>160</td>\n",
       "      <td>180</td>\n",
       "      <td>0</td>\n",
       "      <td>0</td>\n",
       "      <td>156</td>\n",
       "      <td>0</td>\n",
       "      <td>1.0</td>\n",
       "      <td>2</td>\n",
       "      <td>1</td>\n",
       "    </tr>\n",
       "    <tr>\n",
       "      <th>2</th>\n",
       "      <td>37</td>\n",
       "      <td>1</td>\n",
       "      <td>2</td>\n",
       "      <td>130</td>\n",
       "      <td>283</td>\n",
       "      <td>0</td>\n",
       "      <td>1</td>\n",
       "      <td>98</td>\n",
       "      <td>0</td>\n",
       "      <td>0.0</td>\n",
       "      <td>1</td>\n",
       "      <td>0</td>\n",
       "    </tr>\n",
       "    <tr>\n",
       "      <th>3</th>\n",
       "      <td>48</td>\n",
       "      <td>0</td>\n",
       "      <td>4</td>\n",
       "      <td>138</td>\n",
       "      <td>214</td>\n",
       "      <td>0</td>\n",
       "      <td>0</td>\n",
       "      <td>108</td>\n",
       "      <td>1</td>\n",
       "      <td>1.5</td>\n",
       "      <td>2</td>\n",
       "      <td>1</td>\n",
       "    </tr>\n",
       "    <tr>\n",
       "      <th>4</th>\n",
       "      <td>54</td>\n",
       "      <td>1</td>\n",
       "      <td>3</td>\n",
       "      <td>150</td>\n",
       "      <td>195</td>\n",
       "      <td>0</td>\n",
       "      <td>0</td>\n",
       "      <td>122</td>\n",
       "      <td>0</td>\n",
       "      <td>0.0</td>\n",
       "      <td>1</td>\n",
       "      <td>0</td>\n",
       "    </tr>\n",
       "  </tbody>\n",
       "</table>\n",
       "</div>"
      ],
      "text/plain": [
       "   age  sex  chest pain type  resting bp s  cholesterol  fasting blood sugar  \\\n",
       "0   40    1                2           140          289                    0   \n",
       "1   49    0                3           160          180                    0   \n",
       "2   37    1                2           130          283                    0   \n",
       "3   48    0                4           138          214                    0   \n",
       "4   54    1                3           150          195                    0   \n",
       "\n",
       "   resting ecg  max heart rate  exercise angina  oldpeak  ST slope  target  \n",
       "0            0             172                0      0.0         1       0  \n",
       "1            0             156                0      1.0         2       1  \n",
       "2            1              98                0      0.0         1       0  \n",
       "3            0             108                1      1.5         2       1  \n",
       "4            0             122                0      0.0         1       0  "
      ]
     },
     "execution_count": 1,
     "metadata": {},
     "output_type": "execute_result"
    }
   ],
   "source": [
    "import pandas as pd\n",
    "import numpy as np\n",
    "import matplotlib.pyplot as plt\n",
    "import seaborn as sns\n",
    "from scipy.stats import pearsonr\n",
    "\n",
    "heartdisease = pd.read_csv(r\"C:\\Users\\X\\Desktop\\Sprint 10 Proyecto\\heart_statlog_cleveland_hungary_final.csv\")\n",
    "heartdisease.head()"
   ]
  },
  {
   "cell_type": "code",
   "execution_count": 2,
   "metadata": {},
   "outputs": [
    {
     "name": "stdout",
     "output_type": "stream",
     "text": [
      "<class 'pandas.core.frame.DataFrame'>\n",
      "RangeIndex: 1190 entries, 0 to 1189\n",
      "Data columns (total 12 columns):\n",
      " #   Column               Non-Null Count  Dtype  \n",
      "---  ------               --------------  -----  \n",
      " 0   age                  1190 non-null   int64  \n",
      " 1   sex                  1190 non-null   int64  \n",
      " 2   chest pain type      1190 non-null   int64  \n",
      " 3   resting bp s         1190 non-null   int64  \n",
      " 4   cholesterol          1190 non-null   int64  \n",
      " 5   fasting blood sugar  1190 non-null   int64  \n",
      " 6   resting ecg          1190 non-null   int64  \n",
      " 7   max heart rate       1190 non-null   int64  \n",
      " 8   exercise angina      1190 non-null   int64  \n",
      " 9   oldpeak              1190 non-null   float64\n",
      " 10  ST slope             1190 non-null   int64  \n",
      " 11  target               1190 non-null   int64  \n",
      "dtypes: float64(1), int64(11)\n",
      "memory usage: 111.7 KB\n"
     ]
    }
   ],
   "source": [
    "heartdisease.info()"
   ]
  },
  {
   "cell_type": "markdown",
   "metadata": {},
   "source": [
    "Empiezo a realizar cambios de acuerdo a la documentación elaborada por los investigadores que crearon el dataset, adjunta en este mismo repositorio.\n",
    "Ya que los datos categóricos se encuentran representados con números, prefiero hacer estos cambios para que no exista confusión"
   ]
  },
  {
   "cell_type": "markdown",
   "metadata": {},
   "source": [
    "Cambio el formato de la variable categórica \"sex\" de numérico a string 1 = masculino, 0= femenino;"
   ]
  },
  {
   "cell_type": "code",
   "execution_count": 3,
   "metadata": {},
   "outputs": [
    {
     "data": {
      "text/html": [
       "<div>\n",
       "<style scoped>\n",
       "    .dataframe tbody tr th:only-of-type {\n",
       "        vertical-align: middle;\n",
       "    }\n",
       "\n",
       "    .dataframe tbody tr th {\n",
       "        vertical-align: top;\n",
       "    }\n",
       "\n",
       "    .dataframe thead th {\n",
       "        text-align: right;\n",
       "    }\n",
       "</style>\n",
       "<table border=\"1\" class=\"dataframe\">\n",
       "  <thead>\n",
       "    <tr style=\"text-align: right;\">\n",
       "      <th></th>\n",
       "      <th>age</th>\n",
       "      <th>sex</th>\n",
       "      <th>chest pain type</th>\n",
       "      <th>resting bp s</th>\n",
       "      <th>cholesterol</th>\n",
       "      <th>fasting blood sugar</th>\n",
       "      <th>resting ecg</th>\n",
       "      <th>max heart rate</th>\n",
       "      <th>exercise angina</th>\n",
       "      <th>oldpeak</th>\n",
       "      <th>ST slope</th>\n",
       "      <th>target</th>\n",
       "    </tr>\n",
       "  </thead>\n",
       "  <tbody>\n",
       "    <tr>\n",
       "      <th>0</th>\n",
       "      <td>40</td>\n",
       "      <td>masculino</td>\n",
       "      <td>2</td>\n",
       "      <td>140</td>\n",
       "      <td>289</td>\n",
       "      <td>0</td>\n",
       "      <td>0</td>\n",
       "      <td>172</td>\n",
       "      <td>0</td>\n",
       "      <td>0.0</td>\n",
       "      <td>1</td>\n",
       "      <td>0</td>\n",
       "    </tr>\n",
       "    <tr>\n",
       "      <th>1</th>\n",
       "      <td>49</td>\n",
       "      <td>femenino</td>\n",
       "      <td>3</td>\n",
       "      <td>160</td>\n",
       "      <td>180</td>\n",
       "      <td>0</td>\n",
       "      <td>0</td>\n",
       "      <td>156</td>\n",
       "      <td>0</td>\n",
       "      <td>1.0</td>\n",
       "      <td>2</td>\n",
       "      <td>1</td>\n",
       "    </tr>\n",
       "    <tr>\n",
       "      <th>2</th>\n",
       "      <td>37</td>\n",
       "      <td>masculino</td>\n",
       "      <td>2</td>\n",
       "      <td>130</td>\n",
       "      <td>283</td>\n",
       "      <td>0</td>\n",
       "      <td>1</td>\n",
       "      <td>98</td>\n",
       "      <td>0</td>\n",
       "      <td>0.0</td>\n",
       "      <td>1</td>\n",
       "      <td>0</td>\n",
       "    </tr>\n",
       "    <tr>\n",
       "      <th>3</th>\n",
       "      <td>48</td>\n",
       "      <td>femenino</td>\n",
       "      <td>4</td>\n",
       "      <td>138</td>\n",
       "      <td>214</td>\n",
       "      <td>0</td>\n",
       "      <td>0</td>\n",
       "      <td>108</td>\n",
       "      <td>1</td>\n",
       "      <td>1.5</td>\n",
       "      <td>2</td>\n",
       "      <td>1</td>\n",
       "    </tr>\n",
       "    <tr>\n",
       "      <th>4</th>\n",
       "      <td>54</td>\n",
       "      <td>masculino</td>\n",
       "      <td>3</td>\n",
       "      <td>150</td>\n",
       "      <td>195</td>\n",
       "      <td>0</td>\n",
       "      <td>0</td>\n",
       "      <td>122</td>\n",
       "      <td>0</td>\n",
       "      <td>0.0</td>\n",
       "      <td>1</td>\n",
       "      <td>0</td>\n",
       "    </tr>\n",
       "  </tbody>\n",
       "</table>\n",
       "</div>"
      ],
      "text/plain": [
       "   age        sex  chest pain type  resting bp s  cholesterol  \\\n",
       "0   40  masculino                2           140          289   \n",
       "1   49   femenino                3           160          180   \n",
       "2   37  masculino                2           130          283   \n",
       "3   48   femenino                4           138          214   \n",
       "4   54  masculino                3           150          195   \n",
       "\n",
       "   fasting blood sugar  resting ecg  max heart rate  exercise angina  oldpeak  \\\n",
       "0                    0            0             172                0      0.0   \n",
       "1                    0            0             156                0      1.0   \n",
       "2                    0            1              98                0      0.0   \n",
       "3                    0            0             108                1      1.5   \n",
       "4                    0            0             122                0      0.0   \n",
       "\n",
       "   ST slope  target  \n",
       "0         1       0  \n",
       "1         2       1  \n",
       "2         1       0  \n",
       "3         2       1  \n",
       "4         1       0  "
      ]
     },
     "execution_count": 3,
     "metadata": {},
     "output_type": "execute_result"
    }
   ],
   "source": [
    "heartdisease['sex'] = heartdisease['sex'].astype(str)\n",
    "heartdisease['sex'] = heartdisease['sex'].str.replace('0', 'femenino')\n",
    "heartdisease['sex'] = heartdisease['sex'].str.replace('1', 'masculino')\n",
    "heartdisease.head()"
   ]
  },
  {
   "cell_type": "markdown",
   "metadata": {},
   "source": [
    "Cambio también la variable categórica de tipo de dolor de pecho\n",
    "-- Valor 1: angina típica\n",
    "-- Valor 2: angina atípica \n",
    "-- Valor 3: dolor no anginoso\n",
    "-- Valor 4: asintomático"
   ]
  },
  {
   "cell_type": "code",
   "execution_count": 4,
   "metadata": {},
   "outputs": [
    {
     "data": {
      "text/html": [
       "<div>\n",
       "<style scoped>\n",
       "    .dataframe tbody tr th:only-of-type {\n",
       "        vertical-align: middle;\n",
       "    }\n",
       "\n",
       "    .dataframe tbody tr th {\n",
       "        vertical-align: top;\n",
       "    }\n",
       "\n",
       "    .dataframe thead th {\n",
       "        text-align: right;\n",
       "    }\n",
       "</style>\n",
       "<table border=\"1\" class=\"dataframe\">\n",
       "  <thead>\n",
       "    <tr style=\"text-align: right;\">\n",
       "      <th></th>\n",
       "      <th>age</th>\n",
       "      <th>sex</th>\n",
       "      <th>chest pain type</th>\n",
       "      <th>resting bp s</th>\n",
       "      <th>cholesterol</th>\n",
       "      <th>fasting blood sugar</th>\n",
       "      <th>resting ecg</th>\n",
       "      <th>max heart rate</th>\n",
       "      <th>exercise angina</th>\n",
       "      <th>oldpeak</th>\n",
       "      <th>ST slope</th>\n",
       "      <th>target</th>\n",
       "    </tr>\n",
       "  </thead>\n",
       "  <tbody>\n",
       "    <tr>\n",
       "      <th>0</th>\n",
       "      <td>40</td>\n",
       "      <td>masculino</td>\n",
       "      <td>angina atípica</td>\n",
       "      <td>140</td>\n",
       "      <td>289</td>\n",
       "      <td>0</td>\n",
       "      <td>0</td>\n",
       "      <td>172</td>\n",
       "      <td>0</td>\n",
       "      <td>0.0</td>\n",
       "      <td>1</td>\n",
       "      <td>0</td>\n",
       "    </tr>\n",
       "    <tr>\n",
       "      <th>1</th>\n",
       "      <td>49</td>\n",
       "      <td>femenino</td>\n",
       "      <td>dolor no anginoso</td>\n",
       "      <td>160</td>\n",
       "      <td>180</td>\n",
       "      <td>0</td>\n",
       "      <td>0</td>\n",
       "      <td>156</td>\n",
       "      <td>0</td>\n",
       "      <td>1.0</td>\n",
       "      <td>2</td>\n",
       "      <td>1</td>\n",
       "    </tr>\n",
       "    <tr>\n",
       "      <th>2</th>\n",
       "      <td>37</td>\n",
       "      <td>masculino</td>\n",
       "      <td>angina atípica</td>\n",
       "      <td>130</td>\n",
       "      <td>283</td>\n",
       "      <td>0</td>\n",
       "      <td>1</td>\n",
       "      <td>98</td>\n",
       "      <td>0</td>\n",
       "      <td>0.0</td>\n",
       "      <td>1</td>\n",
       "      <td>0</td>\n",
       "    </tr>\n",
       "    <tr>\n",
       "      <th>3</th>\n",
       "      <td>48</td>\n",
       "      <td>femenino</td>\n",
       "      <td>asintomático</td>\n",
       "      <td>138</td>\n",
       "      <td>214</td>\n",
       "      <td>0</td>\n",
       "      <td>0</td>\n",
       "      <td>108</td>\n",
       "      <td>1</td>\n",
       "      <td>1.5</td>\n",
       "      <td>2</td>\n",
       "      <td>1</td>\n",
       "    </tr>\n",
       "    <tr>\n",
       "      <th>4</th>\n",
       "      <td>54</td>\n",
       "      <td>masculino</td>\n",
       "      <td>dolor no anginoso</td>\n",
       "      <td>150</td>\n",
       "      <td>195</td>\n",
       "      <td>0</td>\n",
       "      <td>0</td>\n",
       "      <td>122</td>\n",
       "      <td>0</td>\n",
       "      <td>0.0</td>\n",
       "      <td>1</td>\n",
       "      <td>0</td>\n",
       "    </tr>\n",
       "  </tbody>\n",
       "</table>\n",
       "</div>"
      ],
      "text/plain": [
       "   age        sex    chest pain type  resting bp s  cholesterol  \\\n",
       "0   40  masculino     angina atípica           140          289   \n",
       "1   49   femenino  dolor no anginoso           160          180   \n",
       "2   37  masculino     angina atípica           130          283   \n",
       "3   48   femenino       asintomático           138          214   \n",
       "4   54  masculino  dolor no anginoso           150          195   \n",
       "\n",
       "   fasting blood sugar  resting ecg  max heart rate  exercise angina  oldpeak  \\\n",
       "0                    0            0             172                0      0.0   \n",
       "1                    0            0             156                0      1.0   \n",
       "2                    0            1              98                0      0.0   \n",
       "3                    0            0             108                1      1.5   \n",
       "4                    0            0             122                0      0.0   \n",
       "\n",
       "   ST slope  target  \n",
       "0         1       0  \n",
       "1         2       1  \n",
       "2         1       0  \n",
       "3         2       1  \n",
       "4         1       0  "
      ]
     },
     "execution_count": 4,
     "metadata": {},
     "output_type": "execute_result"
    }
   ],
   "source": [
    "heartdisease['chest pain type'] = heartdisease['chest pain type'].astype(str)\n",
    "heartdisease['chest pain type'] = heartdisease['chest pain type'].str.replace('1', 'angina típica')\n",
    "heartdisease['chest pain type'] = heartdisease['chest pain type'].str.replace('2', 'angina atípica')\n",
    "heartdisease['chest pain type'] = heartdisease['chest pain type'].str.replace('3', 'dolor no anginoso')\n",
    "heartdisease['chest pain type'] = heartdisease['chest pain type'].str.replace('4', 'asintomático')\n",
    "heartdisease.head()"
   ]
  },
  {
   "cell_type": "markdown",
   "metadata": {},
   "source": [
    "Cambio la variable categórica de fasting blood sugar, donde se indica si el sujeto de estudio tiene niveles glicémicos que superan los 120 mg/dl en ayuno a Glicemia_Basal_Mayor_120 (1 = verdadero; 0 = falso)\n",
    "\n",
    "Un nivel de glicemia en ayunas superior a 100 mg/dl puede indicar que existe un riesgo de desarrollar Diabetes tipo 2, lo que puede influir en la salud cardiovascular\n",
    "https://medlineplus.gov/spanish/ency/article/003482.htm"
   ]
  },
  {
   "cell_type": "code",
   "execution_count": 5,
   "metadata": {},
   "outputs": [],
   "source": [
    "heartdisease = heartdisease.rename(columns={'fasting blood sugar':'Glicemia_Basal_Mayor_120'})"
   ]
  },
  {
   "cell_type": "code",
   "execution_count": 6,
   "metadata": {},
   "outputs": [
    {
     "data": {
      "text/html": [
       "<div>\n",
       "<style scoped>\n",
       "    .dataframe tbody tr th:only-of-type {\n",
       "        vertical-align: middle;\n",
       "    }\n",
       "\n",
       "    .dataframe tbody tr th {\n",
       "        vertical-align: top;\n",
       "    }\n",
       "\n",
       "    .dataframe thead th {\n",
       "        text-align: right;\n",
       "    }\n",
       "</style>\n",
       "<table border=\"1\" class=\"dataframe\">\n",
       "  <thead>\n",
       "    <tr style=\"text-align: right;\">\n",
       "      <th></th>\n",
       "      <th>age</th>\n",
       "      <th>sex</th>\n",
       "      <th>chest pain type</th>\n",
       "      <th>resting bp s</th>\n",
       "      <th>cholesterol</th>\n",
       "      <th>Glicemia_Basal_Mayor_120</th>\n",
       "      <th>resting ecg</th>\n",
       "      <th>max heart rate</th>\n",
       "      <th>exercise angina</th>\n",
       "      <th>oldpeak</th>\n",
       "      <th>ST slope</th>\n",
       "      <th>target</th>\n",
       "    </tr>\n",
       "  </thead>\n",
       "  <tbody>\n",
       "    <tr>\n",
       "      <th>0</th>\n",
       "      <td>40</td>\n",
       "      <td>masculino</td>\n",
       "      <td>angina atípica</td>\n",
       "      <td>140</td>\n",
       "      <td>289</td>\n",
       "      <td>falso</td>\n",
       "      <td>0</td>\n",
       "      <td>172</td>\n",
       "      <td>0</td>\n",
       "      <td>0.0</td>\n",
       "      <td>1</td>\n",
       "      <td>0</td>\n",
       "    </tr>\n",
       "    <tr>\n",
       "      <th>1</th>\n",
       "      <td>49</td>\n",
       "      <td>femenino</td>\n",
       "      <td>dolor no anginoso</td>\n",
       "      <td>160</td>\n",
       "      <td>180</td>\n",
       "      <td>falso</td>\n",
       "      <td>0</td>\n",
       "      <td>156</td>\n",
       "      <td>0</td>\n",
       "      <td>1.0</td>\n",
       "      <td>2</td>\n",
       "      <td>1</td>\n",
       "    </tr>\n",
       "    <tr>\n",
       "      <th>2</th>\n",
       "      <td>37</td>\n",
       "      <td>masculino</td>\n",
       "      <td>angina atípica</td>\n",
       "      <td>130</td>\n",
       "      <td>283</td>\n",
       "      <td>falso</td>\n",
       "      <td>1</td>\n",
       "      <td>98</td>\n",
       "      <td>0</td>\n",
       "      <td>0.0</td>\n",
       "      <td>1</td>\n",
       "      <td>0</td>\n",
       "    </tr>\n",
       "    <tr>\n",
       "      <th>3</th>\n",
       "      <td>48</td>\n",
       "      <td>femenino</td>\n",
       "      <td>asintomático</td>\n",
       "      <td>138</td>\n",
       "      <td>214</td>\n",
       "      <td>falso</td>\n",
       "      <td>0</td>\n",
       "      <td>108</td>\n",
       "      <td>1</td>\n",
       "      <td>1.5</td>\n",
       "      <td>2</td>\n",
       "      <td>1</td>\n",
       "    </tr>\n",
       "    <tr>\n",
       "      <th>4</th>\n",
       "      <td>54</td>\n",
       "      <td>masculino</td>\n",
       "      <td>dolor no anginoso</td>\n",
       "      <td>150</td>\n",
       "      <td>195</td>\n",
       "      <td>falso</td>\n",
       "      <td>0</td>\n",
       "      <td>122</td>\n",
       "      <td>0</td>\n",
       "      <td>0.0</td>\n",
       "      <td>1</td>\n",
       "      <td>0</td>\n",
       "    </tr>\n",
       "  </tbody>\n",
       "</table>\n",
       "</div>"
      ],
      "text/plain": [
       "   age        sex    chest pain type  resting bp s  cholesterol  \\\n",
       "0   40  masculino     angina atípica           140          289   \n",
       "1   49   femenino  dolor no anginoso           160          180   \n",
       "2   37  masculino     angina atípica           130          283   \n",
       "3   48   femenino       asintomático           138          214   \n",
       "4   54  masculino  dolor no anginoso           150          195   \n",
       "\n",
       "  Glicemia_Basal_Mayor_120  resting ecg  max heart rate  exercise angina  \\\n",
       "0                    falso            0             172                0   \n",
       "1                    falso            0             156                0   \n",
       "2                    falso            1              98                0   \n",
       "3                    falso            0             108                1   \n",
       "4                    falso            0             122                0   \n",
       "\n",
       "   oldpeak  ST slope  target  \n",
       "0      0.0         1       0  \n",
       "1      1.0         2       1  \n",
       "2      0.0         1       0  \n",
       "3      1.5         2       1  \n",
       "4      0.0         1       0  "
      ]
     },
     "execution_count": 6,
     "metadata": {},
     "output_type": "execute_result"
    }
   ],
   "source": [
    "heartdisease['Glicemia_Basal_Mayor_120'] = heartdisease['Glicemia_Basal_Mayor_120'].astype(str)\n",
    "heartdisease['Glicemia_Basal_Mayor_120'] = heartdisease['Glicemia_Basal_Mayor_120'].str.replace('0', 'falso')\n",
    "heartdisease['Glicemia_Basal_Mayor_120'] = heartdisease['Glicemia_Basal_Mayor_120'].str.replace('1', 'verdadero')\n",
    "heartdisease.head()"
   ]
  },
  {
   "cell_type": "markdown",
   "metadata": {},
   "source": [
    "Resultados de Electrocardiograma en reposo\n",
    "--  0: normal\n",
    "--  1: anormalidad de la onda ST-T(en el electrocardiograma)\n",
    "--  2: hipertrofia del ventriculo izq probable o definitiva según los Criterios de Romhilt-Estes \n"
   ]
  },
  {
   "cell_type": "code",
   "execution_count": 7,
   "metadata": {},
   "outputs": [
    {
     "data": {
      "text/html": [
       "<div>\n",
       "<style scoped>\n",
       "    .dataframe tbody tr th:only-of-type {\n",
       "        vertical-align: middle;\n",
       "    }\n",
       "\n",
       "    .dataframe tbody tr th {\n",
       "        vertical-align: top;\n",
       "    }\n",
       "\n",
       "    .dataframe thead th {\n",
       "        text-align: right;\n",
       "    }\n",
       "</style>\n",
       "<table border=\"1\" class=\"dataframe\">\n",
       "  <thead>\n",
       "    <tr style=\"text-align: right;\">\n",
       "      <th></th>\n",
       "      <th>age</th>\n",
       "      <th>sex</th>\n",
       "      <th>chest pain type</th>\n",
       "      <th>resting bp s</th>\n",
       "      <th>cholesterol</th>\n",
       "      <th>Glicemia_Basal_Mayor_120</th>\n",
       "      <th>resting ecg</th>\n",
       "      <th>max heart rate</th>\n",
       "      <th>exercise angina</th>\n",
       "      <th>oldpeak</th>\n",
       "      <th>ST slope</th>\n",
       "      <th>target</th>\n",
       "    </tr>\n",
       "  </thead>\n",
       "  <tbody>\n",
       "    <tr>\n",
       "      <th>0</th>\n",
       "      <td>40</td>\n",
       "      <td>masculino</td>\n",
       "      <td>angina atípica</td>\n",
       "      <td>140</td>\n",
       "      <td>289</td>\n",
       "      <td>falso</td>\n",
       "      <td>normal</td>\n",
       "      <td>172</td>\n",
       "      <td>0</td>\n",
       "      <td>0.0</td>\n",
       "      <td>1</td>\n",
       "      <td>0</td>\n",
       "    </tr>\n",
       "    <tr>\n",
       "      <th>1</th>\n",
       "      <td>49</td>\n",
       "      <td>femenino</td>\n",
       "      <td>dolor no anginoso</td>\n",
       "      <td>160</td>\n",
       "      <td>180</td>\n",
       "      <td>falso</td>\n",
       "      <td>normal</td>\n",
       "      <td>156</td>\n",
       "      <td>0</td>\n",
       "      <td>1.0</td>\n",
       "      <td>2</td>\n",
       "      <td>1</td>\n",
       "    </tr>\n",
       "    <tr>\n",
       "      <th>2</th>\n",
       "      <td>37</td>\n",
       "      <td>masculino</td>\n",
       "      <td>angina atípica</td>\n",
       "      <td>130</td>\n",
       "      <td>283</td>\n",
       "      <td>falso</td>\n",
       "      <td>anormalidad de la onda ST-T</td>\n",
       "      <td>98</td>\n",
       "      <td>0</td>\n",
       "      <td>0.0</td>\n",
       "      <td>1</td>\n",
       "      <td>0</td>\n",
       "    </tr>\n",
       "    <tr>\n",
       "      <th>3</th>\n",
       "      <td>48</td>\n",
       "      <td>femenino</td>\n",
       "      <td>asintomático</td>\n",
       "      <td>138</td>\n",
       "      <td>214</td>\n",
       "      <td>falso</td>\n",
       "      <td>normal</td>\n",
       "      <td>108</td>\n",
       "      <td>1</td>\n",
       "      <td>1.5</td>\n",
       "      <td>2</td>\n",
       "      <td>1</td>\n",
       "    </tr>\n",
       "    <tr>\n",
       "      <th>4</th>\n",
       "      <td>54</td>\n",
       "      <td>masculino</td>\n",
       "      <td>dolor no anginoso</td>\n",
       "      <td>150</td>\n",
       "      <td>195</td>\n",
       "      <td>falso</td>\n",
       "      <td>normal</td>\n",
       "      <td>122</td>\n",
       "      <td>0</td>\n",
       "      <td>0.0</td>\n",
       "      <td>1</td>\n",
       "      <td>0</td>\n",
       "    </tr>\n",
       "  </tbody>\n",
       "</table>\n",
       "</div>"
      ],
      "text/plain": [
       "   age        sex    chest pain type  resting bp s  cholesterol  \\\n",
       "0   40  masculino     angina atípica           140          289   \n",
       "1   49   femenino  dolor no anginoso           160          180   \n",
       "2   37  masculino     angina atípica           130          283   \n",
       "3   48   femenino       asintomático           138          214   \n",
       "4   54  masculino  dolor no anginoso           150          195   \n",
       "\n",
       "  Glicemia_Basal_Mayor_120                  resting ecg  max heart rate  \\\n",
       "0                    falso                       normal             172   \n",
       "1                    falso                       normal             156   \n",
       "2                    falso  anormalidad de la onda ST-T              98   \n",
       "3                    falso                       normal             108   \n",
       "4                    falso                       normal             122   \n",
       "\n",
       "   exercise angina  oldpeak  ST slope  target  \n",
       "0                0      0.0         1       0  \n",
       "1                0      1.0         2       1  \n",
       "2                0      0.0         1       0  \n",
       "3                1      1.5         2       1  \n",
       "4                0      0.0         1       0  "
      ]
     },
     "execution_count": 7,
     "metadata": {},
     "output_type": "execute_result"
    }
   ],
   "source": [
    "heartdisease['resting ecg'] = heartdisease['resting ecg'].astype(str)\n",
    "heartdisease['resting ecg'] = heartdisease['resting ecg'].str.replace('0', 'normal')\n",
    "heartdisease['resting ecg'] = heartdisease['resting ecg'].str.replace('1', 'anormalidad de la onda ST-T')\n",
    "heartdisease['resting ecg'] = heartdisease['resting ecg'].str.replace('2', 'hipertrofia del ventriculo izq')\n",
    "heartdisease.head()"
   ]
  },
  {
   "cell_type": "markdown",
   "metadata": {},
   "source": [
    "Angina inducida por el ejercicio 1 = si; 0 = no"
   ]
  },
  {
   "cell_type": "code",
   "execution_count": 8,
   "metadata": {},
   "outputs": [
    {
     "data": {
      "text/html": [
       "<div>\n",
       "<style scoped>\n",
       "    .dataframe tbody tr th:only-of-type {\n",
       "        vertical-align: middle;\n",
       "    }\n",
       "\n",
       "    .dataframe tbody tr th {\n",
       "        vertical-align: top;\n",
       "    }\n",
       "\n",
       "    .dataframe thead th {\n",
       "        text-align: right;\n",
       "    }\n",
       "</style>\n",
       "<table border=\"1\" class=\"dataframe\">\n",
       "  <thead>\n",
       "    <tr style=\"text-align: right;\">\n",
       "      <th></th>\n",
       "      <th>age</th>\n",
       "      <th>sex</th>\n",
       "      <th>chest pain type</th>\n",
       "      <th>resting bp s</th>\n",
       "      <th>cholesterol</th>\n",
       "      <th>Glicemia_Basal_Mayor_120</th>\n",
       "      <th>resting ecg</th>\n",
       "      <th>max heart rate</th>\n",
       "      <th>exercise angina</th>\n",
       "      <th>oldpeak</th>\n",
       "      <th>ST slope</th>\n",
       "      <th>target</th>\n",
       "    </tr>\n",
       "  </thead>\n",
       "  <tbody>\n",
       "    <tr>\n",
       "      <th>0</th>\n",
       "      <td>40</td>\n",
       "      <td>masculino</td>\n",
       "      <td>angina atípica</td>\n",
       "      <td>140</td>\n",
       "      <td>289</td>\n",
       "      <td>falso</td>\n",
       "      <td>normal</td>\n",
       "      <td>172</td>\n",
       "      <td>no</td>\n",
       "      <td>0.0</td>\n",
       "      <td>1</td>\n",
       "      <td>0</td>\n",
       "    </tr>\n",
       "    <tr>\n",
       "      <th>1</th>\n",
       "      <td>49</td>\n",
       "      <td>femenino</td>\n",
       "      <td>dolor no anginoso</td>\n",
       "      <td>160</td>\n",
       "      <td>180</td>\n",
       "      <td>falso</td>\n",
       "      <td>normal</td>\n",
       "      <td>156</td>\n",
       "      <td>no</td>\n",
       "      <td>1.0</td>\n",
       "      <td>2</td>\n",
       "      <td>1</td>\n",
       "    </tr>\n",
       "    <tr>\n",
       "      <th>2</th>\n",
       "      <td>37</td>\n",
       "      <td>masculino</td>\n",
       "      <td>angina atípica</td>\n",
       "      <td>130</td>\n",
       "      <td>283</td>\n",
       "      <td>falso</td>\n",
       "      <td>anormalidad de la onda ST-T</td>\n",
       "      <td>98</td>\n",
       "      <td>no</td>\n",
       "      <td>0.0</td>\n",
       "      <td>1</td>\n",
       "      <td>0</td>\n",
       "    </tr>\n",
       "    <tr>\n",
       "      <th>3</th>\n",
       "      <td>48</td>\n",
       "      <td>femenino</td>\n",
       "      <td>asintomático</td>\n",
       "      <td>138</td>\n",
       "      <td>214</td>\n",
       "      <td>falso</td>\n",
       "      <td>normal</td>\n",
       "      <td>108</td>\n",
       "      <td>si</td>\n",
       "      <td>1.5</td>\n",
       "      <td>2</td>\n",
       "      <td>1</td>\n",
       "    </tr>\n",
       "    <tr>\n",
       "      <th>4</th>\n",
       "      <td>54</td>\n",
       "      <td>masculino</td>\n",
       "      <td>dolor no anginoso</td>\n",
       "      <td>150</td>\n",
       "      <td>195</td>\n",
       "      <td>falso</td>\n",
       "      <td>normal</td>\n",
       "      <td>122</td>\n",
       "      <td>no</td>\n",
       "      <td>0.0</td>\n",
       "      <td>1</td>\n",
       "      <td>0</td>\n",
       "    </tr>\n",
       "  </tbody>\n",
       "</table>\n",
       "</div>"
      ],
      "text/plain": [
       "   age        sex    chest pain type  resting bp s  cholesterol  \\\n",
       "0   40  masculino     angina atípica           140          289   \n",
       "1   49   femenino  dolor no anginoso           160          180   \n",
       "2   37  masculino     angina atípica           130          283   \n",
       "3   48   femenino       asintomático           138          214   \n",
       "4   54  masculino  dolor no anginoso           150          195   \n",
       "\n",
       "  Glicemia_Basal_Mayor_120                  resting ecg  max heart rate  \\\n",
       "0                    falso                       normal             172   \n",
       "1                    falso                       normal             156   \n",
       "2                    falso  anormalidad de la onda ST-T              98   \n",
       "3                    falso                       normal             108   \n",
       "4                    falso                       normal             122   \n",
       "\n",
       "  exercise angina  oldpeak  ST slope  target  \n",
       "0              no      0.0         1       0  \n",
       "1              no      1.0         2       1  \n",
       "2              no      0.0         1       0  \n",
       "3              si      1.5         2       1  \n",
       "4              no      0.0         1       0  "
      ]
     },
     "execution_count": 8,
     "metadata": {},
     "output_type": "execute_result"
    }
   ],
   "source": [
    "heartdisease['exercise angina'] = heartdisease['exercise angina'].astype(str)\n",
    "heartdisease['exercise angina'] = heartdisease['exercise angina'].str.replace('0', 'no')\n",
    "heartdisease['exercise angina'] = heartdisease['exercise angina'].str.replace('1', 'si')\n",
    "heartdisease.head()"
   ]
  },
  {
   "cell_type": "markdown",
   "metadata": {},
   "source": [
    "Pendiente del segmento ST (visualizado en electrocardiograma) en el pico del ejercicio\n",
    "-- Value 1: subida\n",
    "-- Value 2: plano\n",
    "-- Value 3: bajada"
   ]
  },
  {
   "cell_type": "code",
   "execution_count": 9,
   "metadata": {},
   "outputs": [
    {
     "data": {
      "text/html": [
       "<div>\n",
       "<style scoped>\n",
       "    .dataframe tbody tr th:only-of-type {\n",
       "        vertical-align: middle;\n",
       "    }\n",
       "\n",
       "    .dataframe tbody tr th {\n",
       "        vertical-align: top;\n",
       "    }\n",
       "\n",
       "    .dataframe thead th {\n",
       "        text-align: right;\n",
       "    }\n",
       "</style>\n",
       "<table border=\"1\" class=\"dataframe\">\n",
       "  <thead>\n",
       "    <tr style=\"text-align: right;\">\n",
       "      <th></th>\n",
       "      <th>age</th>\n",
       "      <th>sex</th>\n",
       "      <th>chest pain type</th>\n",
       "      <th>resting bp s</th>\n",
       "      <th>cholesterol</th>\n",
       "      <th>Glicemia_Basal_Mayor_120</th>\n",
       "      <th>resting ecg</th>\n",
       "      <th>max heart rate</th>\n",
       "      <th>exercise angina</th>\n",
       "      <th>oldpeak</th>\n",
       "      <th>ST slope</th>\n",
       "      <th>target</th>\n",
       "    </tr>\n",
       "  </thead>\n",
       "  <tbody>\n",
       "    <tr>\n",
       "      <th>0</th>\n",
       "      <td>40</td>\n",
       "      <td>masculino</td>\n",
       "      <td>angina atípica</td>\n",
       "      <td>140</td>\n",
       "      <td>289</td>\n",
       "      <td>falso</td>\n",
       "      <td>normal</td>\n",
       "      <td>172</td>\n",
       "      <td>no</td>\n",
       "      <td>0.0</td>\n",
       "      <td>subida</td>\n",
       "      <td>0</td>\n",
       "    </tr>\n",
       "    <tr>\n",
       "      <th>1</th>\n",
       "      <td>49</td>\n",
       "      <td>femenino</td>\n",
       "      <td>dolor no anginoso</td>\n",
       "      <td>160</td>\n",
       "      <td>180</td>\n",
       "      <td>falso</td>\n",
       "      <td>normal</td>\n",
       "      <td>156</td>\n",
       "      <td>no</td>\n",
       "      <td>1.0</td>\n",
       "      <td>plano</td>\n",
       "      <td>1</td>\n",
       "    </tr>\n",
       "    <tr>\n",
       "      <th>2</th>\n",
       "      <td>37</td>\n",
       "      <td>masculino</td>\n",
       "      <td>angina atípica</td>\n",
       "      <td>130</td>\n",
       "      <td>283</td>\n",
       "      <td>falso</td>\n",
       "      <td>anormalidad de la onda ST-T</td>\n",
       "      <td>98</td>\n",
       "      <td>no</td>\n",
       "      <td>0.0</td>\n",
       "      <td>subida</td>\n",
       "      <td>0</td>\n",
       "    </tr>\n",
       "    <tr>\n",
       "      <th>3</th>\n",
       "      <td>48</td>\n",
       "      <td>femenino</td>\n",
       "      <td>asintomático</td>\n",
       "      <td>138</td>\n",
       "      <td>214</td>\n",
       "      <td>falso</td>\n",
       "      <td>normal</td>\n",
       "      <td>108</td>\n",
       "      <td>si</td>\n",
       "      <td>1.5</td>\n",
       "      <td>plano</td>\n",
       "      <td>1</td>\n",
       "    </tr>\n",
       "    <tr>\n",
       "      <th>4</th>\n",
       "      <td>54</td>\n",
       "      <td>masculino</td>\n",
       "      <td>dolor no anginoso</td>\n",
       "      <td>150</td>\n",
       "      <td>195</td>\n",
       "      <td>falso</td>\n",
       "      <td>normal</td>\n",
       "      <td>122</td>\n",
       "      <td>no</td>\n",
       "      <td>0.0</td>\n",
       "      <td>subida</td>\n",
       "      <td>0</td>\n",
       "    </tr>\n",
       "  </tbody>\n",
       "</table>\n",
       "</div>"
      ],
      "text/plain": [
       "   age        sex    chest pain type  resting bp s  cholesterol  \\\n",
       "0   40  masculino     angina atípica           140          289   \n",
       "1   49   femenino  dolor no anginoso           160          180   \n",
       "2   37  masculino     angina atípica           130          283   \n",
       "3   48   femenino       asintomático           138          214   \n",
       "4   54  masculino  dolor no anginoso           150          195   \n",
       "\n",
       "  Glicemia_Basal_Mayor_120                  resting ecg  max heart rate  \\\n",
       "0                    falso                       normal             172   \n",
       "1                    falso                       normal             156   \n",
       "2                    falso  anormalidad de la onda ST-T              98   \n",
       "3                    falso                       normal             108   \n",
       "4                    falso                       normal             122   \n",
       "\n",
       "  exercise angina  oldpeak ST slope  target  \n",
       "0              no      0.0   subida       0  \n",
       "1              no      1.0    plano       1  \n",
       "2              no      0.0   subida       0  \n",
       "3              si      1.5    plano       1  \n",
       "4              no      0.0   subida       0  "
      ]
     },
     "execution_count": 9,
     "metadata": {},
     "output_type": "execute_result"
    }
   ],
   "source": [
    "heartdisease['ST slope'] = heartdisease['ST slope'].astype(str)\n",
    "heartdisease['ST slope'] = heartdisease['ST slope'].str.replace('1', 'subida')\n",
    "heartdisease['ST slope'] = heartdisease['ST slope'].str.replace('2', 'plano')\n",
    "heartdisease['ST slope'] = heartdisease['ST slope'].str.replace('3', 'bajada')\n",
    "heartdisease.head()"
   ]
  },
  {
   "cell_type": "markdown",
   "metadata": {},
   "source": [
    "target (clasificación de acuerdo a si hay o no diagnóstico de enfermedades cardiovasculares) 1 = enfermedad cardiovascular, 0 = Normal"
   ]
  },
  {
   "cell_type": "code",
   "execution_count": 10,
   "metadata": {},
   "outputs": [
    {
     "data": {
      "text/html": [
       "<div>\n",
       "<style scoped>\n",
       "    .dataframe tbody tr th:only-of-type {\n",
       "        vertical-align: middle;\n",
       "    }\n",
       "\n",
       "    .dataframe tbody tr th {\n",
       "        vertical-align: top;\n",
       "    }\n",
       "\n",
       "    .dataframe thead th {\n",
       "        text-align: right;\n",
       "    }\n",
       "</style>\n",
       "<table border=\"1\" class=\"dataframe\">\n",
       "  <thead>\n",
       "    <tr style=\"text-align: right;\">\n",
       "      <th></th>\n",
       "      <th>age</th>\n",
       "      <th>sex</th>\n",
       "      <th>chest pain type</th>\n",
       "      <th>resting bp s</th>\n",
       "      <th>cholesterol</th>\n",
       "      <th>Glicemia_Basal_Mayor_120</th>\n",
       "      <th>resting ecg</th>\n",
       "      <th>max heart rate</th>\n",
       "      <th>exercise angina</th>\n",
       "      <th>oldpeak</th>\n",
       "      <th>ST slope</th>\n",
       "      <th>target</th>\n",
       "    </tr>\n",
       "  </thead>\n",
       "  <tbody>\n",
       "    <tr>\n",
       "      <th>0</th>\n",
       "      <td>40</td>\n",
       "      <td>masculino</td>\n",
       "      <td>angina atípica</td>\n",
       "      <td>140</td>\n",
       "      <td>289</td>\n",
       "      <td>falso</td>\n",
       "      <td>normal</td>\n",
       "      <td>172</td>\n",
       "      <td>no</td>\n",
       "      <td>0.0</td>\n",
       "      <td>subida</td>\n",
       "      <td>normal</td>\n",
       "    </tr>\n",
       "    <tr>\n",
       "      <th>1</th>\n",
       "      <td>49</td>\n",
       "      <td>femenino</td>\n",
       "      <td>dolor no anginoso</td>\n",
       "      <td>160</td>\n",
       "      <td>180</td>\n",
       "      <td>falso</td>\n",
       "      <td>normal</td>\n",
       "      <td>156</td>\n",
       "      <td>no</td>\n",
       "      <td>1.0</td>\n",
       "      <td>plano</td>\n",
       "      <td>enfermedad cardiovascular</td>\n",
       "    </tr>\n",
       "    <tr>\n",
       "      <th>2</th>\n",
       "      <td>37</td>\n",
       "      <td>masculino</td>\n",
       "      <td>angina atípica</td>\n",
       "      <td>130</td>\n",
       "      <td>283</td>\n",
       "      <td>falso</td>\n",
       "      <td>anormalidad de la onda ST-T</td>\n",
       "      <td>98</td>\n",
       "      <td>no</td>\n",
       "      <td>0.0</td>\n",
       "      <td>subida</td>\n",
       "      <td>normal</td>\n",
       "    </tr>\n",
       "    <tr>\n",
       "      <th>3</th>\n",
       "      <td>48</td>\n",
       "      <td>femenino</td>\n",
       "      <td>asintomático</td>\n",
       "      <td>138</td>\n",
       "      <td>214</td>\n",
       "      <td>falso</td>\n",
       "      <td>normal</td>\n",
       "      <td>108</td>\n",
       "      <td>si</td>\n",
       "      <td>1.5</td>\n",
       "      <td>plano</td>\n",
       "      <td>enfermedad cardiovascular</td>\n",
       "    </tr>\n",
       "    <tr>\n",
       "      <th>4</th>\n",
       "      <td>54</td>\n",
       "      <td>masculino</td>\n",
       "      <td>dolor no anginoso</td>\n",
       "      <td>150</td>\n",
       "      <td>195</td>\n",
       "      <td>falso</td>\n",
       "      <td>normal</td>\n",
       "      <td>122</td>\n",
       "      <td>no</td>\n",
       "      <td>0.0</td>\n",
       "      <td>subida</td>\n",
       "      <td>normal</td>\n",
       "    </tr>\n",
       "  </tbody>\n",
       "</table>\n",
       "</div>"
      ],
      "text/plain": [
       "   age        sex    chest pain type  resting bp s  cholesterol  \\\n",
       "0   40  masculino     angina atípica           140          289   \n",
       "1   49   femenino  dolor no anginoso           160          180   \n",
       "2   37  masculino     angina atípica           130          283   \n",
       "3   48   femenino       asintomático           138          214   \n",
       "4   54  masculino  dolor no anginoso           150          195   \n",
       "\n",
       "  Glicemia_Basal_Mayor_120                  resting ecg  max heart rate  \\\n",
       "0                    falso                       normal             172   \n",
       "1                    falso                       normal             156   \n",
       "2                    falso  anormalidad de la onda ST-T              98   \n",
       "3                    falso                       normal             108   \n",
       "4                    falso                       normal             122   \n",
       "\n",
       "  exercise angina  oldpeak ST slope                     target  \n",
       "0              no      0.0   subida                     normal  \n",
       "1              no      1.0    plano  enfermedad cardiovascular  \n",
       "2              no      0.0   subida                     normal  \n",
       "3              si      1.5    plano  enfermedad cardiovascular  \n",
       "4              no      0.0   subida                     normal  "
      ]
     },
     "execution_count": 10,
     "metadata": {},
     "output_type": "execute_result"
    }
   ],
   "source": [
    "heartdisease['target'] = heartdisease['target'].astype(str)\n",
    "heartdisease['target'] = heartdisease['target'].str.replace('0', 'normal')\n",
    "heartdisease['target'] = heartdisease['target'].str.replace('1', 'enfermedad cardiovascular')\n",
    "heartdisease.head()"
   ]
  },
  {
   "cell_type": "code",
   "execution_count": 11,
   "metadata": {},
   "outputs": [
    {
     "name": "stdout",
     "output_type": "stream",
     "text": [
      "<class 'pandas.core.frame.DataFrame'>\n",
      "RangeIndex: 1190 entries, 0 to 1189\n",
      "Data columns (total 12 columns):\n",
      " #   Column                    Non-Null Count  Dtype  \n",
      "---  ------                    --------------  -----  \n",
      " 0   age                       1190 non-null   int64  \n",
      " 1   sex                       1190 non-null   object \n",
      " 2   chest pain type           1190 non-null   object \n",
      " 3   resting bp s              1190 non-null   int64  \n",
      " 4   cholesterol               1190 non-null   int64  \n",
      " 5   Glicemia_Basal_Mayor_120  1190 non-null   object \n",
      " 6   resting ecg               1190 non-null   object \n",
      " 7   max heart rate            1190 non-null   int64  \n",
      " 8   exercise angina           1190 non-null   object \n",
      " 9   oldpeak                   1190 non-null   float64\n",
      " 10  ST slope                  1190 non-null   object \n",
      " 11  target                    1190 non-null   object \n",
      "dtypes: float64(1), int64(4), object(7)\n",
      "memory usage: 111.7+ KB\n"
     ]
    }
   ],
   "source": [
    "heartdisease.info()"
   ]
  },
  {
   "cell_type": "markdown",
   "metadata": {},
   "source": [
    "Ya que los datos se encuentran en el formato correcto. procedo a renombrar las columnas a su versión en castellano"
   ]
  },
  {
   "cell_type": "code",
   "execution_count": 12,
   "metadata": {},
   "outputs": [
    {
     "data": {
      "text/html": [
       "<div>\n",
       "<style scoped>\n",
       "    .dataframe tbody tr th:only-of-type {\n",
       "        vertical-align: middle;\n",
       "    }\n",
       "\n",
       "    .dataframe tbody tr th {\n",
       "        vertical-align: top;\n",
       "    }\n",
       "\n",
       "    .dataframe thead th {\n",
       "        text-align: right;\n",
       "    }\n",
       "</style>\n",
       "<table border=\"1\" class=\"dataframe\">\n",
       "  <thead>\n",
       "    <tr style=\"text-align: right;\">\n",
       "      <th></th>\n",
       "      <th>Edad</th>\n",
       "      <th>Genero</th>\n",
       "      <th>Tipo_Dolor_Pecho</th>\n",
       "      <th>Presion_Arterial_Reposo</th>\n",
       "      <th>Colesterol</th>\n",
       "      <th>Glicemia_Basal_Mayor_120</th>\n",
       "      <th>ECG_Reposo</th>\n",
       "      <th>Frecuencia_Cardiaca_Max</th>\n",
       "      <th>Angina_Ejercicio</th>\n",
       "      <th>Depresion_ST</th>\n",
       "      <th>Pendiente_ST</th>\n",
       "      <th>Estado</th>\n",
       "    </tr>\n",
       "  </thead>\n",
       "  <tbody>\n",
       "    <tr>\n",
       "      <th>0</th>\n",
       "      <td>40</td>\n",
       "      <td>masculino</td>\n",
       "      <td>angina atípica</td>\n",
       "      <td>140</td>\n",
       "      <td>289</td>\n",
       "      <td>falso</td>\n",
       "      <td>normal</td>\n",
       "      <td>172</td>\n",
       "      <td>no</td>\n",
       "      <td>0.0</td>\n",
       "      <td>subida</td>\n",
       "      <td>normal</td>\n",
       "    </tr>\n",
       "    <tr>\n",
       "      <th>1</th>\n",
       "      <td>49</td>\n",
       "      <td>femenino</td>\n",
       "      <td>dolor no anginoso</td>\n",
       "      <td>160</td>\n",
       "      <td>180</td>\n",
       "      <td>falso</td>\n",
       "      <td>normal</td>\n",
       "      <td>156</td>\n",
       "      <td>no</td>\n",
       "      <td>1.0</td>\n",
       "      <td>plano</td>\n",
       "      <td>enfermedad cardiovascular</td>\n",
       "    </tr>\n",
       "    <tr>\n",
       "      <th>2</th>\n",
       "      <td>37</td>\n",
       "      <td>masculino</td>\n",
       "      <td>angina atípica</td>\n",
       "      <td>130</td>\n",
       "      <td>283</td>\n",
       "      <td>falso</td>\n",
       "      <td>anormalidad de la onda ST-T</td>\n",
       "      <td>98</td>\n",
       "      <td>no</td>\n",
       "      <td>0.0</td>\n",
       "      <td>subida</td>\n",
       "      <td>normal</td>\n",
       "    </tr>\n",
       "    <tr>\n",
       "      <th>3</th>\n",
       "      <td>48</td>\n",
       "      <td>femenino</td>\n",
       "      <td>asintomático</td>\n",
       "      <td>138</td>\n",
       "      <td>214</td>\n",
       "      <td>falso</td>\n",
       "      <td>normal</td>\n",
       "      <td>108</td>\n",
       "      <td>si</td>\n",
       "      <td>1.5</td>\n",
       "      <td>plano</td>\n",
       "      <td>enfermedad cardiovascular</td>\n",
       "    </tr>\n",
       "    <tr>\n",
       "      <th>4</th>\n",
       "      <td>54</td>\n",
       "      <td>masculino</td>\n",
       "      <td>dolor no anginoso</td>\n",
       "      <td>150</td>\n",
       "      <td>195</td>\n",
       "      <td>falso</td>\n",
       "      <td>normal</td>\n",
       "      <td>122</td>\n",
       "      <td>no</td>\n",
       "      <td>0.0</td>\n",
       "      <td>subida</td>\n",
       "      <td>normal</td>\n",
       "    </tr>\n",
       "  </tbody>\n",
       "</table>\n",
       "</div>"
      ],
      "text/plain": [
       "   Edad     Genero   Tipo_Dolor_Pecho  Presion_Arterial_Reposo  Colesterol  \\\n",
       "0    40  masculino     angina atípica                      140         289   \n",
       "1    49   femenino  dolor no anginoso                      160         180   \n",
       "2    37  masculino     angina atípica                      130         283   \n",
       "3    48   femenino       asintomático                      138         214   \n",
       "4    54  masculino  dolor no anginoso                      150         195   \n",
       "\n",
       "  Glicemia_Basal_Mayor_120                   ECG_Reposo  \\\n",
       "0                    falso                       normal   \n",
       "1                    falso                       normal   \n",
       "2                    falso  anormalidad de la onda ST-T   \n",
       "3                    falso                       normal   \n",
       "4                    falso                       normal   \n",
       "\n",
       "   Frecuencia_Cardiaca_Max Angina_Ejercicio  Depresion_ST Pendiente_ST  \\\n",
       "0                      172               no           0.0       subida   \n",
       "1                      156               no           1.0        plano   \n",
       "2                       98               no           0.0       subida   \n",
       "3                      108               si           1.5        plano   \n",
       "4                      122               no           0.0       subida   \n",
       "\n",
       "                      Estado  \n",
       "0                     normal  \n",
       "1  enfermedad cardiovascular  \n",
       "2                     normal  \n",
       "3  enfermedad cardiovascular  \n",
       "4                     normal  "
      ]
     },
     "execution_count": 12,
     "metadata": {},
     "output_type": "execute_result"
    }
   ],
   "source": [
    "heartdisease.rename(columns={\n",
    "    'age': 'Edad',\n",
    "    'sex': 'Genero',\n",
    "    'chest pain type': 'Tipo_Dolor_Pecho',\n",
    "    'resting bp s': 'Presion_Arterial_Reposo',\n",
    "    'cholesterol': 'Colesterol',\n",
    "    'resting ecg': 'ECG_Reposo',\n",
    "    'max heart rate': 'Frecuencia_Cardiaca_Max',\n",
    "    'exercise angina': 'Angina_Ejercicio',\n",
    "    'oldpeak': 'Depresion_ST',\n",
    "    'ST slope': 'Pendiente_ST',\n",
    "    'target': 'Estado'\n",
    "}, inplace=True)\n",
    "\n",
    "heartdisease.head()"
   ]
  },
  {
   "cell_type": "markdown",
   "metadata": {},
   "source": [
    "Elimino los duplicados en caso de que existan"
   ]
  },
  {
   "cell_type": "code",
   "execution_count": 13,
   "metadata": {},
   "outputs": [
    {
     "data": {
      "text/plain": [
       "(918, 12)"
      ]
     },
     "execution_count": 13,
     "metadata": {},
     "output_type": "execute_result"
    }
   ],
   "source": [
    "heartdisease.drop_duplicates(inplace=True)\n",
    "heartdisease.shape"
   ]
  },
  {
   "cell_type": "code",
   "execution_count": 14,
   "metadata": {},
   "outputs": [
    {
     "name": "stdout",
     "output_type": "stream",
     "text": [
      "<class 'pandas.core.frame.DataFrame'>\n",
      "Index: 918 entries, 0 to 1189\n",
      "Data columns (total 12 columns):\n",
      " #   Column                    Non-Null Count  Dtype  \n",
      "---  ------                    --------------  -----  \n",
      " 0   Edad                      918 non-null    int64  \n",
      " 1   Genero                    918 non-null    object \n",
      " 2   Tipo_Dolor_Pecho          918 non-null    object \n",
      " 3   Presion_Arterial_Reposo   918 non-null    int64  \n",
      " 4   Colesterol                918 non-null    int64  \n",
      " 5   Glicemia_Basal_Mayor_120  918 non-null    object \n",
      " 6   ECG_Reposo                918 non-null    object \n",
      " 7   Frecuencia_Cardiaca_Max   918 non-null    int64  \n",
      " 8   Angina_Ejercicio          918 non-null    object \n",
      " 9   Depresion_ST              918 non-null    float64\n",
      " 10  Pendiente_ST              918 non-null    object \n",
      " 11  Estado                    918 non-null    object \n",
      "dtypes: float64(1), int64(4), object(7)\n",
      "memory usage: 93.2+ KB\n"
     ]
    }
   ],
   "source": [
    "heartdisease.info()"
   ]
  },
  {
   "cell_type": "markdown",
   "metadata": {},
   "source": [
    "Se observa que de 1.190 registros, quedan 918"
   ]
  },
  {
   "cell_type": "markdown",
   "metadata": {},
   "source": [
    "Ya que quiero estudiar una población en concreto, es necesario hacer un filtro para delimitar la población de estudio, he escogido en concreto este grupo de edad de mujeres, ya que según estudios existe una mayor probabilidad de padecer enfermedades cardiovasculares en mujeres ya que la reducción de los niveles de estrógeno que acompaña a la menopausia, se encuentra relacionada con un aumento de los niveles de colesterol\n",
    "https://www.texasheart.org/heart-health/heart-information-center/topics/las-mujeres-y-la-enfermedad-cardiovascular/"
   ]
  },
  {
   "cell_type": "code",
   "execution_count": 15,
   "metadata": {},
   "outputs": [
    {
     "data": {
      "text/html": [
       "<div>\n",
       "<style scoped>\n",
       "    .dataframe tbody tr th:only-of-type {\n",
       "        vertical-align: middle;\n",
       "    }\n",
       "\n",
       "    .dataframe tbody tr th {\n",
       "        vertical-align: top;\n",
       "    }\n",
       "\n",
       "    .dataframe thead th {\n",
       "        text-align: right;\n",
       "    }\n",
       "</style>\n",
       "<table border=\"1\" class=\"dataframe\">\n",
       "  <thead>\n",
       "    <tr style=\"text-align: right;\">\n",
       "      <th></th>\n",
       "      <th>Edad</th>\n",
       "      <th>Genero</th>\n",
       "      <th>Tipo_Dolor_Pecho</th>\n",
       "      <th>Presion_Arterial_Reposo</th>\n",
       "      <th>Colesterol</th>\n",
       "      <th>Glicemia_Basal_Mayor_120</th>\n",
       "      <th>ECG_Reposo</th>\n",
       "      <th>Frecuencia_Cardiaca_Max</th>\n",
       "      <th>Angina_Ejercicio</th>\n",
       "      <th>Depresion_ST</th>\n",
       "      <th>Pendiente_ST</th>\n",
       "      <th>Estado</th>\n",
       "    </tr>\n",
       "  </thead>\n",
       "  <tbody>\n",
       "    <tr>\n",
       "      <th>15</th>\n",
       "      <td>54</td>\n",
       "      <td>femenino</td>\n",
       "      <td>angina atípica</td>\n",
       "      <td>120</td>\n",
       "      <td>273</td>\n",
       "      <td>falso</td>\n",
       "      <td>normal</td>\n",
       "      <td>150</td>\n",
       "      <td>no</td>\n",
       "      <td>1.5</td>\n",
       "      <td>plano</td>\n",
       "      <td>normal</td>\n",
       "    </tr>\n",
       "    <tr>\n",
       "      <th>28</th>\n",
       "      <td>53</td>\n",
       "      <td>femenino</td>\n",
       "      <td>angina atípica</td>\n",
       "      <td>113</td>\n",
       "      <td>468</td>\n",
       "      <td>falso</td>\n",
       "      <td>normal</td>\n",
       "      <td>127</td>\n",
       "      <td>no</td>\n",
       "      <td>0.0</td>\n",
       "      <td>subida</td>\n",
       "      <td>normal</td>\n",
       "    </tr>\n",
       "    <tr>\n",
       "      <th>40</th>\n",
       "      <td>54</td>\n",
       "      <td>femenino</td>\n",
       "      <td>angina atípica</td>\n",
       "      <td>150</td>\n",
       "      <td>230</td>\n",
       "      <td>falso</td>\n",
       "      <td>normal</td>\n",
       "      <td>130</td>\n",
       "      <td>no</td>\n",
       "      <td>0.0</td>\n",
       "      <td>subida</td>\n",
       "      <td>normal</td>\n",
       "    </tr>\n",
       "    <tr>\n",
       "      <th>41</th>\n",
       "      <td>54</td>\n",
       "      <td>femenino</td>\n",
       "      <td>dolor no anginoso</td>\n",
       "      <td>130</td>\n",
       "      <td>294</td>\n",
       "      <td>falso</td>\n",
       "      <td>anormalidad de la onda ST-T</td>\n",
       "      <td>100</td>\n",
       "      <td>si</td>\n",
       "      <td>0.0</td>\n",
       "      <td>plano</td>\n",
       "      <td>enfermedad cardiovascular</td>\n",
       "    </tr>\n",
       "    <tr>\n",
       "      <th>54</th>\n",
       "      <td>52</td>\n",
       "      <td>femenino</td>\n",
       "      <td>asintomático</td>\n",
       "      <td>130</td>\n",
       "      <td>180</td>\n",
       "      <td>falso</td>\n",
       "      <td>normal</td>\n",
       "      <td>140</td>\n",
       "      <td>si</td>\n",
       "      <td>1.5</td>\n",
       "      <td>plano</td>\n",
       "      <td>normal</td>\n",
       "    </tr>\n",
       "  </tbody>\n",
       "</table>\n",
       "</div>"
      ],
      "text/plain": [
       "    Edad    Genero   Tipo_Dolor_Pecho  Presion_Arterial_Reposo  Colesterol  \\\n",
       "15    54  femenino     angina atípica                      120         273   \n",
       "28    53  femenino     angina atípica                      113         468   \n",
       "40    54  femenino     angina atípica                      150         230   \n",
       "41    54  femenino  dolor no anginoso                      130         294   \n",
       "54    52  femenino       asintomático                      130         180   \n",
       "\n",
       "   Glicemia_Basal_Mayor_120                   ECG_Reposo  \\\n",
       "15                    falso                       normal   \n",
       "28                    falso                       normal   \n",
       "40                    falso                       normal   \n",
       "41                    falso  anormalidad de la onda ST-T   \n",
       "54                    falso                       normal   \n",
       "\n",
       "    Frecuencia_Cardiaca_Max Angina_Ejercicio  Depresion_ST Pendiente_ST  \\\n",
       "15                      150               no           1.5        plano   \n",
       "28                      127               no           0.0       subida   \n",
       "40                      130               no           0.0       subida   \n",
       "41                      100               si           0.0        plano   \n",
       "54                      140               si           1.5        plano   \n",
       "\n",
       "                       Estado  \n",
       "15                     normal  \n",
       "28                     normal  \n",
       "40                     normal  \n",
       "41  enfermedad cardiovascular  \n",
       "54                     normal  "
      ]
     },
     "execution_count": 15,
     "metadata": {},
     "output_type": "execute_result"
    }
   ],
   "source": [
    "df_menopausicas = heartdisease[(heartdisease['Genero'] == 'femenino') & (heartdisease['Edad'] >= 50)]\n",
    "\n",
    "df_menopausicas.head()"
   ]
  },
  {
   "cell_type": "markdown",
   "metadata": {},
   "source": [
    "Realizo un describe para conocer las estadísticas de los datos numéricos"
   ]
  },
  {
   "cell_type": "code",
   "execution_count": 16,
   "metadata": {},
   "outputs": [
    {
     "data": {
      "text/html": [
       "<div>\n",
       "<style scoped>\n",
       "    .dataframe tbody tr th:only-of-type {\n",
       "        vertical-align: middle;\n",
       "    }\n",
       "\n",
       "    .dataframe tbody tr th {\n",
       "        vertical-align: top;\n",
       "    }\n",
       "\n",
       "    .dataframe thead th {\n",
       "        text-align: right;\n",
       "    }\n",
       "</style>\n",
       "<table border=\"1\" class=\"dataframe\">\n",
       "  <thead>\n",
       "    <tr style=\"text-align: right;\">\n",
       "      <th></th>\n",
       "      <th>Edad</th>\n",
       "      <th>Presion_Arterial_Reposo</th>\n",
       "      <th>Colesterol</th>\n",
       "      <th>Frecuencia_Cardiaca_Max</th>\n",
       "      <th>Depresion_ST</th>\n",
       "    </tr>\n",
       "  </thead>\n",
       "  <tbody>\n",
       "    <tr>\n",
       "      <th>count</th>\n",
       "      <td>122.000000</td>\n",
       "      <td>122.000000</td>\n",
       "      <td>122.000000</td>\n",
       "      <td>122.000000</td>\n",
       "      <td>122.000000</td>\n",
       "    </tr>\n",
       "    <tr>\n",
       "      <th>mean</th>\n",
       "      <td>58.303279</td>\n",
       "      <td>136.270492</td>\n",
       "      <td>252.909836</td>\n",
       "      <td>141.778689</td>\n",
       "      <td>0.821311</td>\n",
       "    </tr>\n",
       "    <tr>\n",
       "      <th>std</th>\n",
       "      <td>6.062879</td>\n",
       "      <td>19.996296</td>\n",
       "      <td>95.650017</td>\n",
       "      <td>20.671581</td>\n",
       "      <td>1.032947</td>\n",
       "    </tr>\n",
       "    <tr>\n",
       "      <th>min</th>\n",
       "      <td>50.000000</td>\n",
       "      <td>95.000000</td>\n",
       "      <td>0.000000</td>\n",
       "      <td>90.000000</td>\n",
       "      <td>0.000000</td>\n",
       "    </tr>\n",
       "    <tr>\n",
       "      <th>25%</th>\n",
       "      <td>54.000000</td>\n",
       "      <td>120.000000</td>\n",
       "      <td>216.000000</td>\n",
       "      <td>126.250000</td>\n",
       "      <td>0.000000</td>\n",
       "    </tr>\n",
       "    <tr>\n",
       "      <th>50%</th>\n",
       "      <td>57.000000</td>\n",
       "      <td>132.000000</td>\n",
       "      <td>263.500000</td>\n",
       "      <td>145.000000</td>\n",
       "      <td>0.600000</td>\n",
       "    </tr>\n",
       "    <tr>\n",
       "      <th>75%</th>\n",
       "      <td>62.750000</td>\n",
       "      <td>150.000000</td>\n",
       "      <td>304.750000</td>\n",
       "      <td>159.000000</td>\n",
       "      <td>1.275000</td>\n",
       "    </tr>\n",
       "    <tr>\n",
       "      <th>max</th>\n",
       "      <td>76.000000</td>\n",
       "      <td>200.000000</td>\n",
       "      <td>564.000000</td>\n",
       "      <td>179.000000</td>\n",
       "      <td>6.200000</td>\n",
       "    </tr>\n",
       "  </tbody>\n",
       "</table>\n",
       "</div>"
      ],
      "text/plain": [
       "             Edad  Presion_Arterial_Reposo  Colesterol  \\\n",
       "count  122.000000               122.000000  122.000000   \n",
       "mean    58.303279               136.270492  252.909836   \n",
       "std      6.062879                19.996296   95.650017   \n",
       "min     50.000000                95.000000    0.000000   \n",
       "25%     54.000000               120.000000  216.000000   \n",
       "50%     57.000000               132.000000  263.500000   \n",
       "75%     62.750000               150.000000  304.750000   \n",
       "max     76.000000               200.000000  564.000000   \n",
       "\n",
       "       Frecuencia_Cardiaca_Max  Depresion_ST  \n",
       "count               122.000000    122.000000  \n",
       "mean                141.778689      0.821311  \n",
       "std                  20.671581      1.032947  \n",
       "min                  90.000000      0.000000  \n",
       "25%                 126.250000      0.000000  \n",
       "50%                 145.000000      0.600000  \n",
       "75%                 159.000000      1.275000  \n",
       "max                 179.000000      6.200000  "
      ]
     },
     "execution_count": 16,
     "metadata": {},
     "output_type": "execute_result"
    }
   ],
   "source": [
    "df_menopausicas.describe()\n"
   ]
  },
  {
   "cell_type": "markdown",
   "metadata": {},
   "source": [
    "### Observo si existen outliers entre los niveles de Colesterol y realizo los cambios para eliminarlos o transformarlos"
   ]
  },
  {
   "cell_type": "markdown",
   "metadata": {},
   "source": [
    "Primero realizo un plotting de cajas y bigotes para conocer mejor la distribución de registros y saber si existen outliers"
   ]
  },
  {
   "cell_type": "code",
   "execution_count": 17,
   "metadata": {},
   "outputs": [
    {
     "data": {
      "image/png": "[encoded data removed]",
      "text/plain": [
       "<Figure size 1200x600 with 1 Axes>"
      ]
     },
     "metadata": {},
     "output_type": "display_data"
    }
   ],
   "source": [
    "sns.set_style(style=\"whitegrid\")\n",
    "\n",
    "plt.figure(figsize=(12, 6))\n",
    "\n",
    "sns.boxplot(data=df_menopausicas, x='Colesterol', color='skyblue')\n",
    "plt.title('Distribución de Colesterol en Mujeres Mayores de 50 años')\n",
    "plt.xlabel('Colesterol (mg/dL)')\n",
    "\n",
    "plt.show()"
   ]
  },
  {
   "cell_type": "markdown",
   "metadata": {},
   "source": [
    "Reviso los datos del campo correspondiente a niveles de colesterol mediante un describe"
   ]
  },
  {
   "cell_type": "code",
   "execution_count": 18,
   "metadata": {},
   "outputs": [
    {
     "data": {
      "text/plain": [
       "count    122.000000\n",
       "mean     252.909836\n",
       "std       95.650017\n",
       "min        0.000000\n",
       "25%      216.000000\n",
       "50%      263.500000\n",
       "75%      304.750000\n",
       "max      564.000000\n",
       "Name: Colesterol, dtype: float64"
      ]
     },
     "execution_count": 18,
     "metadata": {},
     "output_type": "execute_result"
    }
   ],
   "source": [
    "df_menopausicas[\"Colesterol\"].describe()"
   ]
  },
  {
   "cell_type": "markdown",
   "metadata": {},
   "source": [
    "Elimino mediante un filtro los valores correspondientes a 0 ya que no son compatibles con el estudio debido a que es imposible tener ese nivel de colesterol y para que no impacte de esta manera la media"
   ]
  },
  {
   "cell_type": "code",
   "execution_count": 19,
   "metadata": {},
   "outputs": [
    {
     "data": {
      "text/html": [
       "<div>\n",
       "<style scoped>\n",
       "    .dataframe tbody tr th:only-of-type {\n",
       "        vertical-align: middle;\n",
       "    }\n",
       "\n",
       "    .dataframe tbody tr th {\n",
       "        vertical-align: top;\n",
       "    }\n",
       "\n",
       "    .dataframe thead th {\n",
       "        text-align: right;\n",
       "    }\n",
       "</style>\n",
       "<table border=\"1\" class=\"dataframe\">\n",
       "  <thead>\n",
       "    <tr style=\"text-align: right;\">\n",
       "      <th></th>\n",
       "      <th>Edad</th>\n",
       "      <th>Presion_Arterial_Reposo</th>\n",
       "      <th>Colesterol</th>\n",
       "      <th>Frecuencia_Cardiaca_Max</th>\n",
       "      <th>Depresion_ST</th>\n",
       "    </tr>\n",
       "  </thead>\n",
       "  <tbody>\n",
       "    <tr>\n",
       "      <th>count</th>\n",
       "      <td>113.000000</td>\n",
       "      <td>113.000000</td>\n",
       "      <td>113.000000</td>\n",
       "      <td>113.000000</td>\n",
       "      <td>113.000000</td>\n",
       "    </tr>\n",
       "    <tr>\n",
       "      <th>mean</th>\n",
       "      <td>58.035398</td>\n",
       "      <td>135.778761</td>\n",
       "      <td>273.053097</td>\n",
       "      <td>143.079646</td>\n",
       "      <td>0.838938</td>\n",
       "    </tr>\n",
       "    <tr>\n",
       "      <th>std</th>\n",
       "      <td>5.922007</td>\n",
       "      <td>19.028050</td>\n",
       "      <td>65.839339</td>\n",
       "      <td>20.412331</td>\n",
       "      <td>1.054365</td>\n",
       "    </tr>\n",
       "    <tr>\n",
       "      <th>min</th>\n",
       "      <td>50.000000</td>\n",
       "      <td>100.000000</td>\n",
       "      <td>149.000000</td>\n",
       "      <td>96.000000</td>\n",
       "      <td>0.000000</td>\n",
       "    </tr>\n",
       "    <tr>\n",
       "      <th>25%</th>\n",
       "      <td>54.000000</td>\n",
       "      <td>120.000000</td>\n",
       "      <td>225.000000</td>\n",
       "      <td>130.000000</td>\n",
       "      <td>0.000000</td>\n",
       "    </tr>\n",
       "    <tr>\n",
       "      <th>50%</th>\n",
       "      <td>57.000000</td>\n",
       "      <td>132.000000</td>\n",
       "      <td>269.000000</td>\n",
       "      <td>148.000000</td>\n",
       "      <td>0.600000</td>\n",
       "    </tr>\n",
       "    <tr>\n",
       "      <th>75%</th>\n",
       "      <td>62.000000</td>\n",
       "      <td>146.000000</td>\n",
       "      <td>307.000000</td>\n",
       "      <td>160.000000</td>\n",
       "      <td>1.300000</td>\n",
       "    </tr>\n",
       "    <tr>\n",
       "      <th>max</th>\n",
       "      <td>76.000000</td>\n",
       "      <td>200.000000</td>\n",
       "      <td>564.000000</td>\n",
       "      <td>179.000000</td>\n",
       "      <td>6.200000</td>\n",
       "    </tr>\n",
       "  </tbody>\n",
       "</table>\n",
       "</div>"
      ],
      "text/plain": [
       "             Edad  Presion_Arterial_Reposo  Colesterol  \\\n",
       "count  113.000000               113.000000  113.000000   \n",
       "mean    58.035398               135.778761  273.053097   \n",
       "std      5.922007                19.028050   65.839339   \n",
       "min     50.000000               100.000000  149.000000   \n",
       "25%     54.000000               120.000000  225.000000   \n",
       "50%     57.000000               132.000000  269.000000   \n",
       "75%     62.000000               146.000000  307.000000   \n",
       "max     76.000000               200.000000  564.000000   \n",
       "\n",
       "       Frecuencia_Cardiaca_Max  Depresion_ST  \n",
       "count               113.000000    113.000000  \n",
       "mean                143.079646      0.838938  \n",
       "std                  20.412331      1.054365  \n",
       "min                  96.000000      0.000000  \n",
       "25%                 130.000000      0.000000  \n",
       "50%                 148.000000      0.600000  \n",
       "75%                 160.000000      1.300000  \n",
       "max                 179.000000      6.200000  "
      ]
     },
     "execution_count": 19,
     "metadata": {},
     "output_type": "execute_result"
    }
   ],
   "source": [
    "df_menopausicas = df_menopausicas[df_menopausicas['Colesterol'] > 0]\n",
    "df_menopausicas.describe()"
   ]
  },
  {
   "cell_type": "markdown",
   "metadata": {},
   "source": [
    "También filtro los registros con niveles de colesterol superior a 400 mg/dl (niveles correspondientes a pacientes con hipercolesterolemia)"
   ]
  },
  {
   "cell_type": "code",
   "execution_count": 20,
   "metadata": {},
   "outputs": [
    {
     "data": {
      "text/html": [
       "<div>\n",
       "<style scoped>\n",
       "    .dataframe tbody tr th:only-of-type {\n",
       "        vertical-align: middle;\n",
       "    }\n",
       "\n",
       "    .dataframe tbody tr th {\n",
       "        vertical-align: top;\n",
       "    }\n",
       "\n",
       "    .dataframe thead th {\n",
       "        text-align: right;\n",
       "    }\n",
       "</style>\n",
       "<table border=\"1\" class=\"dataframe\">\n",
       "  <thead>\n",
       "    <tr style=\"text-align: right;\">\n",
       "      <th></th>\n",
       "      <th>Edad</th>\n",
       "      <th>Genero</th>\n",
       "      <th>Tipo_Dolor_Pecho</th>\n",
       "      <th>Presion_Arterial_Reposo</th>\n",
       "      <th>Colesterol</th>\n",
       "      <th>Glicemia_Basal_Mayor_120</th>\n",
       "      <th>ECG_Reposo</th>\n",
       "      <th>Frecuencia_Cardiaca_Max</th>\n",
       "      <th>Angina_Ejercicio</th>\n",
       "      <th>Depresion_ST</th>\n",
       "      <th>Pendiente_ST</th>\n",
       "      <th>Estado</th>\n",
       "    </tr>\n",
       "  </thead>\n",
       "  <tbody>\n",
       "    <tr>\n",
       "      <th>28</th>\n",
       "      <td>53</td>\n",
       "      <td>femenino</td>\n",
       "      <td>angina atípica</td>\n",
       "      <td>113</td>\n",
       "      <td>468</td>\n",
       "      <td>falso</td>\n",
       "      <td>normal</td>\n",
       "      <td>127</td>\n",
       "      <td>no</td>\n",
       "      <td>0.0</td>\n",
       "      <td>subida</td>\n",
       "      <td>normal</td>\n",
       "    </tr>\n",
       "    <tr>\n",
       "      <th>618</th>\n",
       "      <td>67</td>\n",
       "      <td>femenino</td>\n",
       "      <td>dolor no anginoso</td>\n",
       "      <td>115</td>\n",
       "      <td>564</td>\n",
       "      <td>falso</td>\n",
       "      <td>hipertrofia del ventriculo izq</td>\n",
       "      <td>160</td>\n",
       "      <td>no</td>\n",
       "      <td>1.6</td>\n",
       "      <td>plano</td>\n",
       "      <td>normal</td>\n",
       "    </tr>\n",
       "    <tr>\n",
       "      <th>626</th>\n",
       "      <td>63</td>\n",
       "      <td>femenino</td>\n",
       "      <td>asintomático</td>\n",
       "      <td>150</td>\n",
       "      <td>407</td>\n",
       "      <td>falso</td>\n",
       "      <td>hipertrofia del ventriculo izq</td>\n",
       "      <td>154</td>\n",
       "      <td>no</td>\n",
       "      <td>4.0</td>\n",
       "      <td>plano</td>\n",
       "      <td>enfermedad cardiovascular</td>\n",
       "    </tr>\n",
       "    <tr>\n",
       "      <th>669</th>\n",
       "      <td>65</td>\n",
       "      <td>femenino</td>\n",
       "      <td>dolor no anginoso</td>\n",
       "      <td>140</td>\n",
       "      <td>417</td>\n",
       "      <td>verdadero</td>\n",
       "      <td>hipertrofia del ventriculo izq</td>\n",
       "      <td>157</td>\n",
       "      <td>no</td>\n",
       "      <td>0.8</td>\n",
       "      <td>subida</td>\n",
       "      <td>normal</td>\n",
       "    </tr>\n",
       "    <tr>\n",
       "      <th>798</th>\n",
       "      <td>56</td>\n",
       "      <td>femenino</td>\n",
       "      <td>asintomático</td>\n",
       "      <td>134</td>\n",
       "      <td>409</td>\n",
       "      <td>falso</td>\n",
       "      <td>hipertrofia del ventriculo izq</td>\n",
       "      <td>150</td>\n",
       "      <td>si</td>\n",
       "      <td>1.9</td>\n",
       "      <td>plano</td>\n",
       "      <td>enfermedad cardiovascular</td>\n",
       "    </tr>\n",
       "  </tbody>\n",
       "</table>\n",
       "</div>"
      ],
      "text/plain": [
       "     Edad    Genero   Tipo_Dolor_Pecho  Presion_Arterial_Reposo  Colesterol  \\\n",
       "28     53  femenino     angina atípica                      113         468   \n",
       "618    67  femenino  dolor no anginoso                      115         564   \n",
       "626    63  femenino       asintomático                      150         407   \n",
       "669    65  femenino  dolor no anginoso                      140         417   \n",
       "798    56  femenino       asintomático                      134         409   \n",
       "\n",
       "    Glicemia_Basal_Mayor_120                      ECG_Reposo  \\\n",
       "28                     falso                          normal   \n",
       "618                    falso  hipertrofia del ventriculo izq   \n",
       "626                    falso  hipertrofia del ventriculo izq   \n",
       "669                verdadero  hipertrofia del ventriculo izq   \n",
       "798                    falso  hipertrofia del ventriculo izq   \n",
       "\n",
       "     Frecuencia_Cardiaca_Max Angina_Ejercicio  Depresion_ST Pendiente_ST  \\\n",
       "28                       127               no           0.0       subida   \n",
       "618                      160               no           1.6        plano   \n",
       "626                      154               no           4.0        plano   \n",
       "669                      157               no           0.8       subida   \n",
       "798                      150               si           1.9        plano   \n",
       "\n",
       "                        Estado  \n",
       "28                      normal  \n",
       "618                     normal  \n",
       "626  enfermedad cardiovascular  \n",
       "669                     normal  \n",
       "798  enfermedad cardiovascular  "
      ]
     },
     "execution_count": 20,
     "metadata": {},
     "output_type": "execute_result"
    }
   ],
   "source": [
    "df_high_cholesterol = df_menopausicas[df_menopausicas['Colesterol'] > 400]\n",
    "df_high_cholesterol"
   ]
  },
  {
   "cell_type": "markdown",
   "metadata": {},
   "source": [
    "Se observa que solo existen 2 outliers con cifras que pueden desviar la media, por lo que se decide eliminarlos, recortando los valores superiores al límite.\n",
    "Se indica que el límite superior es 417, para no eliminar este registro del estudio."
   ]
  },
  {
   "cell_type": "code",
   "execution_count": 21,
   "metadata": {},
   "outputs": [
    {
     "data": {
      "text/plain": [
       "count    113.000000\n",
       "mean     271.300885\n",
       "std       60.055017\n",
       "min      149.000000\n",
       "25%      225.000000\n",
       "50%      269.000000\n",
       "75%      307.000000\n",
       "max      417.000000\n",
       "Name: Colesterol, dtype: float64"
      ]
     },
     "execution_count": 21,
     "metadata": {},
     "output_type": "execute_result"
    }
   ],
   "source": [
    "limite_superior = 417\n",
    "\n",
    "df_menopausicas['Colesterol'] = df_menopausicas['Colesterol'].clip(upper=limite_superior)\n",
    "\n",
    "df_menopausicas['Colesterol'].describe()"
   ]
  },
  {
   "cell_type": "markdown",
   "metadata": {},
   "source": [
    "Realizo el plotting posterior al manejo de los outliers"
   ]
  },
  {
   "cell_type": "code",
   "execution_count": 22,
   "metadata": {},
   "outputs": [
    {
     "data": {
      "image/png": "[encoded data removed]",
      "text/plain": [
       "<Figure size 1200x600 with 1 Axes>"
      ]
     },
     "metadata": {},
     "output_type": "display_data"
    }
   ],
   "source": [
    "plt.figure(figsize=(12, 6))\n",
    "\n",
    "sns.boxplot(data=df_menopausicas, x='Colesterol', color='skyblue')\n",
    "plt.title('Distribución de Colesterol en Mujeres Mayores de 50 años')\n",
    "plt.xlabel('Colesterol (mg/dL)')\n",
    "\n",
    "plt.show()"
   ]
  },
  {
   "cell_type": "markdown",
   "metadata": {},
   "source": [
    "También es prudente observar la distribución de frecuencias de niveles de colesterol "
   ]
  },
  {
   "cell_type": "code",
   "execution_count": 23,
   "metadata": {},
   "outputs": [
    {
     "data": {
      "image/png": "[encoded data removed]",
      "text/plain": [
       "<Figure size 1000x500 with 1 Axes>"
      ]
     },
     "metadata": {},
     "output_type": "display_data"
    }
   ],
   "source": [
    "plt.figure(figsize=(10, 5))\n",
    "sns.histplot(df_menopausicas['Colesterol'], bins=15, kde=True)\n",
    "plt.title('Histograma de Niveles de Colesterol')\n",
    "plt.xlabel('Colesterol (mg/dL)')\n",
    "plt.ylabel('Frecuencia')\n",
    "plt.axvline(x=200, color='r', linestyle='--', label='Límite Alto: 200 mg/dL')\n",
    "plt.legend()\n",
    "plt.show()"
   ]
  },
  {
   "cell_type": "markdown",
   "metadata": {},
   "source": [
    "### Observo si existen outliers entre los datos correspondientes a presión arterial y realizo los cambios para eliminarlos o transformarlos"
   ]
  },
  {
   "cell_type": "markdown",
   "metadata": {},
   "source": [
    "En el dataset solo se encuentra la presión arterial sistólica ya que esta es una medición importante entre los factores de riesgo a evaluar para realizar el diagnóstico de enfermedades cardiovasculares en individuos con edad mayor a 50 años\n",
    "https://www.heart.org/en/health-topics/high-blood-pressure/understanding-blood-pressure-readings"
   ]
  },
  {
   "cell_type": "code",
   "execution_count": 24,
   "metadata": {},
   "outputs": [
    {
     "data": {
      "image/png": "[encoded data removed]",
      "text/plain": [
       "<Figure size 1200x600 with 1 Axes>"
      ]
     },
     "metadata": {},
     "output_type": "display_data"
    }
   ],
   "source": [
    "plt.figure(figsize=(12, 6))\n",
    "\n",
    "sns.boxplot(data=df_menopausicas, x='Presion_Arterial_Reposo', color='salmon')\n",
    "plt.title('Distribución de Presión Arterial Sistólica en Mujeres Mayores de 50 años')\n",
    "plt.xlabel('Presión Arterial Sistólica (mmHg)')\n",
    "\n",
    "plt.show()"
   ]
  },
  {
   "cell_type": "code",
   "execution_count": 25,
   "metadata": {},
   "outputs": [
    {
     "data": {
      "text/plain": [
       "count    113.000000\n",
       "mean     135.778761\n",
       "std       19.028050\n",
       "min      100.000000\n",
       "25%      120.000000\n",
       "50%      132.000000\n",
       "75%      146.000000\n",
       "max      200.000000\n",
       "Name: Presion_Arterial_Reposo, dtype: float64"
      ]
     },
     "execution_count": 25,
     "metadata": {},
     "output_type": "execute_result"
    }
   ],
   "source": [
    "df_menopausicas[\"Presion_Arterial_Reposo\"].describe()"
   ]
  },
  {
   "cell_type": "markdown",
   "metadata": {},
   "source": [
    "Solo existe un outlier en esta variable, y ya que se encuentra relacionada con la investigación y eliminarlo puede comportar eliminar un registro importante, he decidido dejarlo"
   ]
  },
  {
   "cell_type": "code",
   "execution_count": 26,
   "metadata": {},
   "outputs": [],
   "source": [
    "heartdisease.to_csv('heartdiseasefem_procesado.csv', index=False, encoding='utf-8')"
   ]
  },
  {
   "cell_type": "markdown",
   "metadata": {},
   "source": [
    "# Objetivo general:\n",
    "\n",
    "# Analizar las posibles relaciones entre la edad, el nivel de colesterol en sangre y la presión arterial en mujeres mayores de 50 años, con el fin de identificar patrones y asociaciones que puedan contribuir al entendimiento de factores de riesgo cardiovasculares en esta población."
   ]
  },
  {
   "cell_type": "markdown",
   "metadata": {},
   "source": [
    "Calculo la matriz de correlación de Pearson entre todas las variables tras haber hecho manejo de los outliers"
   ]
  },
  {
   "cell_type": "code",
   "execution_count": 27,
   "metadata": {},
   "outputs": [
    {
     "name": "stdout",
     "output_type": "stream",
     "text": [
      "Matriz de correlación de Pearson:\n",
      "                             Edad  Colesterol  Presion_Arterial_Reposo\n",
      "Edad                     1.000000    0.024724                 0.150142\n",
      "Colesterol               0.024724    1.000000                 0.091663\n",
      "Presion_Arterial_Reposo  0.150142    0.091663                 1.000000\n"
     ]
    }
   ],
   "source": [
    "correlation_matrix = df_menopausicas[['Edad', 'Colesterol', 'Presion_Arterial_Reposo']].corr(method='pearson')\n",
    "\n",
    "print(\"Matriz de correlación de Pearson:\")\n",
    "print(correlation_matrix)"
   ]
  },
  {
   "cell_type": "markdown",
   "metadata": {},
   "source": [
    "1. **Correlación entre Edad y Colesterol:** 0.0247\n",
    "   - Este valor es cercano a 0, lo que sugiere una correlación muy débil entre la edad y el nivel de colesterol en este grupo.\n",
    "\n",
    "2. **Correlación entre Edad y Presión Arterial en Reposo:** 0.1501\n",
    "   - Este coeficiente muestra una correlación positiva débil entre la edad y la presión arterial en reposo. Sin embargo, la fuerza de esta relación es baja y puede no ser significativa sin una prueba de p-value que confirme su relevancia estadística.\n",
    "\n",
    "3. **Correlación entre Colesterol y Presión Arterial en Reposo:** 0.0917\n",
    "   - También es un valor cercano a 0, indicando una relación muy débil entre el colesterol y la presión arterial en reposo, lo que sugiere que en este grupo no existe una asociación fuerte entre estos dos factores.\n",
    "\n",
    "Estos resultados indican que no se observan correlaciones fuertes entre ninguna de las variables (edad, colesterol, y presión arterial en reposo) en el grupo de mujeres mayores de 50 años de este conjunto de datos.\n",
    "\n",
    "Esto se observa en el heatmap de una forma más gráfica"
   ]
  },
  {
   "cell_type": "code",
   "execution_count": 28,
   "metadata": {},
   "outputs": [
    {
     "data": {
      "image/png": "[encoded data removed]",
      "text/plain": [
       "<Figure size 800x600 with 2 Axes>"
      ]
     },
     "metadata": {},
     "output_type": "display_data"
    }
   ],
   "source": [
    "plt.figure(figsize=(8, 6))\n",
    "sns.heatmap(correlation_matrix, annot=True, cmap=\"coolwarm\", center=0, linewidths=0.5)\n",
    "plt.title(\"Matriz de Correlación de Spearman: Edad, Colesterol y Presión Arterial\")\n",
    "plt.show()\n"
   ]
  },
  {
   "cell_type": "markdown",
   "metadata": {},
   "source": [
    "### 1. Analizar la relación entre la edad y el nivel de colesterol en sangre en mujeres de 50 años en adelante para identificar si la edad es un factor asociado con el colesterol en este grupo.\n"
   ]
  },
  {
   "cell_type": "code",
   "execution_count": 29,
   "metadata": {},
   "outputs": [
    {
     "name": "stdout",
     "output_type": "stream",
     "text": [
      "Coeficiente de correlación entre edad y colesterol: 0.024723517540341692, P-value: 0.7949160855218328\n"
     ]
    }
   ],
   "source": [
    "corr_edad_col, p_value_edad_col = pearsonr(df_menopausicas['Edad'], df_menopausicas['Colesterol'])\n",
    "print(f\"Coeficiente de correlación entre edad y colesterol: {corr_edad_col}, P-value: {p_value_edad_col}\")"
   ]
  },
  {
   "cell_type": "markdown",
   "metadata": {},
   "source": [
    "- Correlación: El coeficiente de 0.0247 es muy cercano a 0, lo que sugiere una correlación extremadamente débil entre la edad y el colesterol en este grupo de mujeres mayores de 50 años. En términos prácticos, esto indica que la edad no tiene una relación lineal significativa con los niveles de colesterol en sangre en esta población.\n",
    "\n",
    "- Significancia estadística: El p-value de 0.795 es mucho mayor que el umbral común de 0.05, lo que significa que la relación observada no es estadísticamente significativa.\n",
    "\n",
    "Este resultado indica que, en este conjunto de datos, la edad no parece ser un factor asociado con el nivel de colesterol en mujeres mayores de 50 años."
   ]
  },
  {
   "cell_type": "markdown",
   "metadata": {},
   "source": [
    "### 2. Examinar la relación entre la edad y la presión arterial en mujeres de 45 años en adelante para determinar si la presión arterial tiende a variar con la edad en esta población."
   ]
  },
  {
   "cell_type": "code",
   "execution_count": 30,
   "metadata": {},
   "outputs": [
    {
     "name": "stdout",
     "output_type": "stream",
     "text": [
      "Coeficiente de correlación entre edad y presión arterial: 0.15014180755542683, P-value: 0.11244580328926469\n"
     ]
    }
   ],
   "source": [
    "# Correlación entre edad y presión arterial en reposo\n",
    "corr_edad_pa, p_value_edad_pa = pearsonr(df_menopausicas['Edad'], df_menopausicas['Presion_Arterial_Reposo'])\n",
    "print(f\"Coeficiente de correlación entre edad y presión arterial: {corr_edad_pa}, P-value: {p_value_edad_pa}\")\n",
    "\n"
   ]
  },
  {
   "cell_type": "markdown",
   "metadata": {},
   "source": [
    "- Correlación: El coeficiente de 0.1501 indica una correlación positiva débil entre la edad y la presión arterial en este grupo de mujeres mayores de 50 años. Aunque hay una tendencia leve, la fuerza de esta relación es bastante baja.\n",
    "\n",
    "- Significancia estadística: El p-value de 0.112 es superior al umbral común de 0.05, lo cual sugiere que la relación observada no es estadísticamente significativa. Esto significa que no podemos afirmar con confianza que la edad esté asociada con cambios en la presión arterial en esta población; la relación observada podría ser aleatoria.\n",
    "\n",
    "En resumen, no hay evidencia suficiente para concluir que exista una relación estadísticamente significativa entre la edad y la presión arterial en reposo en este grupo."
   ]
  },
  {
   "cell_type": "markdown",
   "metadata": {},
   "source": [
    "### 3. Explorar la relación entre el nivel de colesterol y la presión arterial en mujeres de 45 años en adelante para evaluar si los niveles de colesterol están asociados con variaciones en la presión arterial, considerando su impacto fisiológico en la circulación."
   ]
  },
  {
   "cell_type": "code",
   "execution_count": 31,
   "metadata": {},
   "outputs": [
    {
     "name": "stdout",
     "output_type": "stream",
     "text": [
      "Coeficiente de correlación entre colesterol y presión arterial: 0.09166272440721172, P-value: 0.3342499310742347\n"
     ]
    }
   ],
   "source": [
    "# Correlación entre colesterol y presión arterial en reposo\n",
    "corr_col_pa, p_value_col_pa = pearsonr(df_menopausicas['Colesterol'], df_menopausicas['Presion_Arterial_Reposo'])\n",
    "print(f\"Coeficiente de correlación entre colesterol y presión arterial: {corr_col_pa}, P-value: {p_value_col_pa}\")"
   ]
  },
  {
   "cell_type": "markdown",
   "metadata": {},
   "source": [
    "- Correlación: El coeficiente de 0.0917 sugiere una correlación positiva muy débil entre el colesterol y la presión arterial en reposo. Este valor cercano a 0 indica que prácticamente no hay una relación lineal entre estas dos variables en este grupo de mujeres mayores de 50 años.\n",
    "\n",
    "- Significancia estadística: El p-value de 0.334 es considerablemente mayor que el umbral de 0.05, lo que indica que esta relación no es estadísticamente significativa. En otras palabras, la asociación observada entre el colesterol y la presión arterial en reposo probablemente sea aleatoria en este conjunto de datos.\n",
    "\n",
    "En conclusión, no se observa una relación significativa entre los niveles de colesterol y la presión arterial en reposo para esta población."
   ]
  },
  {
   "cell_type": "code",
   "execution_count": 32,
   "metadata": {},
   "outputs": [
    {
     "data": {
      "text/plain": [
       "Text(0.5, 1.03, 'Correlación entre edad y Niveles de Colesterol')"
      ]
     },
     "execution_count": 32,
     "metadata": {},
     "output_type": "execute_result"
    },
    {
     "data": {
      "image/png": "[encoded data removed]",
      "text/plain": [
       "<Figure size 640x480 with 1 Axes>"
      ]
     },
     "metadata": {},
     "output_type": "display_data"
    }
   ],
   "source": [
    "col_edad= sns.scatterplot(data= df_menopausicas, x = \"Colesterol\", y=\"Edad\")\n",
    "col_edad.figure.suptitle('Correlación entre edad y Niveles de Colesterol', y=1.03)"
   ]
  },
  {
   "cell_type": "code",
   "execution_count": 33,
   "metadata": {},
   "outputs": [
    {
     "data": {
      "text/plain": [
       "Text(0.5, 1.03, 'Correlación entre Presión Arterial Sistólica en Reposo y Edad')"
      ]
     },
     "execution_count": 33,
     "metadata": {},
     "output_type": "execute_result"
    },
    {
     "data": {
      "image/png": "[encoded data removed]",
      "text/plain": [
       "<Figure size 640x480 with 1 Axes>"
      ]
     },
     "metadata": {},
     "output_type": "display_data"
    }
   ],
   "source": [
    "PAR_edad= sns.scatterplot(data= df_menopausicas, x = \"Presion_Arterial_Reposo\", y=\"Edad\")\n",
    "PAR_edad.figure.suptitle('Correlación entre Presión Arterial Sistólica en Reposo y Edad', y=1.03)"
   ]
  },
  {
   "cell_type": "code",
   "execution_count": 34,
   "metadata": {},
   "outputs": [
    {
     "data": {
      "text/plain": [
       "Text(0.5, 1.03, 'Correlación entre Colesterol y PA Sistólica en Reposo')"
      ]
     },
     "execution_count": 34,
     "metadata": {},
     "output_type": "execute_result"
    },
    {
     "data": {
      "image/png": "[encoded data removed]",
      "text/plain": [
       "<Figure size 640x480 with 1 Axes>"
      ]
     },
     "metadata": {},
     "output_type": "display_data"
    }
   ],
   "source": [
    "PAR_Col =sns.scatterplot(data= df_menopausicas, x = \"Colesterol\", y=\"Presion_Arterial_Reposo\")\n",
    "PAR_Col.figure.suptitle('Correlación entre Colesterol y PA Sistólica en Reposo', y=1.03)"
   ]
  }
 ],
 "metadata": {
  "kernelspec": {
   "display_name": "Python 3",
   "language": "python",
   "name": "python3"
  },
  "language_info": {
   "codemirror_mode": {
    "name": "ipython",
    "version": 3
   },
   "file_extension": ".py",
   "mimetype": "text/x-python",
   "name": "python",
   "nbconvert_exporter": "python",
   "pygments_lexer": "ipython3",
   "version": "3.12.4"
  }
 },
 "nbformat": 4,
 "nbformat_minor": 2
}
